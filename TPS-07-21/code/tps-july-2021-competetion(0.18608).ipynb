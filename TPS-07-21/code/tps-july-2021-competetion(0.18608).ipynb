{
 "cells": [
  {
   "cell_type": "markdown",
   "id": "75774106",
   "metadata": {
    "papermill": {
     "duration": 0.009848,
     "end_time": "2021-07-12T09:30:22.722295",
     "exception": false,
     "start_time": "2021-07-12T09:30:22.712447",
     "status": "completed"
    },
    "tags": []
   },
   "source": [
    "please upvote if you found it useful."
   ]
  },
  {
   "cell_type": "markdown",
   "id": "dc497f39",
   "metadata": {
    "papermill": {
     "duration": 0.008233,
     "end_time": "2021-07-12T09:30:22.739698",
     "exception": false,
     "start_time": "2021-07-12T09:30:22.731465",
     "status": "completed"
    },
    "tags": []
   },
   "source": [
    "# CREDITS"
   ]
  },
  {
   "cell_type": "code",
   "execution_count": 1,
   "id": "f432acbf",
   "metadata": {
    "execution": {
     "iopub.execute_input": "2021-07-12T09:30:22.771469Z",
     "iopub.status.busy": "2021-07-12T09:30:22.770736Z",
     "iopub.status.idle": "2021-07-12T09:30:22.775739Z",
     "shell.execute_reply": "2021-07-12T09:30:22.775010Z"
    },
    "papermill": {
     "duration": 0.027224,
     "end_time": "2021-07-12T09:30:22.775896",
     "exception": false,
     "start_time": "2021-07-12T09:30:22.748672",
     "status": "completed"
    },
    "tags": []
   },
   "outputs": [
    {
     "data": {
      "text/plain": [
       "'https://www.kaggle.com/andy6804tw/catboost-13feature-cross-validation'"
      ]
     },
     "execution_count": 1,
     "metadata": {},
     "output_type": "execute_result"
    }
   ],
   "source": [
    "'https://www.kaggle.com/alexryzhkov/tps-lightautoml-baseline-with-pseudolabels'\n",
    "\n",
    "'https://www.kaggle.com/paddykb/tps-07-turtles-on-turtles'\n",
    "\n",
    "'https://www.kaggle.com/pourchot/simple-neural-network-with-pseudolabel-benchmark'\n",
    "\n",
    "'https://www.kaggle.com/andy6804tw/catboost-13feature-cross-validation'\n"
   ]
  },
  {
   "cell_type": "markdown",
   "id": "4ab0f124",
   "metadata": {
    "papermill": {
     "duration": 0.008877,
     "end_time": "2021-07-12T09:30:22.795038",
     "exception": false,
     "start_time": "2021-07-12T09:30:22.786161",
     "status": "completed"
    },
    "tags": []
   },
   "source": [
    "The idea is to get the output of differnt training models and mean them to get the better output\n",
    "you can either train and get the all outputs by yourself or you can use submissions from others and create mean of the data both ways work."
   ]
  },
  {
   "cell_type": "code",
   "execution_count": 2,
   "id": "1ad3bfd2",
   "metadata": {
    "_cell_guid": "b1076dfc-b9ad-4769-8c92-a6c4dae69d19",
    "_uuid": "8f2839f25d086af736a60e9eeb907d3b93b6e0e5",
    "execution": {
     "iopub.execute_input": "2021-07-12T09:30:22.819061Z",
     "iopub.status.busy": "2021-07-12T09:30:22.818352Z",
     "iopub.status.idle": "2021-07-12T09:30:22.921492Z",
     "shell.execute_reply": "2021-07-12T09:30:22.922031Z",
     "shell.execute_reply.started": "2021-07-12T09:28:30.331162Z"
    },
    "papermill": {
     "duration": 0.11808,
     "end_time": "2021-07-12T09:30:22.922257",
     "exception": false,
     "start_time": "2021-07-12T09:30:22.804177",
     "status": "completed"
    },
    "tags": []
   },
   "outputs": [
    {
     "name": "stdout",
     "output_type": "stream",
     "text": [
      "/kaggle/input/tps-lightautoml-baseline-with-pseudolabels/__results__.html\n",
      "/kaggle/input/tps-lightautoml-baseline-with-pseudolabels/__notebook_source__.ipynb\n",
      "/kaggle/input/tps-lightautoml-baseline-with-pseudolabels/lightautoml_with_pseudolabelling_kernel_version_8.csv\n",
      "/kaggle/input/tps-lightautoml-baseline-with-pseudolabels/__notebook__.ipynb\n",
      "/kaggle/input/tps-lightautoml-baseline-with-pseudolabels/__output__.json\n",
      "/kaggle/input/tps-lightautoml-baseline-with-pseudolabels/custom.css\n",
      "/kaggle/input/tps-lightautoml-baseline-with-pseudolabels/__results___files/__results___34_2.png\n",
      "/kaggle/input/tps-lightautoml-baseline-with-pseudolabels/__results___files/__results___34_1.png\n",
      "/kaggle/input/tps-lightautoml-baseline-with-pseudolabels/__results___files/__results___34_0.png\n",
      "/kaggle/input/tabular-playground-series-jul-2021/sample_submission.csv\n",
      "/kaggle/input/tabular-playground-series-jul-2021/train.csv\n",
      "/kaggle/input/tabular-playground-series-jul-2021/test.csv\n",
      "/kaggle/input/2-tps-jul-21-smart-ensembling/predict3.png\n",
      "/kaggle/input/2-tps-jul-21-smart-ensembling/__results__.html\n",
      "/kaggle/input/2-tps-jul-21-smart-ensembling/submission.csv\n",
      "/kaggle/input/2-tps-jul-21-smart-ensembling/__resultx__.html\n",
      "/kaggle/input/2-tps-jul-21-smart-ensembling/__notebook__.ipynb\n",
      "/kaggle/input/2-tps-jul-21-smart-ensembling/__output__.json\n",
      "/kaggle/input/2-tps-jul-21-smart-ensembling/predict2.png\n",
      "/kaggle/input/2-tps-jul-21-smart-ensembling/predict1.png\n",
      "/kaggle/input/2-tps-jul-21-smart-ensembling/custom.css\n",
      "/kaggle/input/2-tps-jul-21-smart-ensembling/__results___files/__results___16_2.png\n",
      "/kaggle/input/2-tps-jul-21-smart-ensembling/__results___files/__results___16_0.png\n",
      "/kaggle/input/2-tps-jul-21-smart-ensembling/__results___files/__results___16_1.png\n",
      "/kaggle/input/tps-07-turtles-on-turtles/submission_gam_adjust.csv\n",
      "/kaggle/input/tps-07-turtles-on-turtles/Rplot001.png\n",
      "/kaggle/input/tps-07-turtles-on-turtles/__results__.html\n",
      "/kaggle/input/tps-07-turtles-on-turtles/__notebook__.ipynb\n",
      "/kaggle/input/tps-07-turtles-on-turtles/__output__.json\n",
      "/kaggle/input/tps-07-turtles-on-turtles/custom.css\n",
      "/kaggle/input/tps-07-turtles-on-turtles/__results___files/__results___8_0.png\n",
      "/kaggle/input/tps-07-turtles-on-turtles/__results___files/__results___6_1.png\n",
      "/kaggle/input/tps-07-turtles-on-turtles/__results___files/__results___5_0.png\n",
      "/kaggle/input/tps-07-turtles-on-turtles/__results___files/__results___3_0.png\n",
      "/kaggle/input/tps-07-turtles-on-turtles/__results___files/__results___4_1.png\n",
      "/kaggle/input/catboost-13feature-cross-validation/__results__.html\n",
      "/kaggle/input/catboost-13feature-cross-validation/submission.csv\n",
      "/kaggle/input/catboost-13feature-cross-validation/__notebook__.ipynb\n",
      "/kaggle/input/catboost-13feature-cross-validation/__output__.json\n",
      "/kaggle/input/catboost-13feature-cross-validation/custom.css\n",
      "/kaggle/input/catboost-13feature-cross-validation/__results___files/__results___8_0.png\n",
      "/kaggle/input/catboost-13feature-cross-validation/__results___files/__results___22_0.png\n",
      "/kaggle/input/catboost-13feature-cross-validation/__results___files/__results___21_0.png\n",
      "/kaggle/input/catboost-13feature-cross-validation/__results___files/__results___12_1.png\n",
      "/kaggle/input/catboost-13feature-cross-validation/__results___files/__results___33_0.png\n",
      "/kaggle/input/catboost-13feature-cross-validation/__results___files/__results___10_1.png\n",
      "/kaggle/input/catboost-13feature-cross-validation/__results___files/__results___7_0.png\n",
      "/kaggle/input/catboost-13feature-cross-validation/catboost_info/test_error.tsv\n",
      "/kaggle/input/catboost-13feature-cross-validation/catboost_info/learn_error.tsv\n",
      "/kaggle/input/catboost-13feature-cross-validation/catboost_info/catboost_training.json\n",
      "/kaggle/input/catboost-13feature-cross-validation/catboost_info/time_left.tsv\n",
      "/kaggle/input/catboost-13feature-cross-validation/catboost_info/learn/events.out.tfevents\n",
      "/kaggle/input/catboost-13feature-cross-validation/catboost_info/test/events.out.tfevents\n"
     ]
    }
   ],
   "source": [
    "# This Python 3 environment comes with many helpful analytics libraries installed\n",
    "# It is defined by the kaggle/python Docker image: https://github.com/kaggle/docker-python\n",
    "# For example, here's several helpful packages to load\n",
    "\n",
    "import numpy as np # linear algebra\n",
    "import pandas as pd # data processing, CSV file I/O (e.g. pd.read_csv)\n",
    "\n",
    "# Input data files are available in the read-only \"../input/\" directory\n",
    "# For example, running this (by clicking run or pressing Shift+Enter) will list all files under the input directory\n",
    "\n",
    "import os\n",
    "for dirname, _, filenames in os.walk('/kaggle/input'):\n",
    "    for filename in filenames:\n",
    "        print(os.path.join(dirname, filename))\n",
    "\n",
    "# You can write up to 20GB to the current directory (/kaggle/working/) that gets preserved as output when you create a version using \"Save & Run All\" \n",
    "# You can also write temporary files to /kaggle/temp/, but they won't be saved outside of the current session"
   ]
  },
  {
   "cell_type": "code",
   "execution_count": 3,
   "id": "ddd03d81",
   "metadata": {
    "execution": {
     "iopub.execute_input": "2021-07-12T09:30:22.947205Z",
     "iopub.status.busy": "2021-07-12T09:30:22.946519Z",
     "iopub.status.idle": "2021-07-12T09:30:23.108433Z",
     "shell.execute_reply": "2021-07-12T09:30:23.107772Z",
     "shell.execute_reply.started": "2021-07-12T09:28:55.780385Z"
    },
    "papermill": {
     "duration": 0.176513,
     "end_time": "2021-07-12T09:30:23.108582",
     "exception": false,
     "start_time": "2021-07-12T09:30:22.932069",
     "status": "completed"
    },
    "tags": []
   },
   "outputs": [],
   "source": [
    "# we will take multiple submissions and mean the data.\n",
    "model_1= pd.read_csv('/kaggle/input/tps-07-turtles-on-turtles/submission_gam_adjust.csv')\n",
    "model_2= pd.read_csv('/kaggle/input/tps-lightautoml-baseline-with-pseudolabels/lightautoml_with_pseudolabelling_kernel_version_8.csv')\n",
    "model_3 = pd.read_csv('/kaggle/input/2-tps-jul-21-smart-ensembling/submission.csv')\n",
    "model_4 = pd.read_csv('/kaggle/input/catboost-13feature-cross-validation/submission.csv')"
   ]
  },
  {
   "cell_type": "code",
   "execution_count": 4,
   "id": "01b660de",
   "metadata": {
    "execution": {
     "iopub.execute_input": "2021-07-12T09:30:23.145994Z",
     "iopub.status.busy": "2021-07-12T09:30:23.137307Z",
     "iopub.status.idle": "2021-07-12T09:30:23.153296Z",
     "shell.execute_reply": "2021-07-12T09:30:23.153775Z",
     "shell.execute_reply.started": "2021-07-12T09:29:54.043415Z"
    },
    "papermill": {
     "duration": 0.035309,
     "end_time": "2021-07-12T09:30:23.153955",
     "exception": false,
     "start_time": "2021-07-12T09:30:23.118646",
     "status": "completed"
    },
    "tags": []
   },
   "outputs": [],
   "source": [
    "total_data= pd.concat([model_1,model_2,model_3,model_4]).groupby(level=0).mean()"
   ]
  },
  {
   "cell_type": "code",
   "execution_count": 5,
   "id": "8f99d3f6",
   "metadata": {
    "execution": {
     "iopub.execute_input": "2021-07-12T09:30:23.179223Z",
     "iopub.status.busy": "2021-07-12T09:30:23.177780Z",
     "iopub.status.idle": "2021-07-12T09:30:23.182505Z",
     "shell.execute_reply": "2021-07-12T09:30:23.181647Z",
     "shell.execute_reply.started": "2021-07-12T09:29:10.129541Z"
    },
    "papermill": {
     "duration": 0.018919,
     "end_time": "2021-07-12T09:30:23.182655",
     "exception": false,
     "start_time": "2021-07-12T09:30:23.163736",
     "status": "completed"
    },
    "tags": []
   },
   "outputs": [],
   "source": [
    "# adding the date column\n",
    "total_data['date_time']= model_3['date_time']"
   ]
  },
  {
   "cell_type": "code",
   "execution_count": 6,
   "id": "02f2bad1",
   "metadata": {
    "execution": {
     "iopub.execute_input": "2021-07-12T09:30:23.208623Z",
     "iopub.status.busy": "2021-07-12T09:30:23.207921Z",
     "iopub.status.idle": "2021-07-12T09:30:23.211103Z",
     "shell.execute_reply": "2021-07-12T09:30:23.210595Z",
     "shell.execute_reply.started": "2021-07-12T09:29:12.356825Z"
    },
    "papermill": {
     "duration": 0.018849,
     "end_time": "2021-07-12T09:30:23.211267",
     "exception": false,
     "start_time": "2021-07-12T09:30:23.192418",
     "status": "completed"
    },
    "tags": []
   },
   "outputs": [],
   "source": [
    "final_data  =  total_data[['date_time', 'target_carbon_monoxide', 'target_benzene', 'target_nitrogen_oxides']]"
   ]
  },
  {
   "cell_type": "code",
   "execution_count": 7,
   "id": "e80beb98",
   "metadata": {
    "execution": {
     "iopub.execute_input": "2021-07-12T09:30:23.235890Z",
     "iopub.status.busy": "2021-07-12T09:30:23.235096Z",
     "iopub.status.idle": "2021-07-12T09:30:23.260789Z",
     "shell.execute_reply": "2021-07-12T09:30:23.260186Z",
     "shell.execute_reply.started": "2021-07-12T09:29:14.037620Z"
    },
    "papermill": {
     "duration": 0.039888,
     "end_time": "2021-07-12T09:30:23.260928",
     "exception": false,
     "start_time": "2021-07-12T09:30:23.221040",
     "status": "completed"
    },
    "tags": []
   },
   "outputs": [],
   "source": [
    "final_data.to_csv('submission_.csv', index=False)"
   ]
  },
  {
   "cell_type": "markdown",
   "id": "8f94aa00",
   "metadata": {
    "papermill": {
     "duration": 0.009337,
     "end_time": "2021-07-12T09:30:23.280174",
     "exception": false,
     "start_time": "2021-07-12T09:30:23.270837",
     "status": "completed"
    },
    "tags": []
   },
   "source": [
    "I'm a beginner so if you have any kind of feedback or suggestion it will be very helpful!\n"
   ]
  }
 ],
 "metadata": {
  "kernelspec": {
   "display_name": "Python 3",
   "language": "python",
   "name": "python3"
  },
  "language_info": {
   "codemirror_mode": {
    "name": "ipython",
    "version": 3
   },
   "file_extension": ".py",
   "mimetype": "text/x-python",
   "name": "python",
   "nbconvert_exporter": "python",
   "pygments_lexer": "ipython3",
   "version": "3.7.10"
  },
  "papermill": {
   "default_parameters": {},
   "duration": 9.856968,
   "end_time": "2021-07-12T09:30:23.898798",
   "environment_variables": {},
   "exception": null,
   "input_path": "__notebook__.ipynb",
   "output_path": "__notebook__.ipynb",
   "parameters": {},
   "start_time": "2021-07-12T09:30:14.041830",
   "version": "2.3.3"
  }
 },
 "nbformat": 4,
 "nbformat_minor": 5
}
