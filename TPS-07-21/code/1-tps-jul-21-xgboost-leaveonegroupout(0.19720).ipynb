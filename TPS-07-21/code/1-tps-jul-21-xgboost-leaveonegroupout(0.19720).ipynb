{
 "cells": [
  {
   "cell_type": "markdown",
   "id": "infectious-instrument",
   "metadata": {
    "papermill": {
     "duration": 0.049575,
     "end_time": "2021-07-06T05:33:04.964413",
     "exception": false,
     "start_time": "2021-07-06T05:33:04.914838",
     "status": "completed"
    },
    "tags": []
   },
   "source": [
    "<div>\n",
    "    <h1 align=\"center\">Tabular Playground Series - Jul 2021</h1>\n",
    "    <h1 align=\"center\">XGBoost & LeaveOneGroupOut & Ensembling</h1>\n",
    "    <h4 align=\"center\">By: Somayyeh Gholami & Mehran Kazeminia</h4>\n",
    "</div>"
   ]
  },
  {
   "cell_type": "markdown",
   "id": "gentle-instruction",
   "metadata": {
    "papermill": {
     "duration": 0.047125,
     "end_time": "2021-07-06T05:33:05.065790",
     "exception": false,
     "start_time": "2021-07-06T05:33:05.018665",
     "status": "completed"
    },
    "tags": []
   },
   "source": [
    "<div class=\"alert alert-success\">  \n",
    "</div>"
   ]
  },
  {
   "cell_type": "markdown",
   "id": "spoken-animal",
   "metadata": {
    "papermill": {
     "duration": 0.04626,
     "end_time": "2021-07-06T05:33:05.159129",
     "exception": false,
     "start_time": "2021-07-06T05:33:05.112869",
     "status": "completed"
    },
    "tags": []
   },
   "source": [
    "<div class=\"alert alert-success\">\n",
    "    <h1 align=\"center\">If you find this work useful, please don't forget upvoting :)</h1>\n",
    "</div>"
   ]
  },
  {
   "cell_type": "markdown",
   "id": "sound-palmer",
   "metadata": {
    "papermill": {
     "duration": 0.044819,
     "end_time": "2021-07-06T05:33:05.248680",
     "exception": false,
     "start_time": "2021-07-06T05:33:05.203861",
     "status": "completed"
    },
    "tags": []
   },
   "source": [
    "## Import"
   ]
  },
  {
   "cell_type": "code",
   "execution_count": 1,
   "id": "illegal-leather",
   "metadata": {
    "execution": {
     "iopub.execute_input": "2021-07-06T05:33:05.344959Z",
     "iopub.status.busy": "2021-07-06T05:33:05.343195Z",
     "iopub.status.idle": "2021-07-06T05:33:06.272370Z",
     "shell.execute_reply": "2021-07-06T05:33:06.271046Z",
     "shell.execute_reply.started": "2021-07-05T12:20:01.183007Z"
    },
    "papermill": {
     "duration": 0.979855,
     "end_time": "2021-07-06T05:33:06.272590",
     "exception": false,
     "start_time": "2021-07-06T05:33:05.292735",
     "status": "completed"
    },
    "tags": []
   },
   "outputs": [],
   "source": [
    "import numpy as np \n",
    "import pandas as pd\n",
    "import seaborn as sns\n",
    "\n",
    "import matplotlib.pyplot as plt\n",
    "%matplotlib inline"
   ]
  },
  {
   "cell_type": "code",
   "execution_count": 2,
   "id": "treated-context",
   "metadata": {
    "execution": {
     "iopub.execute_input": "2021-07-06T05:33:06.387522Z",
     "iopub.status.busy": "2021-07-06T05:33:06.386581Z",
     "iopub.status.idle": "2021-07-06T05:33:06.898289Z",
     "shell.execute_reply": "2021-07-06T05:33:06.897652Z",
     "shell.execute_reply.started": "2021-07-05T12:20:07.695278Z"
    },
    "papermill": {
     "duration": 0.57944,
     "end_time": "2021-07-06T05:33:06.898432",
     "exception": false,
     "start_time": "2021-07-06T05:33:06.318992",
     "status": "completed"
    },
    "tags": []
   },
   "outputs": [],
   "source": [
    "from xgboost import XGBRegressor\n",
    "from catboost import CatBoostRegressor\n",
    "from sklearn.linear_model import Ridge\n",
    "\n",
    "from sklearn.metrics import accuracy_score\n",
    "from sklearn.metrics import mean_absolute_error\n",
    "from sklearn.model_selection import train_test_split\n",
    "\n",
    "from sklearn.model_selection import cross_val_score\n",
    "from sklearn.model_selection import LeaveOneGroupOut"
   ]
  },
  {
   "cell_type": "code",
   "execution_count": 3,
   "id": "corresponding-protection",
   "metadata": {
    "execution": {
     "iopub.execute_input": "2021-07-06T05:33:06.991444Z",
     "iopub.status.busy": "2021-07-06T05:33:06.990790Z",
     "iopub.status.idle": "2021-07-06T05:33:07.006578Z",
     "shell.execute_reply": "2021-07-06T05:33:07.007402Z",
     "shell.execute_reply.started": "2021-07-05T12:20:08.260865Z"
    },
    "papermill": {
     "duration": 0.065285,
     "end_time": "2021-07-06T05:33:07.007640",
     "exception": false,
     "start_time": "2021-07-06T05:33:06.942355",
     "status": "completed"
    },
    "tags": []
   },
   "outputs": [
    {
     "name": "stdout",
     "output_type": "stream",
     "text": [
      "/kaggle/input/tabular-playground-series-jul-2021/sample_submission.csv\n",
      "/kaggle/input/tabular-playground-series-jul-2021/train.csv\n",
      "/kaggle/input/tabular-playground-series-jul-2021/test.csv\n",
      "/kaggle/input/tps7-21744/Rplot001.png\n",
      "/kaggle/input/tps7-21744/Rplot002.png\n",
      "/kaggle/input/tps7-21744/submission_gam.csv\n",
      "/kaggle/input/tps7-21744/Rplot003.png\n"
     ]
    }
   ],
   "source": [
    "import os\n",
    "for dirname, _, filenames in os.walk('/kaggle/input'):\n",
    "    for filename in filenames:\n",
    "        print(os.path.join(dirname, filename))"
   ]
  },
  {
   "cell_type": "markdown",
   "id": "innocent-cloud",
   "metadata": {
    "papermill": {
     "duration": 0.045067,
     "end_time": "2021-07-06T05:33:07.099241",
     "exception": false,
     "start_time": "2021-07-06T05:33:07.054174",
     "status": "completed"
    },
    "tags": []
   },
   "source": [
    "<div class=\"alert alert-success\">  \n",
    "</div>"
   ]
  },
  {
   "cell_type": "markdown",
   "id": "million-movement",
   "metadata": {
    "papermill": {
     "duration": 0.044206,
     "end_time": "2021-07-06T05:33:07.187880",
     "exception": false,
     "start_time": "2021-07-06T05:33:07.143674",
     "status": "completed"
    },
    "tags": []
   },
   "source": [
    "## Data Set"
   ]
  },
  {
   "cell_type": "code",
   "execution_count": 4,
   "id": "abandoned-appreciation",
   "metadata": {
    "execution": {
     "iopub.execute_input": "2021-07-06T05:33:07.280095Z",
     "iopub.status.busy": "2021-07-06T05:33:07.279477Z",
     "iopub.status.idle": "2021-07-06T05:33:07.351771Z",
     "shell.execute_reply": "2021-07-06T05:33:07.351204Z",
     "shell.execute_reply.started": "2021-07-05T12:20:08.280917Z"
    },
    "papermill": {
     "duration": 0.119584,
     "end_time": "2021-07-06T05:33:07.351923",
     "exception": false,
     "start_time": "2021-07-06T05:33:07.232339",
     "status": "completed"
    },
    "tags": []
   },
   "outputs": [],
   "source": [
    "DF1 = pd.read_csv('../input/tabular-playground-series-jul-2021/train.csv')\n",
    "\n",
    "DF2 = pd.read_csv('../input/tabular-playground-series-jul-2021/test.csv')\n",
    "\n",
    "SAM = pd.read_csv('../input/tabular-playground-series-jul-2021/sample_submission.csv')"
   ]
  },
  {
   "cell_type": "code",
   "execution_count": 5,
   "id": "interstate-boxing",
   "metadata": {
    "execution": {
     "iopub.execute_input": "2021-07-06T05:33:07.450584Z",
     "iopub.status.busy": "2021-07-06T05:33:07.449879Z",
     "iopub.status.idle": "2021-07-06T05:33:07.476987Z",
     "shell.execute_reply": "2021-07-06T05:33:07.477531Z",
     "shell.execute_reply.started": "2021-07-05T12:20:08.349797Z"
    },
    "papermill": {
     "duration": 0.080378,
     "end_time": "2021-07-06T05:33:07.477706",
     "exception": false,
     "start_time": "2021-07-06T05:33:07.397328",
     "status": "completed"
    },
    "tags": []
   },
   "outputs": [
    {
     "name": "stdout",
     "output_type": "stream",
     "text": [
      "Missing Value 1:  Series([], dtype: int64)\n",
      "Missing Value 2:  Series([], dtype: int64)\n"
     ]
    }
   ],
   "source": [
    "MV1 = DF1.isnull().sum()\n",
    "MV2 = DF2.isnull().sum()\n",
    "\n",
    "print(f'Missing Value 1:  {MV1[MV1 > 0]}')\n",
    "print(f'Missing Value 2:  {MV2[MV2 > 0]}')"
   ]
  },
  {
   "cell_type": "code",
   "execution_count": 6,
   "id": "spectacular-technical",
   "metadata": {
    "execution": {
     "iopub.execute_input": "2021-07-06T05:33:07.580320Z",
     "iopub.status.busy": "2021-07-06T05:33:07.579439Z",
     "iopub.status.idle": "2021-07-06T05:33:07.636654Z",
     "shell.execute_reply": "2021-07-06T05:33:07.636084Z",
     "shell.execute_reply.started": "2021-07-05T12:20:08.385252Z"
    },
    "papermill": {
     "duration": 0.112994,
     "end_time": "2021-07-06T05:33:07.636806",
     "exception": false,
     "start_time": "2021-07-06T05:33:07.523812",
     "status": "completed"
    },
    "tags": []
   },
   "outputs": [
    {
     "data": {
      "text/html": [
       "<div>\n",
       "<style scoped>\n",
       "    .dataframe tbody tr th:only-of-type {\n",
       "        vertical-align: middle;\n",
       "    }\n",
       "\n",
       "    .dataframe tbody tr th {\n",
       "        vertical-align: top;\n",
       "    }\n",
       "\n",
       "    .dataframe thead th {\n",
       "        text-align: right;\n",
       "    }\n",
       "</style>\n",
       "<table border=\"1\" class=\"dataframe\">\n",
       "  <thead>\n",
       "    <tr style=\"text-align: right;\">\n",
       "      <th></th>\n",
       "      <th>date_time</th>\n",
       "      <th>deg_C</th>\n",
       "      <th>relative_humidity</th>\n",
       "      <th>absolute_humidity</th>\n",
       "      <th>sensor_1</th>\n",
       "      <th>sensor_2</th>\n",
       "      <th>sensor_3</th>\n",
       "      <th>sensor_4</th>\n",
       "      <th>sensor_5</th>\n",
       "      <th>target_carbon_monoxide</th>\n",
       "      <th>target_benzene</th>\n",
       "      <th>target_nitrogen_oxides</th>\n",
       "    </tr>\n",
       "  </thead>\n",
       "  <tbody>\n",
       "    <tr>\n",
       "      <th>0</th>\n",
       "      <td>2010-03-10 18:00:00</td>\n",
       "      <td>13.1</td>\n",
       "      <td>46.0</td>\n",
       "      <td>0.7578</td>\n",
       "      <td>1387.2</td>\n",
       "      <td>1087.8</td>\n",
       "      <td>1056.0</td>\n",
       "      <td>1742.8</td>\n",
       "      <td>1293.4</td>\n",
       "      <td>2.5</td>\n",
       "      <td>12.0</td>\n",
       "      <td>167.7</td>\n",
       "    </tr>\n",
       "    <tr>\n",
       "      <th>1</th>\n",
       "      <td>2010-03-10 19:00:00</td>\n",
       "      <td>13.2</td>\n",
       "      <td>45.3</td>\n",
       "      <td>0.7255</td>\n",
       "      <td>1279.1</td>\n",
       "      <td>888.2</td>\n",
       "      <td>1197.5</td>\n",
       "      <td>1449.9</td>\n",
       "      <td>1010.9</td>\n",
       "      <td>2.1</td>\n",
       "      <td>9.9</td>\n",
       "      <td>98.9</td>\n",
       "    </tr>\n",
       "    <tr>\n",
       "      <th>2</th>\n",
       "      <td>2010-03-10 20:00:00</td>\n",
       "      <td>12.6</td>\n",
       "      <td>56.2</td>\n",
       "      <td>0.7502</td>\n",
       "      <td>1331.9</td>\n",
       "      <td>929.6</td>\n",
       "      <td>1060.2</td>\n",
       "      <td>1586.1</td>\n",
       "      <td>1117.0</td>\n",
       "      <td>2.2</td>\n",
       "      <td>9.2</td>\n",
       "      <td>127.1</td>\n",
       "    </tr>\n",
       "    <tr>\n",
       "      <th>3</th>\n",
       "      <td>2010-03-10 21:00:00</td>\n",
       "      <td>11.0</td>\n",
       "      <td>62.4</td>\n",
       "      <td>0.7867</td>\n",
       "      <td>1321.0</td>\n",
       "      <td>929.0</td>\n",
       "      <td>1102.9</td>\n",
       "      <td>1536.5</td>\n",
       "      <td>1263.2</td>\n",
       "      <td>2.2</td>\n",
       "      <td>9.7</td>\n",
       "      <td>177.2</td>\n",
       "    </tr>\n",
       "    <tr>\n",
       "      <th>4</th>\n",
       "      <td>2010-03-10 22:00:00</td>\n",
       "      <td>11.9</td>\n",
       "      <td>59.0</td>\n",
       "      <td>0.7888</td>\n",
       "      <td>1272.0</td>\n",
       "      <td>852.7</td>\n",
       "      <td>1180.9</td>\n",
       "      <td>1415.5</td>\n",
       "      <td>1132.2</td>\n",
       "      <td>1.5</td>\n",
       "      <td>6.4</td>\n",
       "      <td>121.8</td>\n",
       "    </tr>\n",
       "    <tr>\n",
       "      <th>...</th>\n",
       "      <td>...</td>\n",
       "      <td>...</td>\n",
       "      <td>...</td>\n",
       "      <td>...</td>\n",
       "      <td>...</td>\n",
       "      <td>...</td>\n",
       "      <td>...</td>\n",
       "      <td>...</td>\n",
       "      <td>...</td>\n",
       "      <td>...</td>\n",
       "      <td>...</td>\n",
       "      <td>...</td>\n",
       "    </tr>\n",
       "    <tr>\n",
       "      <th>7106</th>\n",
       "      <td>2010-12-31 20:00:00</td>\n",
       "      <td>9.2</td>\n",
       "      <td>32.0</td>\n",
       "      <td>0.3871</td>\n",
       "      <td>1000.5</td>\n",
       "      <td>811.2</td>\n",
       "      <td>873.0</td>\n",
       "      <td>909.0</td>\n",
       "      <td>910.5</td>\n",
       "      <td>1.3</td>\n",
       "      <td>5.1</td>\n",
       "      <td>191.1</td>\n",
       "    </tr>\n",
       "    <tr>\n",
       "      <th>7107</th>\n",
       "      <td>2010-12-31 21:00:00</td>\n",
       "      <td>9.1</td>\n",
       "      <td>33.2</td>\n",
       "      <td>0.3766</td>\n",
       "      <td>1022.7</td>\n",
       "      <td>790.0</td>\n",
       "      <td>951.6</td>\n",
       "      <td>912.9</td>\n",
       "      <td>903.4</td>\n",
       "      <td>1.4</td>\n",
       "      <td>5.8</td>\n",
       "      <td>221.3</td>\n",
       "    </tr>\n",
       "    <tr>\n",
       "      <th>7108</th>\n",
       "      <td>2010-12-31 22:00:00</td>\n",
       "      <td>9.6</td>\n",
       "      <td>34.6</td>\n",
       "      <td>0.4310</td>\n",
       "      <td>1044.4</td>\n",
       "      <td>767.3</td>\n",
       "      <td>861.9</td>\n",
       "      <td>889.2</td>\n",
       "      <td>1159.1</td>\n",
       "      <td>1.6</td>\n",
       "      <td>5.2</td>\n",
       "      <td>227.4</td>\n",
       "    </tr>\n",
       "    <tr>\n",
       "      <th>7109</th>\n",
       "      <td>2010-12-31 23:00:00</td>\n",
       "      <td>8.0</td>\n",
       "      <td>40.7</td>\n",
       "      <td>0.4085</td>\n",
       "      <td>952.8</td>\n",
       "      <td>691.9</td>\n",
       "      <td>908.5</td>\n",
       "      <td>917.0</td>\n",
       "      <td>1206.3</td>\n",
       "      <td>1.5</td>\n",
       "      <td>4.6</td>\n",
       "      <td>199.8</td>\n",
       "    </tr>\n",
       "    <tr>\n",
       "      <th>7110</th>\n",
       "      <td>2011-01-01 00:00:00</td>\n",
       "      <td>8.0</td>\n",
       "      <td>41.3</td>\n",
       "      <td>0.4375</td>\n",
       "      <td>1108.8</td>\n",
       "      <td>745.7</td>\n",
       "      <td>797.1</td>\n",
       "      <td>880.0</td>\n",
       "      <td>1273.1</td>\n",
       "      <td>1.4</td>\n",
       "      <td>4.1</td>\n",
       "      <td>186.5</td>\n",
       "    </tr>\n",
       "  </tbody>\n",
       "</table>\n",
       "<p>7111 rows × 12 columns</p>\n",
       "</div>"
      ],
      "text/plain": [
       "                date_time  deg_C  relative_humidity  absolute_humidity  \\\n",
       "0     2010-03-10 18:00:00   13.1               46.0             0.7578   \n",
       "1     2010-03-10 19:00:00   13.2               45.3             0.7255   \n",
       "2     2010-03-10 20:00:00   12.6               56.2             0.7502   \n",
       "3     2010-03-10 21:00:00   11.0               62.4             0.7867   \n",
       "4     2010-03-10 22:00:00   11.9               59.0             0.7888   \n",
       "...                   ...    ...                ...                ...   \n",
       "7106  2010-12-31 20:00:00    9.2               32.0             0.3871   \n",
       "7107  2010-12-31 21:00:00    9.1               33.2             0.3766   \n",
       "7108  2010-12-31 22:00:00    9.6               34.6             0.4310   \n",
       "7109  2010-12-31 23:00:00    8.0               40.7             0.4085   \n",
       "7110  2011-01-01 00:00:00    8.0               41.3             0.4375   \n",
       "\n",
       "      sensor_1  sensor_2  sensor_3  sensor_4  sensor_5  \\\n",
       "0       1387.2    1087.8    1056.0    1742.8    1293.4   \n",
       "1       1279.1     888.2    1197.5    1449.9    1010.9   \n",
       "2       1331.9     929.6    1060.2    1586.1    1117.0   \n",
       "3       1321.0     929.0    1102.9    1536.5    1263.2   \n",
       "4       1272.0     852.7    1180.9    1415.5    1132.2   \n",
       "...        ...       ...       ...       ...       ...   \n",
       "7106    1000.5     811.2     873.0     909.0     910.5   \n",
       "7107    1022.7     790.0     951.6     912.9     903.4   \n",
       "7108    1044.4     767.3     861.9     889.2    1159.1   \n",
       "7109     952.8     691.9     908.5     917.0    1206.3   \n",
       "7110    1108.8     745.7     797.1     880.0    1273.1   \n",
       "\n",
       "      target_carbon_monoxide  target_benzene  target_nitrogen_oxides  \n",
       "0                        2.5            12.0                   167.7  \n",
       "1                        2.1             9.9                    98.9  \n",
       "2                        2.2             9.2                   127.1  \n",
       "3                        2.2             9.7                   177.2  \n",
       "4                        1.5             6.4                   121.8  \n",
       "...                      ...             ...                     ...  \n",
       "7106                     1.3             5.1                   191.1  \n",
       "7107                     1.4             5.8                   221.3  \n",
       "7108                     1.6             5.2                   227.4  \n",
       "7109                     1.5             4.6                   199.8  \n",
       "7110                     1.4             4.1                   186.5  \n",
       "\n",
       "[7111 rows x 12 columns]"
      ]
     },
     "metadata": {},
     "output_type": "display_data"
    },
    {
     "data": {
      "text/html": [
       "<div>\n",
       "<style scoped>\n",
       "    .dataframe tbody tr th:only-of-type {\n",
       "        vertical-align: middle;\n",
       "    }\n",
       "\n",
       "    .dataframe tbody tr th {\n",
       "        vertical-align: top;\n",
       "    }\n",
       "\n",
       "    .dataframe thead th {\n",
       "        text-align: right;\n",
       "    }\n",
       "</style>\n",
       "<table border=\"1\" class=\"dataframe\">\n",
       "  <thead>\n",
       "    <tr style=\"text-align: right;\">\n",
       "      <th></th>\n",
       "      <th>date_time</th>\n",
       "      <th>deg_C</th>\n",
       "      <th>relative_humidity</th>\n",
       "      <th>absolute_humidity</th>\n",
       "      <th>sensor_1</th>\n",
       "      <th>sensor_2</th>\n",
       "      <th>sensor_3</th>\n",
       "      <th>sensor_4</th>\n",
       "      <th>sensor_5</th>\n",
       "    </tr>\n",
       "  </thead>\n",
       "  <tbody>\n",
       "    <tr>\n",
       "      <th>0</th>\n",
       "      <td>2011-01-01 00:00:00</td>\n",
       "      <td>8.0</td>\n",
       "      <td>41.3</td>\n",
       "      <td>0.4375</td>\n",
       "      <td>1108.8</td>\n",
       "      <td>745.7</td>\n",
       "      <td>797.1</td>\n",
       "      <td>880.0</td>\n",
       "      <td>1273.1</td>\n",
       "    </tr>\n",
       "    <tr>\n",
       "      <th>1</th>\n",
       "      <td>2011-01-01 01:00:00</td>\n",
       "      <td>5.1</td>\n",
       "      <td>51.7</td>\n",
       "      <td>0.4564</td>\n",
       "      <td>1249.5</td>\n",
       "      <td>864.9</td>\n",
       "      <td>687.9</td>\n",
       "      <td>972.8</td>\n",
       "      <td>1714.0</td>\n",
       "    </tr>\n",
       "    <tr>\n",
       "      <th>2</th>\n",
       "      <td>2011-01-01 02:00:00</td>\n",
       "      <td>5.8</td>\n",
       "      <td>51.5</td>\n",
       "      <td>0.4689</td>\n",
       "      <td>1102.6</td>\n",
       "      <td>878.0</td>\n",
       "      <td>693.7</td>\n",
       "      <td>941.9</td>\n",
       "      <td>1300.8</td>\n",
       "    </tr>\n",
       "    <tr>\n",
       "      <th>3</th>\n",
       "      <td>2011-01-01 03:00:00</td>\n",
       "      <td>5.0</td>\n",
       "      <td>52.3</td>\n",
       "      <td>0.4693</td>\n",
       "      <td>1139.7</td>\n",
       "      <td>916.2</td>\n",
       "      <td>725.6</td>\n",
       "      <td>1011.0</td>\n",
       "      <td>1283.0</td>\n",
       "    </tr>\n",
       "    <tr>\n",
       "      <th>4</th>\n",
       "      <td>2011-01-01 04:00:00</td>\n",
       "      <td>4.5</td>\n",
       "      <td>57.5</td>\n",
       "      <td>0.4650</td>\n",
       "      <td>1022.4</td>\n",
       "      <td>838.5</td>\n",
       "      <td>871.5</td>\n",
       "      <td>967.0</td>\n",
       "      <td>1142.3</td>\n",
       "    </tr>\n",
       "    <tr>\n",
       "      <th>...</th>\n",
       "      <td>...</td>\n",
       "      <td>...</td>\n",
       "      <td>...</td>\n",
       "      <td>...</td>\n",
       "      <td>...</td>\n",
       "      <td>...</td>\n",
       "      <td>...</td>\n",
       "      <td>...</td>\n",
       "      <td>...</td>\n",
       "    </tr>\n",
       "    <tr>\n",
       "      <th>2242</th>\n",
       "      <td>2011-04-04 10:00:00</td>\n",
       "      <td>23.2</td>\n",
       "      <td>28.7</td>\n",
       "      <td>0.7568</td>\n",
       "      <td>1340.3</td>\n",
       "      <td>1023.9</td>\n",
       "      <td>522.8</td>\n",
       "      <td>1374.0</td>\n",
       "      <td>1659.8</td>\n",
       "    </tr>\n",
       "    <tr>\n",
       "      <th>2243</th>\n",
       "      <td>2011-04-04 11:00:00</td>\n",
       "      <td>24.5</td>\n",
       "      <td>22.5</td>\n",
       "      <td>0.7119</td>\n",
       "      <td>1232.8</td>\n",
       "      <td>955.1</td>\n",
       "      <td>616.1</td>\n",
       "      <td>1226.1</td>\n",
       "      <td>1269.0</td>\n",
       "    </tr>\n",
       "    <tr>\n",
       "      <th>2244</th>\n",
       "      <td>2011-04-04 12:00:00</td>\n",
       "      <td>26.6</td>\n",
       "      <td>19.0</td>\n",
       "      <td>0.6406</td>\n",
       "      <td>1187.7</td>\n",
       "      <td>1052.4</td>\n",
       "      <td>572.8</td>\n",
       "      <td>1253.4</td>\n",
       "      <td>1081.1</td>\n",
       "    </tr>\n",
       "    <tr>\n",
       "      <th>2245</th>\n",
       "      <td>2011-04-04 13:00:00</td>\n",
       "      <td>29.1</td>\n",
       "      <td>12.7</td>\n",
       "      <td>0.5139</td>\n",
       "      <td>1053.2</td>\n",
       "      <td>1009.0</td>\n",
       "      <td>702.0</td>\n",
       "      <td>1009.8</td>\n",
       "      <td>808.5</td>\n",
       "    </tr>\n",
       "    <tr>\n",
       "      <th>2246</th>\n",
       "      <td>2011-04-04 14:00:00</td>\n",
       "      <td>27.9</td>\n",
       "      <td>13.5</td>\n",
       "      <td>0.5028</td>\n",
       "      <td>1124.6</td>\n",
       "      <td>1078.4</td>\n",
       "      <td>608.2</td>\n",
       "      <td>1061.3</td>\n",
       "      <td>816.0</td>\n",
       "    </tr>\n",
       "  </tbody>\n",
       "</table>\n",
       "<p>2247 rows × 9 columns</p>\n",
       "</div>"
      ],
      "text/plain": [
       "                date_time  deg_C  relative_humidity  absolute_humidity  \\\n",
       "0     2011-01-01 00:00:00    8.0               41.3             0.4375   \n",
       "1     2011-01-01 01:00:00    5.1               51.7             0.4564   \n",
       "2     2011-01-01 02:00:00    5.8               51.5             0.4689   \n",
       "3     2011-01-01 03:00:00    5.0               52.3             0.4693   \n",
       "4     2011-01-01 04:00:00    4.5               57.5             0.4650   \n",
       "...                   ...    ...                ...                ...   \n",
       "2242  2011-04-04 10:00:00   23.2               28.7             0.7568   \n",
       "2243  2011-04-04 11:00:00   24.5               22.5             0.7119   \n",
       "2244  2011-04-04 12:00:00   26.6               19.0             0.6406   \n",
       "2245  2011-04-04 13:00:00   29.1               12.7             0.5139   \n",
       "2246  2011-04-04 14:00:00   27.9               13.5             0.5028   \n",
       "\n",
       "      sensor_1  sensor_2  sensor_3  sensor_4  sensor_5  \n",
       "0       1108.8     745.7     797.1     880.0    1273.1  \n",
       "1       1249.5     864.9     687.9     972.8    1714.0  \n",
       "2       1102.6     878.0     693.7     941.9    1300.8  \n",
       "3       1139.7     916.2     725.6    1011.0    1283.0  \n",
       "4       1022.4     838.5     871.5     967.0    1142.3  \n",
       "...        ...       ...       ...       ...       ...  \n",
       "2242    1340.3    1023.9     522.8    1374.0    1659.8  \n",
       "2243    1232.8     955.1     616.1    1226.1    1269.0  \n",
       "2244    1187.7    1052.4     572.8    1253.4    1081.1  \n",
       "2245    1053.2    1009.0     702.0    1009.8     808.5  \n",
       "2246    1124.6    1078.4     608.2    1061.3     816.0  \n",
       "\n",
       "[2247 rows x 9 columns]"
      ]
     },
     "metadata": {},
     "output_type": "display_data"
    }
   ],
   "source": [
    "display(DF1, DF2)\n",
    "# display(DF1.info(), DF2.info())\n",
    "# display(DF1.describe().transpose())\n",
    "# display(DF2.describe().transpose())"
   ]
  },
  {
   "cell_type": "markdown",
   "id": "dietary-inspector",
   "metadata": {
    "papermill": {
     "duration": 0.047601,
     "end_time": "2021-07-06T05:33:07.731445",
     "exception": false,
     "start_time": "2021-07-06T05:33:07.683844",
     "status": "completed"
    },
    "tags": []
   },
   "source": [
    "<div class=\"alert alert-success\">  \n",
    "</div>"
   ]
  },
  {
   "cell_type": "code",
   "execution_count": 7,
   "id": "radio-assignment",
   "metadata": {
    "execution": {
     "iopub.execute_input": "2021-07-06T05:33:07.830132Z",
     "iopub.status.busy": "2021-07-06T05:33:07.829511Z",
     "iopub.status.idle": "2021-07-06T05:33:07.833895Z",
     "shell.execute_reply": "2021-07-06T05:33:07.833310Z",
     "shell.execute_reply.started": "2021-07-05T12:20:08.457817Z"
    },
    "papermill": {
     "duration": 0.056289,
     "end_time": "2021-07-06T05:33:07.834042",
     "exception": false,
     "start_time": "2021-07-06T05:33:07.777753",
     "status": "completed"
    },
    "tags": []
   },
   "outputs": [],
   "source": [
    "data1 = DF1.copy()\n",
    "data2 = DF2.copy()"
   ]
  },
  {
   "cell_type": "code",
   "execution_count": 8,
   "id": "sweet-istanbul",
   "metadata": {
    "execution": {
     "iopub.execute_input": "2021-07-06T05:33:07.955512Z",
     "iopub.status.busy": "2021-07-06T05:33:07.953295Z",
     "iopub.status.idle": "2021-07-06T05:33:07.971580Z",
     "shell.execute_reply": "2021-07-06T05:33:07.972073Z",
     "shell.execute_reply.started": "2021-07-05T12:20:08.467524Z"
    },
    "papermill": {
     "duration": 0.090764,
     "end_time": "2021-07-06T05:33:07.972271",
     "exception": false,
     "start_time": "2021-07-06T05:33:07.881507",
     "status": "completed"
    },
    "tags": []
   },
   "outputs": [
    {
     "data": {
      "text/html": [
       "<div>\n",
       "<style scoped>\n",
       "    .dataframe tbody tr th:only-of-type {\n",
       "        vertical-align: middle;\n",
       "    }\n",
       "\n",
       "    .dataframe tbody tr th {\n",
       "        vertical-align: top;\n",
       "    }\n",
       "\n",
       "    .dataframe thead th {\n",
       "        text-align: right;\n",
       "    }\n",
       "</style>\n",
       "<table border=\"1\" class=\"dataframe\">\n",
       "  <thead>\n",
       "    <tr style=\"text-align: right;\">\n",
       "      <th></th>\n",
       "      <th>date_time</th>\n",
       "      <th>deg_C</th>\n",
       "      <th>relative_humidity</th>\n",
       "      <th>absolute_humidity</th>\n",
       "      <th>sensor_1</th>\n",
       "      <th>sensor_2</th>\n",
       "      <th>sensor_3</th>\n",
       "      <th>sensor_4</th>\n",
       "      <th>sensor_5</th>\n",
       "    </tr>\n",
       "  </thead>\n",
       "  <tbody>\n",
       "    <tr>\n",
       "      <th>0</th>\n",
       "      <td>1.268244e+09</td>\n",
       "      <td>13.1</td>\n",
       "      <td>46.0</td>\n",
       "      <td>0.7578</td>\n",
       "      <td>1387.2</td>\n",
       "      <td>1087.8</td>\n",
       "      <td>1056.0</td>\n",
       "      <td>1742.8</td>\n",
       "      <td>1293.4</td>\n",
       "    </tr>\n",
       "    <tr>\n",
       "      <th>1</th>\n",
       "      <td>1.268248e+09</td>\n",
       "      <td>13.2</td>\n",
       "      <td>45.3</td>\n",
       "      <td>0.7255</td>\n",
       "      <td>1279.1</td>\n",
       "      <td>888.2</td>\n",
       "      <td>1197.5</td>\n",
       "      <td>1449.9</td>\n",
       "      <td>1010.9</td>\n",
       "    </tr>\n",
       "    <tr>\n",
       "      <th>2</th>\n",
       "      <td>1.268251e+09</td>\n",
       "      <td>12.6</td>\n",
       "      <td>56.2</td>\n",
       "      <td>0.7502</td>\n",
       "      <td>1331.9</td>\n",
       "      <td>929.6</td>\n",
       "      <td>1060.2</td>\n",
       "      <td>1586.1</td>\n",
       "      <td>1117.0</td>\n",
       "    </tr>\n",
       "    <tr>\n",
       "      <th>3</th>\n",
       "      <td>1.268255e+09</td>\n",
       "      <td>11.0</td>\n",
       "      <td>62.4</td>\n",
       "      <td>0.7867</td>\n",
       "      <td>1321.0</td>\n",
       "      <td>929.0</td>\n",
       "      <td>1102.9</td>\n",
       "      <td>1536.5</td>\n",
       "      <td>1263.2</td>\n",
       "    </tr>\n",
       "    <tr>\n",
       "      <th>4</th>\n",
       "      <td>1.268258e+09</td>\n",
       "      <td>11.9</td>\n",
       "      <td>59.0</td>\n",
       "      <td>0.7888</td>\n",
       "      <td>1272.0</td>\n",
       "      <td>852.7</td>\n",
       "      <td>1180.9</td>\n",
       "      <td>1415.5</td>\n",
       "      <td>1132.2</td>\n",
       "    </tr>\n",
       "    <tr>\n",
       "      <th>...</th>\n",
       "      <td>...</td>\n",
       "      <td>...</td>\n",
       "      <td>...</td>\n",
       "      <td>...</td>\n",
       "      <td>...</td>\n",
       "      <td>...</td>\n",
       "      <td>...</td>\n",
       "      <td>...</td>\n",
       "      <td>...</td>\n",
       "    </tr>\n",
       "    <tr>\n",
       "      <th>7106</th>\n",
       "      <td>1.293826e+09</td>\n",
       "      <td>9.2</td>\n",
       "      <td>32.0</td>\n",
       "      <td>0.3871</td>\n",
       "      <td>1000.5</td>\n",
       "      <td>811.2</td>\n",
       "      <td>873.0</td>\n",
       "      <td>909.0</td>\n",
       "      <td>910.5</td>\n",
       "    </tr>\n",
       "    <tr>\n",
       "      <th>7107</th>\n",
       "      <td>1.293829e+09</td>\n",
       "      <td>9.1</td>\n",
       "      <td>33.2</td>\n",
       "      <td>0.3766</td>\n",
       "      <td>1022.7</td>\n",
       "      <td>790.0</td>\n",
       "      <td>951.6</td>\n",
       "      <td>912.9</td>\n",
       "      <td>903.4</td>\n",
       "    </tr>\n",
       "    <tr>\n",
       "      <th>7108</th>\n",
       "      <td>1.293833e+09</td>\n",
       "      <td>9.6</td>\n",
       "      <td>34.6</td>\n",
       "      <td>0.4310</td>\n",
       "      <td>1044.4</td>\n",
       "      <td>767.3</td>\n",
       "      <td>861.9</td>\n",
       "      <td>889.2</td>\n",
       "      <td>1159.1</td>\n",
       "    </tr>\n",
       "    <tr>\n",
       "      <th>7109</th>\n",
       "      <td>1.293836e+09</td>\n",
       "      <td>8.0</td>\n",
       "      <td>40.7</td>\n",
       "      <td>0.4085</td>\n",
       "      <td>952.8</td>\n",
       "      <td>691.9</td>\n",
       "      <td>908.5</td>\n",
       "      <td>917.0</td>\n",
       "      <td>1206.3</td>\n",
       "    </tr>\n",
       "    <tr>\n",
       "      <th>7110</th>\n",
       "      <td>1.293840e+09</td>\n",
       "      <td>8.0</td>\n",
       "      <td>41.3</td>\n",
       "      <td>0.4375</td>\n",
       "      <td>1108.8</td>\n",
       "      <td>745.7</td>\n",
       "      <td>797.1</td>\n",
       "      <td>880.0</td>\n",
       "      <td>1273.1</td>\n",
       "    </tr>\n",
       "  </tbody>\n",
       "</table>\n",
       "<p>7111 rows × 9 columns</p>\n",
       "</div>"
      ],
      "text/plain": [
       "         date_time  deg_C  relative_humidity  absolute_humidity  sensor_1  \\\n",
       "0     1.268244e+09   13.1               46.0             0.7578    1387.2   \n",
       "1     1.268248e+09   13.2               45.3             0.7255    1279.1   \n",
       "2     1.268251e+09   12.6               56.2             0.7502    1331.9   \n",
       "3     1.268255e+09   11.0               62.4             0.7867    1321.0   \n",
       "4     1.268258e+09   11.9               59.0             0.7888    1272.0   \n",
       "...            ...    ...                ...                ...       ...   \n",
       "7106  1.293826e+09    9.2               32.0             0.3871    1000.5   \n",
       "7107  1.293829e+09    9.1               33.2             0.3766    1022.7   \n",
       "7108  1.293833e+09    9.6               34.6             0.4310    1044.4   \n",
       "7109  1.293836e+09    8.0               40.7             0.4085     952.8   \n",
       "7110  1.293840e+09    8.0               41.3             0.4375    1108.8   \n",
       "\n",
       "      sensor_2  sensor_3  sensor_4  sensor_5  \n",
       "0       1087.8    1056.0    1742.8    1293.4  \n",
       "1        888.2    1197.5    1449.9    1010.9  \n",
       "2        929.6    1060.2    1586.1    1117.0  \n",
       "3        929.0    1102.9    1536.5    1263.2  \n",
       "4        852.7    1180.9    1415.5    1132.2  \n",
       "...        ...       ...       ...       ...  \n",
       "7106     811.2     873.0     909.0     910.5  \n",
       "7107     790.0     951.6     912.9     903.4  \n",
       "7108     767.3     861.9     889.2    1159.1  \n",
       "7109     691.9     908.5     917.0    1206.3  \n",
       "7110     745.7     797.1     880.0    1273.1  \n",
       "\n",
       "[7111 rows x 9 columns]"
      ]
     },
     "metadata": {},
     "output_type": "display_data"
    }
   ],
   "source": [
    "X = data1.drop(columns = ['target_carbon_monoxide', 'target_benzene', 'target_nitrogen_oxides'])\n",
    "X['date_time'] = X['date_time'].astype('datetime64[ns]').astype(np.int64)/10**9\n",
    "\n",
    "display(X)"
   ]
  },
  {
   "cell_type": "code",
   "execution_count": 9,
   "id": "detailed-playlist",
   "metadata": {
    "execution": {
     "iopub.execute_input": "2021-07-06T05:33:08.073014Z",
     "iopub.status.busy": "2021-07-06T05:33:08.071998Z",
     "iopub.status.idle": "2021-07-06T05:33:08.074258Z",
     "shell.execute_reply": "2021-07-06T05:33:08.074912Z",
     "shell.execute_reply.started": "2021-07-05T12:20:08.514787Z"
    },
    "papermill": {
     "duration": 0.055488,
     "end_time": "2021-07-06T05:33:08.075073",
     "exception": false,
     "start_time": "2021-07-06T05:33:08.019585",
     "status": "completed"
    },
    "tags": []
   },
   "outputs": [],
   "source": [
    "y1 = data1.target_carbon_monoxide\n",
    "y2 = data1.target_benzene\n",
    "y3 = data1.target_nitrogen_oxides\n",
    "# display(y1, y2, y3)"
   ]
  },
  {
   "cell_type": "code",
   "execution_count": 10,
   "id": "unlike-tiger",
   "metadata": {
    "execution": {
     "iopub.execute_input": "2021-07-06T05:33:08.175064Z",
     "iopub.status.busy": "2021-07-06T05:33:08.174117Z",
     "iopub.status.idle": "2021-07-06T05:33:08.203069Z",
     "shell.execute_reply": "2021-07-06T05:33:08.202565Z",
     "shell.execute_reply.started": "2021-07-05T12:20:08.524501Z"
    },
    "papermill": {
     "duration": 0.08007,
     "end_time": "2021-07-06T05:33:08.203207",
     "exception": false,
     "start_time": "2021-07-06T05:33:08.123137",
     "status": "completed"
    },
    "tags": []
   },
   "outputs": [
    {
     "data": {
      "text/html": [
       "<div>\n",
       "<style scoped>\n",
       "    .dataframe tbody tr th:only-of-type {\n",
       "        vertical-align: middle;\n",
       "    }\n",
       "\n",
       "    .dataframe tbody tr th {\n",
       "        vertical-align: top;\n",
       "    }\n",
       "\n",
       "    .dataframe thead th {\n",
       "        text-align: right;\n",
       "    }\n",
       "</style>\n",
       "<table border=\"1\" class=\"dataframe\">\n",
       "  <thead>\n",
       "    <tr style=\"text-align: right;\">\n",
       "      <th></th>\n",
       "      <th>date_time</th>\n",
       "      <th>deg_C</th>\n",
       "      <th>relative_humidity</th>\n",
       "      <th>absolute_humidity</th>\n",
       "      <th>sensor_1</th>\n",
       "      <th>sensor_2</th>\n",
       "      <th>sensor_3</th>\n",
       "      <th>sensor_4</th>\n",
       "      <th>sensor_5</th>\n",
       "    </tr>\n",
       "  </thead>\n",
       "  <tbody>\n",
       "    <tr>\n",
       "      <th>0</th>\n",
       "      <td>1.293840e+09</td>\n",
       "      <td>8.0</td>\n",
       "      <td>41.3</td>\n",
       "      <td>0.4375</td>\n",
       "      <td>1108.8</td>\n",
       "      <td>745.7</td>\n",
       "      <td>797.1</td>\n",
       "      <td>880.0</td>\n",
       "      <td>1273.1</td>\n",
       "    </tr>\n",
       "    <tr>\n",
       "      <th>1</th>\n",
       "      <td>1.293844e+09</td>\n",
       "      <td>5.1</td>\n",
       "      <td>51.7</td>\n",
       "      <td>0.4564</td>\n",
       "      <td>1249.5</td>\n",
       "      <td>864.9</td>\n",
       "      <td>687.9</td>\n",
       "      <td>972.8</td>\n",
       "      <td>1714.0</td>\n",
       "    </tr>\n",
       "    <tr>\n",
       "      <th>2</th>\n",
       "      <td>1.293847e+09</td>\n",
       "      <td>5.8</td>\n",
       "      <td>51.5</td>\n",
       "      <td>0.4689</td>\n",
       "      <td>1102.6</td>\n",
       "      <td>878.0</td>\n",
       "      <td>693.7</td>\n",
       "      <td>941.9</td>\n",
       "      <td>1300.8</td>\n",
       "    </tr>\n",
       "    <tr>\n",
       "      <th>3</th>\n",
       "      <td>1.293851e+09</td>\n",
       "      <td>5.0</td>\n",
       "      <td>52.3</td>\n",
       "      <td>0.4693</td>\n",
       "      <td>1139.7</td>\n",
       "      <td>916.2</td>\n",
       "      <td>725.6</td>\n",
       "      <td>1011.0</td>\n",
       "      <td>1283.0</td>\n",
       "    </tr>\n",
       "    <tr>\n",
       "      <th>4</th>\n",
       "      <td>1.293854e+09</td>\n",
       "      <td>4.5</td>\n",
       "      <td>57.5</td>\n",
       "      <td>0.4650</td>\n",
       "      <td>1022.4</td>\n",
       "      <td>838.5</td>\n",
       "      <td>871.5</td>\n",
       "      <td>967.0</td>\n",
       "      <td>1142.3</td>\n",
       "    </tr>\n",
       "    <tr>\n",
       "      <th>...</th>\n",
       "      <td>...</td>\n",
       "      <td>...</td>\n",
       "      <td>...</td>\n",
       "      <td>...</td>\n",
       "      <td>...</td>\n",
       "      <td>...</td>\n",
       "      <td>...</td>\n",
       "      <td>...</td>\n",
       "      <td>...</td>\n",
       "    </tr>\n",
       "    <tr>\n",
       "      <th>2242</th>\n",
       "      <td>1.301911e+09</td>\n",
       "      <td>23.2</td>\n",
       "      <td>28.7</td>\n",
       "      <td>0.7568</td>\n",
       "      <td>1340.3</td>\n",
       "      <td>1023.9</td>\n",
       "      <td>522.8</td>\n",
       "      <td>1374.0</td>\n",
       "      <td>1659.8</td>\n",
       "    </tr>\n",
       "    <tr>\n",
       "      <th>2243</th>\n",
       "      <td>1.301915e+09</td>\n",
       "      <td>24.5</td>\n",
       "      <td>22.5</td>\n",
       "      <td>0.7119</td>\n",
       "      <td>1232.8</td>\n",
       "      <td>955.1</td>\n",
       "      <td>616.1</td>\n",
       "      <td>1226.1</td>\n",
       "      <td>1269.0</td>\n",
       "    </tr>\n",
       "    <tr>\n",
       "      <th>2244</th>\n",
       "      <td>1.301918e+09</td>\n",
       "      <td>26.6</td>\n",
       "      <td>19.0</td>\n",
       "      <td>0.6406</td>\n",
       "      <td>1187.7</td>\n",
       "      <td>1052.4</td>\n",
       "      <td>572.8</td>\n",
       "      <td>1253.4</td>\n",
       "      <td>1081.1</td>\n",
       "    </tr>\n",
       "    <tr>\n",
       "      <th>2245</th>\n",
       "      <td>1.301922e+09</td>\n",
       "      <td>29.1</td>\n",
       "      <td>12.7</td>\n",
       "      <td>0.5139</td>\n",
       "      <td>1053.2</td>\n",
       "      <td>1009.0</td>\n",
       "      <td>702.0</td>\n",
       "      <td>1009.8</td>\n",
       "      <td>808.5</td>\n",
       "    </tr>\n",
       "    <tr>\n",
       "      <th>2246</th>\n",
       "      <td>1.301926e+09</td>\n",
       "      <td>27.9</td>\n",
       "      <td>13.5</td>\n",
       "      <td>0.5028</td>\n",
       "      <td>1124.6</td>\n",
       "      <td>1078.4</td>\n",
       "      <td>608.2</td>\n",
       "      <td>1061.3</td>\n",
       "      <td>816.0</td>\n",
       "    </tr>\n",
       "  </tbody>\n",
       "</table>\n",
       "<p>2247 rows × 9 columns</p>\n",
       "</div>"
      ],
      "text/plain": [
       "         date_time  deg_C  relative_humidity  absolute_humidity  sensor_1  \\\n",
       "0     1.293840e+09    8.0               41.3             0.4375    1108.8   \n",
       "1     1.293844e+09    5.1               51.7             0.4564    1249.5   \n",
       "2     1.293847e+09    5.8               51.5             0.4689    1102.6   \n",
       "3     1.293851e+09    5.0               52.3             0.4693    1139.7   \n",
       "4     1.293854e+09    4.5               57.5             0.4650    1022.4   \n",
       "...            ...    ...                ...                ...       ...   \n",
       "2242  1.301911e+09   23.2               28.7             0.7568    1340.3   \n",
       "2243  1.301915e+09   24.5               22.5             0.7119    1232.8   \n",
       "2244  1.301918e+09   26.6               19.0             0.6406    1187.7   \n",
       "2245  1.301922e+09   29.1               12.7             0.5139    1053.2   \n",
       "2246  1.301926e+09   27.9               13.5             0.5028    1124.6   \n",
       "\n",
       "      sensor_2  sensor_3  sensor_4  sensor_5  \n",
       "0        745.7     797.1     880.0    1273.1  \n",
       "1        864.9     687.9     972.8    1714.0  \n",
       "2        878.0     693.7     941.9    1300.8  \n",
       "3        916.2     725.6    1011.0    1283.0  \n",
       "4        838.5     871.5     967.0    1142.3  \n",
       "...        ...       ...       ...       ...  \n",
       "2242    1023.9     522.8    1374.0    1659.8  \n",
       "2243     955.1     616.1    1226.1    1269.0  \n",
       "2244    1052.4     572.8    1253.4    1081.1  \n",
       "2245    1009.0     702.0    1009.8     808.5  \n",
       "2246    1078.4     608.2    1061.3     816.0  \n",
       "\n",
       "[2247 rows x 9 columns]"
      ]
     },
     "metadata": {},
     "output_type": "display_data"
    }
   ],
   "source": [
    "XX = data2.copy()\n",
    "XX['date_time'] = XX['date_time'].astype('datetime64[ns]').astype(np.int64)/10**9\n",
    "\n",
    "display(XX)"
   ]
  },
  {
   "cell_type": "markdown",
   "id": "further-lodge",
   "metadata": {
    "papermill": {
     "duration": 0.048144,
     "end_time": "2021-07-06T05:33:08.299859",
     "exception": false,
     "start_time": "2021-07-06T05:33:08.251715",
     "status": "completed"
    },
    "tags": []
   },
   "source": [
    "<div class=\"alert alert-success\">  \n",
    "</div>"
   ]
  },
  {
   "cell_type": "markdown",
   "id": "composite-necklace",
   "metadata": {
    "papermill": {
     "duration": 0.048162,
     "end_time": "2021-07-06T05:33:08.396287",
     "exception": false,
     "start_time": "2021-07-06T05:33:08.348125",
     "status": "completed"
    },
    "tags": []
   },
   "source": [
    "## Split"
   ]
  },
  {
   "cell_type": "code",
   "execution_count": 11,
   "id": "front-resident",
   "metadata": {
    "execution": {
     "iopub.execute_input": "2021-07-06T05:33:08.502258Z",
     "iopub.status.busy": "2021-07-06T05:33:08.501602Z",
     "iopub.status.idle": "2021-07-06T05:33:08.513725Z",
     "shell.execute_reply": "2021-07-06T05:33:08.513177Z",
     "shell.execute_reply.started": "2021-07-05T12:20:08.563773Z"
    },
    "papermill": {
     "duration": 0.068893,
     "end_time": "2021-07-06T05:33:08.513883",
     "exception": false,
     "start_time": "2021-07-06T05:33:08.444990",
     "status": "completed"
    },
    "tags": []
   },
   "outputs": [],
   "source": [
    "train_X, val_X, train_y1, val_y1 = train_test_split(X, y1, test_size=0.50, random_state=123)\n",
    "train_X, val_X, train_y2, val_y2 = train_test_split(X, y2, test_size=0.50, random_state=123)\n",
    "train_X, val_X, train_y3, val_y3 = train_test_split(X, y3, test_size=0.50, random_state=123)"
   ]
  },
  {
   "cell_type": "code",
   "execution_count": 12,
   "id": "refined-newman",
   "metadata": {
    "execution": {
     "iopub.execute_input": "2021-07-06T05:33:08.615144Z",
     "iopub.status.busy": "2021-07-06T05:33:08.614513Z",
     "iopub.status.idle": "2021-07-06T05:33:08.688758Z",
     "shell.execute_reply": "2021-07-06T05:33:08.688111Z",
     "shell.execute_reply.started": "2021-07-05T12:20:08.585918Z"
    },
    "papermill": {
     "duration": 0.127238,
     "end_time": "2021-07-06T05:33:08.688915",
     "exception": false,
     "start_time": "2021-07-06T05:33:08.561677",
     "status": "completed"
    },
    "tags": []
   },
   "outputs": [],
   "source": [
    "val_X.to_csv(\"val_X.csv\",index=False)\n",
    "\n",
    "val_y1.to_csv(\"val_y1.csv\",index=False)\n",
    "val_y2.to_csv(\"val_y2.csv\",index=False)\n",
    "val_y3.to_csv(\"val_y3.csv\",index=False)"
   ]
  },
  {
   "cell_type": "markdown",
   "id": "appointed-guatemala",
   "metadata": {
    "papermill": {
     "duration": 0.048429,
     "end_time": "2021-07-06T05:33:08.785788",
     "exception": false,
     "start_time": "2021-07-06T05:33:08.737359",
     "status": "completed"
    },
    "tags": []
   },
   "source": [
    "<div class=\"alert alert-success\">\n",
    "    <h1 align=\"center\">XGBRegressor</h1>\n",
    "</div>"
   ]
  },
  {
   "cell_type": "markdown",
   "id": "chronic-roots",
   "metadata": {
    "papermill": {
     "duration": 0.048321,
     "end_time": "2021-07-06T05:33:08.882108",
     "exception": false,
     "start_time": "2021-07-06T05:33:08.833787",
     "status": "completed"
    },
    "tags": []
   },
   "source": [
    "## Validation Model - 1 \n",
    "\n",
    "### [ target_carbon_monoxide ]"
   ]
  },
  {
   "cell_type": "code",
   "execution_count": 13,
   "id": "approved-march",
   "metadata": {
    "_kg_hide-input": false,
    "execution": {
     "iopub.execute_input": "2021-07-06T05:33:08.986008Z",
     "iopub.status.busy": "2021-07-06T05:33:08.985331Z",
     "iopub.status.idle": "2021-07-06T05:33:10.095851Z",
     "shell.execute_reply": "2021-07-06T05:33:10.096605Z",
     "shell.execute_reply.started": "2021-07-05T12:20:08.670502Z"
    },
    "papermill": {
     "duration": 1.166729,
     "end_time": "2021-07-06T05:33:10.096844",
     "exception": false,
     "start_time": "2021-07-06T05:33:08.930115",
     "status": "completed"
    },
    "tags": []
   },
   "outputs": [
    {
     "name": "stdout",
     "output_type": "stream",
     "text": [
      "========================================\n",
      "Mean Absolute Error: 0.2560567335333545\n",
      "========================================\n"
     ]
    },
    {
     "name": "stderr",
     "output_type": "stream",
     "text": [
      "/opt/conda/lib/python3.7/site-packages/xgboost/data.py:114: UserWarning: Use subset (sliced data) of np.ndarray is not recommended because it will generate extra copies and increase memory consumption\n",
      "  \"because it will generate extra copies and increase \" +\n"
     ]
    }
   ],
   "source": [
    "model1v = XGBRegressor(max_depth=6,\n",
    "                       n_estimators=250,\n",
    "                       learning_rate=0.08,\n",
    "                       subsample=0.7,\n",
    "                       alpha=0.5,\n",
    "                       random_state=123)                           \n",
    "        \n",
    "model1v.fit(train_X, train_y1, verbose=100)\n",
    "oof_pred1 = model1v.predict(val_X)\n",
    "\n",
    "oof_pred1 = np.clip(oof_pred1, 0.30, y1.max())\n",
    "# oof_pred1 = np.clip(oof_pred1, y1.min(), y1.max())\n",
    "\n",
    "print(40 * '=')\n",
    "print(f'Mean Absolute Error: {mean_absolute_error(val_y1, oof_pred1)}')\n",
    "print(40 * '=')"
   ]
  },
  {
   "cell_type": "code",
   "execution_count": 14,
   "id": "ready-aaron",
   "metadata": {
    "execution": {
     "iopub.execute_input": "2021-07-06T05:33:10.202214Z",
     "iopub.status.busy": "2021-07-06T05:33:10.201570Z",
     "iopub.status.idle": "2021-07-06T05:33:10.411999Z",
     "shell.execute_reply": "2021-07-06T05:33:10.411416Z",
     "shell.execute_reply.started": "2021-07-05T12:20:09.960008Z"
    },
    "papermill": {
     "duration": 0.26354,
     "end_time": "2021-07-06T05:33:10.412141",
     "exception": false,
     "start_time": "2021-07-06T05:33:10.148601",
     "status": "completed"
    },
    "tags": []
   },
   "outputs": [
    {
     "data": {
      "text/plain": [
       "array([0.02482429, 0.0185142 , 0.00925024, 0.02536976, 0.14704499,\n",
       "       0.7003592 , 0.01702597, 0.01739425, 0.040217  ], dtype=float32)"
      ]
     },
     "execution_count": 14,
     "metadata": {},
     "output_type": "execute_result"
    }
   ],
   "source": [
    "model1v.feature_importances_"
   ]
  },
  {
   "cell_type": "markdown",
   "id": "entertaining-parent",
   "metadata": {
    "papermill": {
     "duration": 0.051425,
     "end_time": "2021-07-06T05:33:10.512942",
     "exception": false,
     "start_time": "2021-07-06T05:33:10.461517",
     "status": "completed"
    },
    "tags": []
   },
   "source": [
    "<div class=\"alert alert-success\">  \n",
    "</div>"
   ]
  },
  {
   "cell_type": "markdown",
   "id": "significant-enclosure",
   "metadata": {
    "papermill": {
     "duration": 0.048919,
     "end_time": "2021-07-06T05:33:10.611352",
     "exception": false,
     "start_time": "2021-07-06T05:33:10.562433",
     "status": "completed"
    },
    "tags": []
   },
   "source": [
    "## Validation Model - 2 \n",
    "\n",
    "### [ target_benzene ]"
   ]
  },
  {
   "cell_type": "code",
   "execution_count": 15,
   "id": "olympic-crawford",
   "metadata": {
    "execution": {
     "iopub.execute_input": "2021-07-06T05:33:10.718103Z",
     "iopub.status.busy": "2021-07-06T05:33:10.717328Z",
     "iopub.status.idle": "2021-07-06T05:33:12.436054Z",
     "shell.execute_reply": "2021-07-06T05:33:12.436555Z",
     "shell.execute_reply.started": "2021-07-05T12:20:10.181888Z"
    },
    "papermill": {
     "duration": 1.776042,
     "end_time": "2021-07-06T05:33:12.436739",
     "exception": false,
     "start_time": "2021-07-06T05:33:10.660697",
     "status": "completed"
    },
    "tags": []
   },
   "outputs": [
    {
     "name": "stdout",
     "output_type": "stream",
     "text": [
      "========================================\n",
      "Mean Absolute Error: 0.7641871077460064\n",
      "========================================\n"
     ]
    },
    {
     "name": "stderr",
     "output_type": "stream",
     "text": [
      "/opt/conda/lib/python3.7/site-packages/xgboost/data.py:114: UserWarning: Use subset (sliced data) of np.ndarray is not recommended because it will generate extra copies and increase memory consumption\n",
      "  \"because it will generate extra copies and increase \" +\n"
     ]
    }
   ],
   "source": [
    "model2v = XGBRegressor(max_depth=6,\n",
    "                       n_estimators=400,\n",
    "                       learning_rate=0.07,\n",
    "                       subsample=0.7,\n",
    "                       alpha=0.7,\n",
    "                       random_state=123)          \n",
    "\n",
    "model2v.fit(train_X, train_y2, verbose=100)\n",
    "oof_pred2 = model2v.predict(val_X)\n",
    "\n",
    "oof_pred2 = np.clip(oof_pred2, 0.10, y2.max())\n",
    "# oof_pred2 = np.clip(oof_pred2, y1.max(), y2.max())\n",
    "\n",
    "print(40 * '=')\n",
    "print(f'Mean Absolute Error: {mean_absolute_error(val_y2, oof_pred2)}')\n",
    "print(40 * '=')"
   ]
  },
  {
   "cell_type": "code",
   "execution_count": 16,
   "id": "social-parker",
   "metadata": {
    "execution": {
     "iopub.execute_input": "2021-07-06T05:33:12.544541Z",
     "iopub.status.busy": "2021-07-06T05:33:12.543603Z",
     "iopub.status.idle": "2021-07-06T05:33:12.880885Z",
     "shell.execute_reply": "2021-07-06T05:33:12.880201Z",
     "shell.execute_reply.started": "2021-07-05T12:20:12.024166Z"
    },
    "papermill": {
     "duration": 0.392111,
     "end_time": "2021-07-06T05:33:12.881025",
     "exception": false,
     "start_time": "2021-07-06T05:33:12.488914",
     "status": "completed"
    },
    "tags": []
   },
   "outputs": [
    {
     "data": {
      "text/plain": [
       "array([0.00322617, 0.0028076 , 0.0039978 , 0.0043496 , 0.0052299 ,\n",
       "       0.9461059 , 0.01227217, 0.01056899, 0.01144179], dtype=float32)"
      ]
     },
     "execution_count": 16,
     "metadata": {},
     "output_type": "execute_result"
    }
   ],
   "source": [
    "model2v.feature_importances_"
   ]
  },
  {
   "cell_type": "markdown",
   "id": "posted-prayer",
   "metadata": {
    "papermill": {
     "duration": 0.049771,
     "end_time": "2021-07-06T05:33:12.982384",
     "exception": false,
     "start_time": "2021-07-06T05:33:12.932613",
     "status": "completed"
    },
    "tags": []
   },
   "source": [
    "<div class=\"alert alert-success\">  \n",
    "</div>"
   ]
  },
  {
   "cell_type": "markdown",
   "id": "vital-debate",
   "metadata": {
    "papermill": {
     "duration": 0.049967,
     "end_time": "2021-07-06T05:33:13.082524",
     "exception": false,
     "start_time": "2021-07-06T05:33:13.032557",
     "status": "completed"
    },
    "tags": []
   },
   "source": [
    "## Validation Model - 3 \n",
    "\n",
    "### [ target_nitrogen_oxides ]"
   ]
  },
  {
   "cell_type": "code",
   "execution_count": 17,
   "id": "fourth-mongolia",
   "metadata": {
    "execution": {
     "iopub.execute_input": "2021-07-06T05:33:13.201438Z",
     "iopub.status.busy": "2021-07-06T05:33:13.200522Z",
     "iopub.status.idle": "2021-07-06T05:33:17.012429Z",
     "shell.execute_reply": "2021-07-06T05:33:17.013181Z",
     "shell.execute_reply.started": "2021-07-05T12:20:12.378275Z"
    },
    "papermill": {
     "duration": 3.879803,
     "end_time": "2021-07-06T05:33:17.013435",
     "exception": false,
     "start_time": "2021-07-06T05:33:13.133632",
     "status": "completed"
    },
    "tags": []
   },
   "outputs": [
    {
     "name": "stdout",
     "output_type": "stream",
     "text": [
      "========================================\n",
      "Mean Absolute Error: 29.972108888572464\n",
      "========================================\n"
     ]
    },
    {
     "name": "stderr",
     "output_type": "stream",
     "text": [
      "/opt/conda/lib/python3.7/site-packages/xgboost/data.py:114: UserWarning: Use subset (sliced data) of np.ndarray is not recommended because it will generate extra copies and increase memory consumption\n",
      "  \"because it will generate extra copies and increase \" +\n"
     ]
    }
   ],
   "source": [
    "model3v = XGBRegressor(max_depth=8,\n",
    "                       n_estimators=500,\n",
    "                       learning_rate=0.03,\n",
    "                       subsample=0.7,\n",
    "                       alpha=0.8,\n",
    "                       random_state=123)                           \n",
    "\n",
    "model3v.fit(train_X, train_y3, verbose=100)\n",
    "oof_pred3 = model3v.predict(val_X)\n",
    "\n",
    "oof_pred3 = np.clip(oof_pred3, 20.0, y3.max())\n",
    "# oof_pred3 = np.clip(oof_pred3, y3.min(), y3.max())\n",
    "\n",
    "print(40 * '=')\n",
    "print(f'Mean Absolute Error: {mean_absolute_error(val_y3, oof_pred3)}')\n",
    "print(40 * '=')"
   ]
  },
  {
   "cell_type": "code",
   "execution_count": 18,
   "id": "radical-bhutan",
   "metadata": {
    "execution": {
     "iopub.execute_input": "2021-07-06T05:33:17.123997Z",
     "iopub.status.busy": "2021-07-06T05:33:17.123015Z",
     "iopub.status.idle": "2021-07-06T05:33:18.110799Z",
     "shell.execute_reply": "2021-07-06T05:33:18.110242Z",
     "shell.execute_reply.started": "2021-07-05T12:20:15.623624Z"
    },
    "papermill": {
     "duration": 1.043379,
     "end_time": "2021-07-06T05:33:18.110948",
     "exception": false,
     "start_time": "2021-07-06T05:33:17.067569",
     "status": "completed"
    },
    "tags": []
   },
   "outputs": [
    {
     "data": {
      "text/plain": [
       "array([0.11326692, 0.01919963, 0.00936951, 0.02463191, 0.0673358 ,\n",
       "       0.12975633, 0.51992625, 0.03120606, 0.08530759], dtype=float32)"
      ]
     },
     "execution_count": 18,
     "metadata": {},
     "output_type": "execute_result"
    }
   ],
   "source": [
    "model3v.feature_importances_"
   ]
  },
  {
   "cell_type": "markdown",
   "id": "south-advisory",
   "metadata": {
    "papermill": {
     "duration": 0.050668,
     "end_time": "2021-07-06T05:33:18.213425",
     "exception": false,
     "start_time": "2021-07-06T05:33:18.162757",
     "status": "completed"
    },
    "tags": []
   },
   "source": [
    "<div class=\"alert alert-success\">  \n",
    "</div>"
   ]
  },
  {
   "cell_type": "markdown",
   "id": "driven-dating",
   "metadata": {
    "papermill": {
     "duration": 0.050441,
     "end_time": "2021-07-06T05:33:18.315193",
     "exception": false,
     "start_time": "2021-07-06T05:33:18.264752",
     "status": "completed"
    },
    "tags": []
   },
   "source": [
    "## Feature Importances"
   ]
  },
  {
   "cell_type": "code",
   "execution_count": 19,
   "id": "celtic-superintendent",
   "metadata": {
    "execution": {
     "iopub.execute_input": "2021-07-06T05:33:18.425772Z",
     "iopub.status.busy": "2021-07-06T05:33:18.424758Z",
     "iopub.status.idle": "2021-07-06T05:33:20.207425Z",
     "shell.execute_reply": "2021-07-06T05:33:20.206884Z",
     "shell.execute_reply.started": "2021-07-05T12:20:16.583582Z"
    },
    "papermill": {
     "duration": 1.841029,
     "end_time": "2021-07-06T05:33:20.207628",
     "exception": false,
     "start_time": "2021-07-06T05:33:18.366599",
     "status": "completed"
    },
    "tags": []
   },
   "outputs": [
    {
     "data": {
      "image/png": "[encoded data removed]",
      "text/plain": [
       "<Figure size 1152x432 with 1 Axes>"
      ]
     },
     "metadata": {},
     "output_type": "display_data"
    }
   ],
   "source": [
    "axis_x  = X.columns.values\n",
    "axis_y1 = model1v.feature_importances_\n",
    "axis_y2 = model2v.feature_importances_\n",
    "axis_y3 = model3v.feature_importances_\n",
    "\n",
    "plt.style.use('seaborn-whitegrid') \n",
    "plt.figure(figsize=(16, 6), facecolor='lightgray')\n",
    "plt.title(f'\\nX G B o o s t\\n\\nF e a t u r e   I m p o r t a n c e s\\n', fontsize=14)  \n",
    "\n",
    "plt.scatter(axis_x, axis_y1, s=120, label='target_carbon_monoxide') \n",
    "plt.scatter(axis_x, axis_y2, s=120, label='target_benzene')\n",
    "plt.scatter(axis_x, axis_y3, s=120, label='target_nitrogen_oxides')\n",
    "plt.legend(fontsize=12, loc=2)\n",
    "plt.show() "
   ]
  },
  {
   "cell_type": "markdown",
   "id": "casual-brook",
   "metadata": {
    "papermill": {
     "duration": 0.051881,
     "end_time": "2021-07-06T05:33:20.312504",
     "exception": false,
     "start_time": "2021-07-06T05:33:20.260623",
     "status": "completed"
    },
    "tags": []
   },
   "source": [
    "<div class=\"alert alert-success\">  \n",
    "</div>"
   ]
  },
  {
   "cell_type": "markdown",
   "id": "handled-boulder",
   "metadata": {
    "papermill": {
     "duration": 0.051738,
     "end_time": "2021-07-06T05:33:20.416093",
     "exception": false,
     "start_time": "2021-07-06T05:33:20.364355",
     "status": "completed"
    },
    "tags": []
   },
   "source": [
    "## Model - 1 \n",
    "\n",
    "### [ target_carbon_monoxide ]"
   ]
  },
  {
   "cell_type": "code",
   "execution_count": 20,
   "id": "touched-shanghai",
   "metadata": {
    "execution": {
     "iopub.execute_input": "2021-07-06T05:33:20.529993Z",
     "iopub.status.busy": "2021-07-06T05:33:20.529202Z",
     "iopub.status.idle": "2021-07-06T05:33:22.318624Z",
     "shell.execute_reply": "2021-07-06T05:33:22.319169Z",
     "shell.execute_reply.started": "2021-07-05T12:20:18.404296Z"
    },
    "papermill": {
     "duration": 1.851019,
     "end_time": "2021-07-06T05:33:22.319385",
     "exception": false,
     "start_time": "2021-07-06T05:33:20.468366",
     "status": "completed"
    },
    "tags": []
   },
   "outputs": [
    {
     "name": "stderr",
     "output_type": "stream",
     "text": [
      "/opt/conda/lib/python3.7/site-packages/xgboost/data.py:114: UserWarning: Use subset (sliced data) of np.ndarray is not recommended because it will generate extra copies and increase memory consumption\n",
      "  \"because it will generate extra copies and increase \" +\n"
     ]
    },
    {
     "data": {
      "text/plain": [
       "array([1.5823666, 2.1321096, 1.8827125, ..., 2.7137263, 2.351928 ,\n",
       "       2.4353476], dtype=float32)"
      ]
     },
     "metadata": {},
     "output_type": "display_data"
    },
    {
     "data": {
      "text/plain": [
       "(2247,)"
      ]
     },
     "metadata": {},
     "output_type": "display_data"
    }
   ],
   "source": [
    "model1 = XGBRegressor(max_depth=6,\n",
    "                      n_estimators=250,\n",
    "                      learning_rate=0.08,\n",
    "                      subsample=0.7,\n",
    "                      alpha=0.5,\n",
    "                      random_state=123)                         \n",
    "\n",
    "model1.fit(X, y1)\n",
    "pred1 = model1.predict(XX)\n",
    "pred1 = np.clip(pred1, 0.30, y1.max())\n",
    "display(pred1, pred1.shape) "
   ]
  },
  {
   "cell_type": "markdown",
   "id": "armed-meeting",
   "metadata": {
    "papermill": {
     "duration": 0.05448,
     "end_time": "2021-07-06T05:33:22.428388",
     "exception": false,
     "start_time": "2021-07-06T05:33:22.373908",
     "status": "completed"
    },
    "tags": []
   },
   "source": [
    "<div class=\"alert alert-success\">  \n",
    "</div>"
   ]
  },
  {
   "cell_type": "markdown",
   "id": "palestinian-ocean",
   "metadata": {
    "papermill": {
     "duration": 0.054492,
     "end_time": "2021-07-06T05:33:22.537445",
     "exception": false,
     "start_time": "2021-07-06T05:33:22.482953",
     "status": "completed"
    },
    "tags": []
   },
   "source": [
    "## Model - 2 \n",
    "\n",
    "### [ target_benzene ]"
   ]
  },
  {
   "cell_type": "code",
   "execution_count": 21,
   "id": "wooden-timothy",
   "metadata": {
    "execution": {
     "iopub.execute_input": "2021-07-06T05:33:22.651018Z",
     "iopub.status.busy": "2021-07-06T05:33:22.650225Z",
     "iopub.status.idle": "2021-07-06T05:33:25.508094Z",
     "shell.execute_reply": "2021-07-06T05:33:25.508743Z",
     "shell.execute_reply.started": "2021-07-05T12:20:21.134075Z"
    },
    "papermill": {
     "duration": 2.918421,
     "end_time": "2021-07-06T05:33:25.508955",
     "exception": false,
     "start_time": "2021-07-06T05:33:22.590534",
     "status": "completed"
    },
    "tags": []
   },
   "outputs": [
    {
     "data": {
      "text/plain": [
       "array([ 4.4264293,  7.495593 ,  7.0855536, ..., 13.448609 , 10.974118 ,\n",
       "       12.378379 ], dtype=float32)"
      ]
     },
     "metadata": {},
     "output_type": "display_data"
    },
    {
     "data": {
      "text/plain": [
       "(2247,)"
      ]
     },
     "metadata": {},
     "output_type": "display_data"
    }
   ],
   "source": [
    "model2 = XGBRegressor(max_depth=6,                     \n",
    "                      n_estimators=400,\n",
    "                      learning_rate=0.07,\n",
    "                      subsample=0.7,\n",
    "                      alpha=0.7,\n",
    "                      random_state=123)        \n",
    "\n",
    "model2.fit(X, y2)\n",
    "pred2 = model2.predict(XX)\n",
    "pred2 = np.clip(pred2, 0.10, y2.max())\n",
    "display(pred2, pred2.shape) "
   ]
  },
  {
   "cell_type": "markdown",
   "id": "bibliographic-blogger",
   "metadata": {
    "papermill": {
     "duration": 0.053858,
     "end_time": "2021-07-06T05:33:25.619090",
     "exception": false,
     "start_time": "2021-07-06T05:33:25.565232",
     "status": "completed"
    },
    "tags": []
   },
   "source": [
    "<div class=\"alert alert-success\">  \n",
    "</div>"
   ]
  },
  {
   "cell_type": "markdown",
   "id": "floral-korean",
   "metadata": {
    "papermill": {
     "duration": 0.053541,
     "end_time": "2021-07-06T05:33:25.728249",
     "exception": false,
     "start_time": "2021-07-06T05:33:25.674708",
     "status": "completed"
    },
    "tags": []
   },
   "source": [
    "## Model - 3 \n",
    "\n",
    "### [ target_nitrogen_oxides ]"
   ]
  },
  {
   "cell_type": "code",
   "execution_count": 22,
   "id": "public-rental",
   "metadata": {
    "execution": {
     "iopub.execute_input": "2021-07-06T05:33:25.857258Z",
     "iopub.status.busy": "2021-07-06T05:33:25.856537Z",
     "iopub.status.idle": "2021-07-06T05:33:30.886102Z",
     "shell.execute_reply": "2021-07-06T05:33:30.886663Z",
     "shell.execute_reply.started": "2021-07-05T12:20:24.097529Z"
    },
    "papermill": {
     "duration": 5.103457,
     "end_time": "2021-07-06T05:33:30.886855",
     "exception": false,
     "start_time": "2021-07-06T05:33:25.783398",
     "status": "completed"
    },
    "tags": []
   },
   "outputs": [
    {
     "data": {
      "text/plain": [
       "array([205.8645 , 272.6113 , 300.86923, ..., 400.41043, 340.4127 ,\n",
       "       358.67422], dtype=float32)"
      ]
     },
     "metadata": {},
     "output_type": "display_data"
    },
    {
     "data": {
      "text/plain": [
       "(2247,)"
      ]
     },
     "metadata": {},
     "output_type": "display_data"
    }
   ],
   "source": [
    "model3 = XGBRegressor(max_depth=8,\n",
    "                      n_estimators=500,\n",
    "                      learning_rate=0.03,\n",
    "                      subsample=0.7,\n",
    "                      alpha=0.8,\n",
    "                      random_state=123)                           \n",
    "\n",
    "model3.fit(X, y3)\n",
    "pred3 = model3.predict(XX)\n",
    "pred3 = np.clip(pred3, 20.0, y3.max())\n",
    "display(pred3, pred3.shape) "
   ]
  },
  {
   "cell_type": "markdown",
   "id": "tropical-advance",
   "metadata": {
    "papermill": {
     "duration": 0.055018,
     "end_time": "2021-07-06T05:33:30.998656",
     "exception": false,
     "start_time": "2021-07-06T05:33:30.943638",
     "status": "completed"
    },
    "tags": []
   },
   "source": [
    "<div class=\"alert alert-success\">  \n",
    "</div>"
   ]
  },
  {
   "cell_type": "code",
   "execution_count": 23,
   "id": "intensive-museum",
   "metadata": {
    "execution": {
     "iopub.execute_input": "2021-07-06T05:33:31.116553Z",
     "iopub.status.busy": "2021-07-06T05:33:31.115885Z",
     "iopub.status.idle": "2021-07-06T05:33:31.128836Z",
     "shell.execute_reply": "2021-07-06T05:33:31.129285Z",
     "shell.execute_reply.started": "2021-07-05T12:20:29.242302Z"
    },
    "papermill": {
     "duration": 0.076242,
     "end_time": "2021-07-06T05:33:31.129484",
     "exception": false,
     "start_time": "2021-07-06T05:33:31.053242",
     "status": "completed"
    },
    "tags": []
   },
   "outputs": [
    {
     "data": {
      "text/html": [
       "<div>\n",
       "<style scoped>\n",
       "    .dataframe tbody tr th:only-of-type {\n",
       "        vertical-align: middle;\n",
       "    }\n",
       "\n",
       "    .dataframe tbody tr th {\n",
       "        vertical-align: top;\n",
       "    }\n",
       "\n",
       "    .dataframe thead th {\n",
       "        text-align: right;\n",
       "    }\n",
       "</style>\n",
       "<table border=\"1\" class=\"dataframe\">\n",
       "  <thead>\n",
       "    <tr style=\"text-align: right;\">\n",
       "      <th></th>\n",
       "      <th>date_time</th>\n",
       "      <th>target_carbon_monoxide</th>\n",
       "      <th>target_benzene</th>\n",
       "      <th>target_nitrogen_oxides</th>\n",
       "    </tr>\n",
       "  </thead>\n",
       "  <tbody>\n",
       "    <tr>\n",
       "      <th>0</th>\n",
       "      <td>2011-01-01 00:00:00</td>\n",
       "      <td>1.582367</td>\n",
       "      <td>4.426429</td>\n",
       "      <td>205.864502</td>\n",
       "    </tr>\n",
       "    <tr>\n",
       "      <th>1</th>\n",
       "      <td>2011-01-01 01:00:00</td>\n",
       "      <td>2.132110</td>\n",
       "      <td>7.495593</td>\n",
       "      <td>272.611298</td>\n",
       "    </tr>\n",
       "    <tr>\n",
       "      <th>2</th>\n",
       "      <td>2011-01-01 02:00:00</td>\n",
       "      <td>1.882712</td>\n",
       "      <td>7.085554</td>\n",
       "      <td>300.869232</td>\n",
       "    </tr>\n",
       "    <tr>\n",
       "      <th>3</th>\n",
       "      <td>2011-01-01 03:00:00</td>\n",
       "      <td>1.995895</td>\n",
       "      <td>7.529707</td>\n",
       "      <td>298.997375</td>\n",
       "    </tr>\n",
       "    <tr>\n",
       "      <th>4</th>\n",
       "      <td>2011-01-01 04:00:00</td>\n",
       "      <td>1.565804</td>\n",
       "      <td>6.160327</td>\n",
       "      <td>230.211517</td>\n",
       "    </tr>\n",
       "    <tr>\n",
       "      <th>...</th>\n",
       "      <td>...</td>\n",
       "      <td>...</td>\n",
       "      <td>...</td>\n",
       "      <td>...</td>\n",
       "    </tr>\n",
       "    <tr>\n",
       "      <th>2242</th>\n",
       "      <td>2011-04-04 10:00:00</td>\n",
       "      <td>3.096596</td>\n",
       "      <td>12.533555</td>\n",
       "      <td>441.240112</td>\n",
       "    </tr>\n",
       "    <tr>\n",
       "      <th>2243</th>\n",
       "      <td>2011-04-04 11:00:00</td>\n",
       "      <td>2.795836</td>\n",
       "      <td>11.762866</td>\n",
       "      <td>358.570465</td>\n",
       "    </tr>\n",
       "    <tr>\n",
       "      <th>2244</th>\n",
       "      <td>2011-04-04 12:00:00</td>\n",
       "      <td>2.713726</td>\n",
       "      <td>13.448609</td>\n",
       "      <td>400.410431</td>\n",
       "    </tr>\n",
       "    <tr>\n",
       "      <th>2245</th>\n",
       "      <td>2011-04-04 13:00:00</td>\n",
       "      <td>2.351928</td>\n",
       "      <td>10.974118</td>\n",
       "      <td>340.412689</td>\n",
       "    </tr>\n",
       "    <tr>\n",
       "      <th>2246</th>\n",
       "      <td>2011-04-04 14:00:00</td>\n",
       "      <td>2.435348</td>\n",
       "      <td>12.378379</td>\n",
       "      <td>358.674225</td>\n",
       "    </tr>\n",
       "  </tbody>\n",
       "</table>\n",
       "<p>2247 rows × 4 columns</p>\n",
       "</div>"
      ],
      "text/plain": [
       "                date_time  target_carbon_monoxide  target_benzene  \\\n",
       "0     2011-01-01 00:00:00                1.582367        4.426429   \n",
       "1     2011-01-01 01:00:00                2.132110        7.495593   \n",
       "2     2011-01-01 02:00:00                1.882712        7.085554   \n",
       "3     2011-01-01 03:00:00                1.995895        7.529707   \n",
       "4     2011-01-01 04:00:00                1.565804        6.160327   \n",
       "...                   ...                     ...             ...   \n",
       "2242  2011-04-04 10:00:00                3.096596       12.533555   \n",
       "2243  2011-04-04 11:00:00                2.795836       11.762866   \n",
       "2244  2011-04-04 12:00:00                2.713726       13.448609   \n",
       "2245  2011-04-04 13:00:00                2.351928       10.974118   \n",
       "2246  2011-04-04 14:00:00                2.435348       12.378379   \n",
       "\n",
       "      target_nitrogen_oxides  \n",
       "0                 205.864502  \n",
       "1                 272.611298  \n",
       "2                 300.869232  \n",
       "3                 298.997375  \n",
       "4                 230.211517  \n",
       "...                      ...  \n",
       "2242              441.240112  \n",
       "2243              358.570465  \n",
       "2244              400.410431  \n",
       "2245              340.412689  \n",
       "2246              358.674225  \n",
       "\n",
       "[2247 rows x 4 columns]"
      ]
     },
     "metadata": {},
     "output_type": "display_data"
    }
   ],
   "source": [
    "sub_xgb = SAM.copy()\n",
    "\n",
    "sub_xgb['target_carbon_monoxide'] = pred1\n",
    "sub_xgb['target_benzene'] = pred2\n",
    "sub_xgb['target_nitrogen_oxides'] = pred3\n",
    "display(sub_xgb)"
   ]
  },
  {
   "cell_type": "code",
   "execution_count": 24,
   "id": "smart-permit",
   "metadata": {
    "execution": {
     "iopub.execute_input": "2021-07-06T05:33:31.244858Z",
     "iopub.status.busy": "2021-07-06T05:33:31.244173Z",
     "iopub.status.idle": "2021-07-06T05:33:32.003047Z",
     "shell.execute_reply": "2021-07-06T05:33:32.002419Z",
     "shell.execute_reply.started": "2021-07-05T12:20:29.267843Z"
    },
    "papermill": {
     "duration": 0.817168,
     "end_time": "2021-07-06T05:33:32.003206",
     "exception": false,
     "start_time": "2021-07-06T05:33:31.186038",
     "status": "completed"
    },
    "tags": []
   },
   "outputs": [
    {
     "name": "stdout",
     "output_type": "stream",
     "text": [
      "__notebook__.ipynb  val_X.csv\tval_y2.csv\r\n",
      "submission_xgb.csv  val_y1.csv\tval_y3.csv\r\n"
     ]
    }
   ],
   "source": [
    "sub = sub_xgb\n",
    "sub.to_csv(\"submission_xgb.csv\",index=False)\n",
    "# Public Score: 0.23087 \n",
    "!ls"
   ]
  },
  {
   "cell_type": "markdown",
   "id": "elegant-ordering",
   "metadata": {
    "papermill": {
     "duration": 0.056445,
     "end_time": "2021-07-06T05:33:32.115515",
     "exception": false,
     "start_time": "2021-07-06T05:33:32.059070",
     "status": "completed"
    },
    "tags": []
   },
   "source": [
    "<div class=\"alert alert-success\">\n",
    "    <h1 align=\"center\">LeaveOneGroupOut</h1>\n",
    "</div>"
   ]
  },
  {
   "cell_type": "markdown",
   "id": "center-theme",
   "metadata": {
    "papermill": {
     "duration": 0.055516,
     "end_time": "2021-07-06T05:33:32.227810",
     "exception": false,
     "start_time": "2021-07-06T05:33:32.172294",
     "status": "completed"
    },
    "tags": []
   },
   "source": [
    "## Data Augmentation"
   ]
  },
  {
   "cell_type": "code",
   "execution_count": 25,
   "id": "continuing-stack",
   "metadata": {
    "execution": {
     "iopub.execute_input": "2021-07-06T05:33:32.363836Z",
     "iopub.status.busy": "2021-07-06T05:33:32.358630Z",
     "iopub.status.idle": "2021-07-06T05:33:32.619144Z",
     "shell.execute_reply": "2021-07-06T05:33:32.618656Z",
     "shell.execute_reply.started": "2021-07-05T12:20:30.02981Z"
    },
    "papermill": {
     "duration": 0.334916,
     "end_time": "2021-07-06T05:33:32.619278",
     "exception": false,
     "start_time": "2021-07-06T05:33:32.284362",
     "status": "completed"
    },
    "tags": []
   },
   "outputs": [
    {
     "data": {
      "text/html": [
       "<div>\n",
       "<style scoped>\n",
       "    .dataframe tbody tr th:only-of-type {\n",
       "        vertical-align: middle;\n",
       "    }\n",
       "\n",
       "    .dataframe tbody tr th {\n",
       "        vertical-align: top;\n",
       "    }\n",
       "\n",
       "    .dataframe thead th {\n",
       "        text-align: right;\n",
       "    }\n",
       "</style>\n",
       "<table border=\"1\" class=\"dataframe\">\n",
       "  <thead>\n",
       "    <tr style=\"text-align: right;\">\n",
       "      <th></th>\n",
       "      <th>date_time</th>\n",
       "      <th>deg_C</th>\n",
       "      <th>relative_humidity</th>\n",
       "      <th>absolute_humidity</th>\n",
       "      <th>sensor_1</th>\n",
       "      <th>sensor_2</th>\n",
       "      <th>sensor_3</th>\n",
       "      <th>sensor_4</th>\n",
       "      <th>sensor_5</th>\n",
       "      <th>target_carbon_monoxide</th>\n",
       "      <th>target_benzene</th>\n",
       "      <th>target_nitrogen_oxides</th>\n",
       "      <th>months</th>\n",
       "    </tr>\n",
       "  </thead>\n",
       "  <tbody>\n",
       "    <tr>\n",
       "      <th>0</th>\n",
       "      <td>2010-03-10 18:00:00</td>\n",
       "      <td>13.1</td>\n",
       "      <td>46.0</td>\n",
       "      <td>0.7578</td>\n",
       "      <td>1387.2</td>\n",
       "      <td>1087.8</td>\n",
       "      <td>1056.0</td>\n",
       "      <td>1742.8</td>\n",
       "      <td>1293.4</td>\n",
       "      <td>2.5</td>\n",
       "      <td>12.0</td>\n",
       "      <td>167.7</td>\n",
       "      <td>3</td>\n",
       "    </tr>\n",
       "    <tr>\n",
       "      <th>1</th>\n",
       "      <td>2010-03-10 19:00:00</td>\n",
       "      <td>13.2</td>\n",
       "      <td>45.3</td>\n",
       "      <td>0.7255</td>\n",
       "      <td>1279.1</td>\n",
       "      <td>888.2</td>\n",
       "      <td>1197.5</td>\n",
       "      <td>1449.9</td>\n",
       "      <td>1010.9</td>\n",
       "      <td>2.1</td>\n",
       "      <td>9.9</td>\n",
       "      <td>98.9</td>\n",
       "      <td>3</td>\n",
       "    </tr>\n",
       "    <tr>\n",
       "      <th>2</th>\n",
       "      <td>2010-03-10 20:00:00</td>\n",
       "      <td>12.6</td>\n",
       "      <td>56.2</td>\n",
       "      <td>0.7502</td>\n",
       "      <td>1331.9</td>\n",
       "      <td>929.6</td>\n",
       "      <td>1060.2</td>\n",
       "      <td>1586.1</td>\n",
       "      <td>1117.0</td>\n",
       "      <td>2.2</td>\n",
       "      <td>9.2</td>\n",
       "      <td>127.1</td>\n",
       "      <td>3</td>\n",
       "    </tr>\n",
       "    <tr>\n",
       "      <th>3</th>\n",
       "      <td>2010-03-10 21:00:00</td>\n",
       "      <td>11.0</td>\n",
       "      <td>62.4</td>\n",
       "      <td>0.7867</td>\n",
       "      <td>1321.0</td>\n",
       "      <td>929.0</td>\n",
       "      <td>1102.9</td>\n",
       "      <td>1536.5</td>\n",
       "      <td>1263.2</td>\n",
       "      <td>2.2</td>\n",
       "      <td>9.7</td>\n",
       "      <td>177.2</td>\n",
       "      <td>3</td>\n",
       "    </tr>\n",
       "    <tr>\n",
       "      <th>4</th>\n",
       "      <td>2010-03-10 22:00:00</td>\n",
       "      <td>11.9</td>\n",
       "      <td>59.0</td>\n",
       "      <td>0.7888</td>\n",
       "      <td>1272.0</td>\n",
       "      <td>852.7</td>\n",
       "      <td>1180.9</td>\n",
       "      <td>1415.5</td>\n",
       "      <td>1132.2</td>\n",
       "      <td>1.5</td>\n",
       "      <td>6.4</td>\n",
       "      <td>121.8</td>\n",
       "      <td>3</td>\n",
       "    </tr>\n",
       "    <tr>\n",
       "      <th>...</th>\n",
       "      <td>...</td>\n",
       "      <td>...</td>\n",
       "      <td>...</td>\n",
       "      <td>...</td>\n",
       "      <td>...</td>\n",
       "      <td>...</td>\n",
       "      <td>...</td>\n",
       "      <td>...</td>\n",
       "      <td>...</td>\n",
       "      <td>...</td>\n",
       "      <td>...</td>\n",
       "      <td>...</td>\n",
       "      <td>...</td>\n",
       "    </tr>\n",
       "    <tr>\n",
       "      <th>7106</th>\n",
       "      <td>2010-12-31 20:00:00</td>\n",
       "      <td>9.2</td>\n",
       "      <td>32.0</td>\n",
       "      <td>0.3871</td>\n",
       "      <td>1000.5</td>\n",
       "      <td>811.2</td>\n",
       "      <td>873.0</td>\n",
       "      <td>909.0</td>\n",
       "      <td>910.5</td>\n",
       "      <td>1.3</td>\n",
       "      <td>5.1</td>\n",
       "      <td>191.1</td>\n",
       "      <td>12</td>\n",
       "    </tr>\n",
       "    <tr>\n",
       "      <th>7107</th>\n",
       "      <td>2010-12-31 21:00:00</td>\n",
       "      <td>9.1</td>\n",
       "      <td>33.2</td>\n",
       "      <td>0.3766</td>\n",
       "      <td>1022.7</td>\n",
       "      <td>790.0</td>\n",
       "      <td>951.6</td>\n",
       "      <td>912.9</td>\n",
       "      <td>903.4</td>\n",
       "      <td>1.4</td>\n",
       "      <td>5.8</td>\n",
       "      <td>221.3</td>\n",
       "      <td>12</td>\n",
       "    </tr>\n",
       "    <tr>\n",
       "      <th>7108</th>\n",
       "      <td>2010-12-31 22:00:00</td>\n",
       "      <td>9.6</td>\n",
       "      <td>34.6</td>\n",
       "      <td>0.4310</td>\n",
       "      <td>1044.4</td>\n",
       "      <td>767.3</td>\n",
       "      <td>861.9</td>\n",
       "      <td>889.2</td>\n",
       "      <td>1159.1</td>\n",
       "      <td>1.6</td>\n",
       "      <td>5.2</td>\n",
       "      <td>227.4</td>\n",
       "      <td>12</td>\n",
       "    </tr>\n",
       "    <tr>\n",
       "      <th>7109</th>\n",
       "      <td>2010-12-31 23:00:00</td>\n",
       "      <td>8.0</td>\n",
       "      <td>40.7</td>\n",
       "      <td>0.4085</td>\n",
       "      <td>952.8</td>\n",
       "      <td>691.9</td>\n",
       "      <td>908.5</td>\n",
       "      <td>917.0</td>\n",
       "      <td>1206.3</td>\n",
       "      <td>1.5</td>\n",
       "      <td>4.6</td>\n",
       "      <td>199.8</td>\n",
       "      <td>12</td>\n",
       "    </tr>\n",
       "    <tr>\n",
       "      <th>7110</th>\n",
       "      <td>2011-01-01 00:00:00</td>\n",
       "      <td>8.0</td>\n",
       "      <td>41.3</td>\n",
       "      <td>0.4375</td>\n",
       "      <td>1108.8</td>\n",
       "      <td>745.7</td>\n",
       "      <td>797.1</td>\n",
       "      <td>880.0</td>\n",
       "      <td>1273.1</td>\n",
       "      <td>1.4</td>\n",
       "      <td>4.1</td>\n",
       "      <td>186.5</td>\n",
       "      <td>12</td>\n",
       "    </tr>\n",
       "  </tbody>\n",
       "</table>\n",
       "<p>7111 rows × 13 columns</p>\n",
       "</div>"
      ],
      "text/plain": [
       "                date_time  deg_C  relative_humidity  absolute_humidity  \\\n",
       "0     2010-03-10 18:00:00   13.1               46.0             0.7578   \n",
       "1     2010-03-10 19:00:00   13.2               45.3             0.7255   \n",
       "2     2010-03-10 20:00:00   12.6               56.2             0.7502   \n",
       "3     2010-03-10 21:00:00   11.0               62.4             0.7867   \n",
       "4     2010-03-10 22:00:00   11.9               59.0             0.7888   \n",
       "...                   ...    ...                ...                ...   \n",
       "7106  2010-12-31 20:00:00    9.2               32.0             0.3871   \n",
       "7107  2010-12-31 21:00:00    9.1               33.2             0.3766   \n",
       "7108  2010-12-31 22:00:00    9.6               34.6             0.4310   \n",
       "7109  2010-12-31 23:00:00    8.0               40.7             0.4085   \n",
       "7110  2011-01-01 00:00:00    8.0               41.3             0.4375   \n",
       "\n",
       "      sensor_1  sensor_2  sensor_3  sensor_4  sensor_5  \\\n",
       "0       1387.2    1087.8    1056.0    1742.8    1293.4   \n",
       "1       1279.1     888.2    1197.5    1449.9    1010.9   \n",
       "2       1331.9     929.6    1060.2    1586.1    1117.0   \n",
       "3       1321.0     929.0    1102.9    1536.5    1263.2   \n",
       "4       1272.0     852.7    1180.9    1415.5    1132.2   \n",
       "...        ...       ...       ...       ...       ...   \n",
       "7106    1000.5     811.2     873.0     909.0     910.5   \n",
       "7107    1022.7     790.0     951.6     912.9     903.4   \n",
       "7108    1044.4     767.3     861.9     889.2    1159.1   \n",
       "7109     952.8     691.9     908.5     917.0    1206.3   \n",
       "7110    1108.8     745.7     797.1     880.0    1273.1   \n",
       "\n",
       "      target_carbon_monoxide  target_benzene  target_nitrogen_oxides  months  \n",
       "0                        2.5            12.0                   167.7       3  \n",
       "1                        2.1             9.9                    98.9       3  \n",
       "2                        2.2             9.2                   127.1       3  \n",
       "3                        2.2             9.7                   177.2       3  \n",
       "4                        1.5             6.4                   121.8       3  \n",
       "...                      ...             ...                     ...     ...  \n",
       "7106                     1.3             5.1                   191.1      12  \n",
       "7107                     1.4             5.8                   221.3      12  \n",
       "7108                     1.6             5.2                   227.4      12  \n",
       "7109                     1.5             4.6                   199.8      12  \n",
       "7110                     1.4             4.1                   186.5      12  \n",
       "\n",
       "[7111 rows x 13 columns]"
      ]
     },
     "metadata": {},
     "output_type": "display_data"
    }
   ],
   "source": [
    "months1 = []\n",
    "for i in range(len(data1)):  \n",
    "    \n",
    "    row  = data1.iloc[i,0]    \n",
    "    mon  = int(row[5:7])\n",
    "    #day = int(row[8:10])\n",
    "    #hou = int(row[11:13])    \n",
    "    if (mon == 1): mon=12  \n",
    "    months1.append(mon)   \n",
    "    \n",
    "data1['months'] = months1\n",
    "display(data1)    "
   ]
  },
  {
   "cell_type": "code",
   "execution_count": 26,
   "id": "durable-chambers",
   "metadata": {
    "execution": {
     "iopub.execute_input": "2021-07-06T05:33:32.806326Z",
     "iopub.status.busy": "2021-07-06T05:33:32.775407Z",
     "iopub.status.idle": "2021-07-06T05:33:32.843384Z",
     "shell.execute_reply": "2021-07-06T05:33:32.842782Z",
     "shell.execute_reply.started": "2021-07-05T12:20:30.31222Z"
    },
    "papermill": {
     "duration": 0.165789,
     "end_time": "2021-07-06T05:33:32.843543",
     "exception": false,
     "start_time": "2021-07-06T05:33:32.677754",
     "status": "completed"
    },
    "tags": []
   },
   "outputs": [
    {
     "data": {
      "text/html": [
       "<div>\n",
       "<style scoped>\n",
       "    .dataframe tbody tr th:only-of-type {\n",
       "        vertical-align: middle;\n",
       "    }\n",
       "\n",
       "    .dataframe tbody tr th {\n",
       "        vertical-align: top;\n",
       "    }\n",
       "\n",
       "    .dataframe thead th {\n",
       "        text-align: right;\n",
       "    }\n",
       "</style>\n",
       "<table border=\"1\" class=\"dataframe\">\n",
       "  <thead>\n",
       "    <tr style=\"text-align: right;\">\n",
       "      <th></th>\n",
       "      <th>date_time</th>\n",
       "      <th>deg_C</th>\n",
       "      <th>relative_humidity</th>\n",
       "      <th>absolute_humidity</th>\n",
       "      <th>sensor_1</th>\n",
       "      <th>sensor_2</th>\n",
       "      <th>sensor_3</th>\n",
       "      <th>sensor_4</th>\n",
       "      <th>sensor_5</th>\n",
       "      <th>months</th>\n",
       "    </tr>\n",
       "  </thead>\n",
       "  <tbody>\n",
       "    <tr>\n",
       "      <th>0</th>\n",
       "      <td>2011-01-01 00:00:00</td>\n",
       "      <td>8.0</td>\n",
       "      <td>41.3</td>\n",
       "      <td>0.4375</td>\n",
       "      <td>1108.8</td>\n",
       "      <td>745.7</td>\n",
       "      <td>797.1</td>\n",
       "      <td>880.0</td>\n",
       "      <td>1273.1</td>\n",
       "      <td>1</td>\n",
       "    </tr>\n",
       "    <tr>\n",
       "      <th>1</th>\n",
       "      <td>2011-01-01 01:00:00</td>\n",
       "      <td>5.1</td>\n",
       "      <td>51.7</td>\n",
       "      <td>0.4564</td>\n",
       "      <td>1249.5</td>\n",
       "      <td>864.9</td>\n",
       "      <td>687.9</td>\n",
       "      <td>972.8</td>\n",
       "      <td>1714.0</td>\n",
       "      <td>1</td>\n",
       "    </tr>\n",
       "    <tr>\n",
       "      <th>2</th>\n",
       "      <td>2011-01-01 02:00:00</td>\n",
       "      <td>5.8</td>\n",
       "      <td>51.5</td>\n",
       "      <td>0.4689</td>\n",
       "      <td>1102.6</td>\n",
       "      <td>878.0</td>\n",
       "      <td>693.7</td>\n",
       "      <td>941.9</td>\n",
       "      <td>1300.8</td>\n",
       "      <td>1</td>\n",
       "    </tr>\n",
       "    <tr>\n",
       "      <th>3</th>\n",
       "      <td>2011-01-01 03:00:00</td>\n",
       "      <td>5.0</td>\n",
       "      <td>52.3</td>\n",
       "      <td>0.4693</td>\n",
       "      <td>1139.7</td>\n",
       "      <td>916.2</td>\n",
       "      <td>725.6</td>\n",
       "      <td>1011.0</td>\n",
       "      <td>1283.0</td>\n",
       "      <td>1</td>\n",
       "    </tr>\n",
       "    <tr>\n",
       "      <th>4</th>\n",
       "      <td>2011-01-01 04:00:00</td>\n",
       "      <td>4.5</td>\n",
       "      <td>57.5</td>\n",
       "      <td>0.4650</td>\n",
       "      <td>1022.4</td>\n",
       "      <td>838.5</td>\n",
       "      <td>871.5</td>\n",
       "      <td>967.0</td>\n",
       "      <td>1142.3</td>\n",
       "      <td>1</td>\n",
       "    </tr>\n",
       "    <tr>\n",
       "      <th>...</th>\n",
       "      <td>...</td>\n",
       "      <td>...</td>\n",
       "      <td>...</td>\n",
       "      <td>...</td>\n",
       "      <td>...</td>\n",
       "      <td>...</td>\n",
       "      <td>...</td>\n",
       "      <td>...</td>\n",
       "      <td>...</td>\n",
       "      <td>...</td>\n",
       "    </tr>\n",
       "    <tr>\n",
       "      <th>2242</th>\n",
       "      <td>2011-04-04 10:00:00</td>\n",
       "      <td>23.2</td>\n",
       "      <td>28.7</td>\n",
       "      <td>0.7568</td>\n",
       "      <td>1340.3</td>\n",
       "      <td>1023.9</td>\n",
       "      <td>522.8</td>\n",
       "      <td>1374.0</td>\n",
       "      <td>1659.8</td>\n",
       "      <td>4</td>\n",
       "    </tr>\n",
       "    <tr>\n",
       "      <th>2243</th>\n",
       "      <td>2011-04-04 11:00:00</td>\n",
       "      <td>24.5</td>\n",
       "      <td>22.5</td>\n",
       "      <td>0.7119</td>\n",
       "      <td>1232.8</td>\n",
       "      <td>955.1</td>\n",
       "      <td>616.1</td>\n",
       "      <td>1226.1</td>\n",
       "      <td>1269.0</td>\n",
       "      <td>4</td>\n",
       "    </tr>\n",
       "    <tr>\n",
       "      <th>2244</th>\n",
       "      <td>2011-04-04 12:00:00</td>\n",
       "      <td>26.6</td>\n",
       "      <td>19.0</td>\n",
       "      <td>0.6406</td>\n",
       "      <td>1187.7</td>\n",
       "      <td>1052.4</td>\n",
       "      <td>572.8</td>\n",
       "      <td>1253.4</td>\n",
       "      <td>1081.1</td>\n",
       "      <td>4</td>\n",
       "    </tr>\n",
       "    <tr>\n",
       "      <th>2245</th>\n",
       "      <td>2011-04-04 13:00:00</td>\n",
       "      <td>29.1</td>\n",
       "      <td>12.7</td>\n",
       "      <td>0.5139</td>\n",
       "      <td>1053.2</td>\n",
       "      <td>1009.0</td>\n",
       "      <td>702.0</td>\n",
       "      <td>1009.8</td>\n",
       "      <td>808.5</td>\n",
       "      <td>4</td>\n",
       "    </tr>\n",
       "    <tr>\n",
       "      <th>2246</th>\n",
       "      <td>2011-04-04 14:00:00</td>\n",
       "      <td>27.9</td>\n",
       "      <td>13.5</td>\n",
       "      <td>0.5028</td>\n",
       "      <td>1124.6</td>\n",
       "      <td>1078.4</td>\n",
       "      <td>608.2</td>\n",
       "      <td>1061.3</td>\n",
       "      <td>816.0</td>\n",
       "      <td>4</td>\n",
       "    </tr>\n",
       "  </tbody>\n",
       "</table>\n",
       "<p>2247 rows × 10 columns</p>\n",
       "</div>"
      ],
      "text/plain": [
       "                date_time  deg_C  relative_humidity  absolute_humidity  \\\n",
       "0     2011-01-01 00:00:00    8.0               41.3             0.4375   \n",
       "1     2011-01-01 01:00:00    5.1               51.7             0.4564   \n",
       "2     2011-01-01 02:00:00    5.8               51.5             0.4689   \n",
       "3     2011-01-01 03:00:00    5.0               52.3             0.4693   \n",
       "4     2011-01-01 04:00:00    4.5               57.5             0.4650   \n",
       "...                   ...    ...                ...                ...   \n",
       "2242  2011-04-04 10:00:00   23.2               28.7             0.7568   \n",
       "2243  2011-04-04 11:00:00   24.5               22.5             0.7119   \n",
       "2244  2011-04-04 12:00:00   26.6               19.0             0.6406   \n",
       "2245  2011-04-04 13:00:00   29.1               12.7             0.5139   \n",
       "2246  2011-04-04 14:00:00   27.9               13.5             0.5028   \n",
       "\n",
       "      sensor_1  sensor_2  sensor_3  sensor_4  sensor_5  months  \n",
       "0       1108.8     745.7     797.1     880.0    1273.1       1  \n",
       "1       1249.5     864.9     687.9     972.8    1714.0       1  \n",
       "2       1102.6     878.0     693.7     941.9    1300.8       1  \n",
       "3       1139.7     916.2     725.6    1011.0    1283.0       1  \n",
       "4       1022.4     838.5     871.5     967.0    1142.3       1  \n",
       "...        ...       ...       ...       ...       ...     ...  \n",
       "2242    1340.3    1023.9     522.8    1374.0    1659.8       4  \n",
       "2243    1232.8     955.1     616.1    1226.1    1269.0       4  \n",
       "2244    1187.7    1052.4     572.8    1253.4    1081.1       4  \n",
       "2245    1053.2    1009.0     702.0    1009.8     808.5       4  \n",
       "2246    1124.6    1078.4     608.2    1061.3     816.0       4  \n",
       "\n",
       "[2247 rows x 10 columns]"
      ]
     },
     "metadata": {},
     "output_type": "display_data"
    }
   ],
   "source": [
    "months2 = []\n",
    "for i in range(len(data2)):  \n",
    "    \n",
    "    row  = data2.iloc[i,0]    \n",
    "    mon  = int(row[5:7])\n",
    "    #day = int(row[8:10])\n",
    "    #hou = int(row[11:13])  \n",
    "    months2.append(mon)   \n",
    "    \n",
    "data2['months'] = months2\n",
    "display(data2)    "
   ]
  },
  {
   "cell_type": "markdown",
   "id": "neither-waters",
   "metadata": {
    "papermill": {
     "duration": 0.057092,
     "end_time": "2021-07-06T05:33:32.958070",
     "exception": false,
     "start_time": "2021-07-06T05:33:32.900978",
     "status": "completed"
    },
    "tags": []
   },
   "source": [
    "<div class=\"alert alert-success\">  \n",
    "</div>"
   ]
  },
  {
   "cell_type": "code",
   "execution_count": 27,
   "id": "civilian-theater",
   "metadata": {
    "execution": {
     "iopub.execute_input": "2021-07-06T05:33:33.081432Z",
     "iopub.status.busy": "2021-07-06T05:33:33.080602Z",
     "iopub.status.idle": "2021-07-06T05:33:33.083876Z",
     "shell.execute_reply": "2021-07-06T05:33:33.084352Z",
     "shell.execute_reply.started": "2021-07-05T12:20:30.42177Z"
    },
    "papermill": {
     "duration": 0.06834,
     "end_time": "2021-07-06T05:33:33.084535",
     "exception": false,
     "start_time": "2021-07-06T05:33:33.016195",
     "status": "completed"
    },
    "tags": []
   },
   "outputs": [
    {
     "data": {
      "text/plain": [
       "0        3\n",
       "1        3\n",
       "2        3\n",
       "3        3\n",
       "4        3\n",
       "        ..\n",
       "7106    12\n",
       "7107    12\n",
       "7108    12\n",
       "7109    12\n",
       "7110    12\n",
       "Name: months, Length: 7111, dtype: int64"
      ]
     },
     "metadata": {},
     "output_type": "display_data"
    }
   ],
   "source": [
    "groups = data1['months']\n",
    "display(groups)"
   ]
  },
  {
   "cell_type": "code",
   "execution_count": 28,
   "id": "traditional-alberta",
   "metadata": {
    "execution": {
     "iopub.execute_input": "2021-07-06T05:33:33.206680Z",
     "iopub.status.busy": "2021-07-06T05:33:33.205676Z",
     "iopub.status.idle": "2021-07-06T05:33:33.210522Z",
     "shell.execute_reply": "2021-07-06T05:33:33.211238Z",
     "shell.execute_reply.started": "2021-07-05T12:20:30.434895Z"
    },
    "papermill": {
     "duration": 0.068958,
     "end_time": "2021-07-06T05:33:33.211481",
     "exception": false,
     "start_time": "2021-07-06T05:33:33.142523",
     "status": "completed"
    },
    "tags": []
   },
   "outputs": [
    {
     "name": "stdout",
     "output_type": "stream",
     "text": [
      "10\n",
      "10\n",
      "10\n"
     ]
    }
   ],
   "source": [
    "logo = LeaveOneGroupOut()\n",
    "\n",
    "print(logo.get_n_splits(X, y1, groups))\n",
    "print(logo.get_n_splits(X, y2, groups))\n",
    "print(logo.get_n_splits(X, y3, groups))"
   ]
  },
  {
   "cell_type": "code",
   "execution_count": 29,
   "id": "lasting-porter",
   "metadata": {
    "_kg_hide-output": true,
    "execution": {
     "iopub.execute_input": "2021-07-06T05:33:33.333966Z",
     "iopub.status.busy": "2021-07-06T05:33:33.333316Z",
     "iopub.status.idle": "2021-07-06T05:33:33.376075Z",
     "shell.execute_reply": "2021-07-06T05:33:33.362989Z",
     "shell.execute_reply.started": "2021-07-05T12:20:30.446191Z"
    },
    "papermill": {
     "duration": 0.106041,
     "end_time": "2021-07-06T05:33:33.376301",
     "exception": false,
     "start_time": "2021-07-06T05:33:33.270260",
     "status": "completed"
    },
    "tags": []
   },
   "outputs": [
    {
     "name": "stdout",
     "output_type": "stream",
     "text": [
      "Train index:\n",
      "[ 510  511  512 ... 7108 7109 7110]\n",
      "\n",
      "Test index:\n",
      "[  0   1   2   3   4   5   6   7   8   9  10  11  12  13  14  15  16  17\n",
      "  18  19  20  21  22  23  24  25  26  27  28  29  30  31  32  33  34  35\n",
      "  36  37  38  39  40  41  42  43  44  45  46  47  48  49  50  51  52  53\n",
      "  54  55  56  57  58  59  60  61  62  63  64  65  66  67  68  69  70  71\n",
      "  72  73  74  75  76  77  78  79  80  81  82  83  84  85  86  87  88  89\n",
      "  90  91  92  93  94  95  96  97  98  99 100 101 102 103 104 105 106 107\n",
      " 108 109 110 111 112 113 114 115 116 117 118 119 120 121 122 123 124 125\n",
      " 126 127 128 129 130 131 132 133 134 135 136 137 138 139 140 141 142 143\n",
      " 144 145 146 147 148 149 150 151 152 153 154 155 156 157 158 159 160 161\n",
      " 162 163 164 165 166 167 168 169 170 171 172 173 174 175 176 177 178 179\n",
      " 180 181 182 183 184 185 186 187 188 189 190 191 192 193 194 195 196 197\n",
      " 198 199 200 201 202 203 204 205 206 207 208 209 210 211 212 213 214 215\n",
      " 216 217 218 219 220 221 222 223 224 225 226 227 228 229 230 231 232 233\n",
      " 234 235 236 237 238 239 240 241 242 243 244 245 246 247 248 249 250 251\n",
      " 252 253 254 255 256 257 258 259 260 261 262 263 264 265 266 267 268 269\n",
      " 270 271 272 273 274 275 276 277 278 279 280 281 282 283 284 285 286 287\n",
      " 288 289 290 291 292 293 294 295 296 297 298 299 300 301 302 303 304 305\n",
      " 306 307 308 309 310 311 312 313 314 315 316 317 318 319 320 321 322 323\n",
      " 324 325 326 327 328 329 330 331 332 333 334 335 336 337 338 339 340 341\n",
      " 342 343 344 345 346 347 348 349 350 351 352 353 354 355 356 357 358 359\n",
      " 360 361 362 363 364 365 366 367 368 369 370 371 372 373 374 375 376 377\n",
      " 378 379 380 381 382 383 384 385 386 387 388 389 390 391 392 393 394 395\n",
      " 396 397 398 399 400 401 402 403 404 405 406 407 408 409 410 411 412 413\n",
      " 414 415 416 417 418 419 420 421 422 423 424 425 426 427 428 429 430 431\n",
      " 432 433 434 435 436 437 438 439 440 441 442 443 444 445 446 447 448 449\n",
      " 450 451 452 453 454 455 456 457 458 459 460 461 462 463 464 465 466 467\n",
      " 468 469 470 471 472 473 474 475 476 477 478 479 480 481 482 483 484 485\n",
      " 486 487 488 489 490 491 492 493 494 495 496 497 498 499 500 501 502 503\n",
      " 504 505 506 507 508 509]\n",
      "======================================================================\n",
      "Train index:\n",
      "[   0    1    2 ... 7108 7109 7110]\n",
      "\n",
      "Test index:\n",
      "[ 510  511  512  513  514  515  516  517  518  519  520  521  522  523\n",
      "  524  525  526  527  528  529  530  531  532  533  534  535  536  537\n",
      "  538  539  540  541  542  543  544  545  546  547  548  549  550  551\n",
      "  552  553  554  555  556  557  558  559  560  561  562  563  564  565\n",
      "  566  567  568  569  570  571  572  573  574  575  576  577  578  579\n",
      "  580  581  582  583  584  585  586  587  588  589  590  591  592  593\n",
      "  594  595  596  597  598  599  600  601  602  603  604  605  606  607\n",
      "  608  609  610  611  612  613  614  615  616  617  618  619  620  621\n",
      "  622  623  624  625  626  627  628  629  630  631  632  633  634  635\n",
      "  636  637  638  639  640  641  642  643  644  645  646  647  648  649\n",
      "  650  651  652  653  654  655  656  657  658  659  660  661  662  663\n",
      "  664  665  666  667  668  669  670  671  672  673  674  675  676  677\n",
      "  678  679  680  681  682  683  684  685  686  687  688  689  690  691\n",
      "  692  693  694  695  696  697  698  699  700  701  702  703  704  705\n",
      "  706  707  708  709  710  711  712  713  714  715  716  717  718  719\n",
      "  720  721  722  723  724  725  726  727  728  729  730  731  732  733\n",
      "  734  735  736  737  738  739  740  741  742  743  744  745  746  747\n",
      "  748  749  750  751  752  753  754  755  756  757  758  759  760  761\n",
      "  762  763  764  765  766  767  768  769  770  771  772  773  774  775\n",
      "  776  777  778  779  780  781  782  783  784  785  786  787  788  789\n",
      "  790  791  792  793  794  795  796  797  798  799  800  801  802  803\n",
      "  804  805  806  807  808  809  810  811  812  813  814  815  816  817\n",
      "  818  819  820  821  822  823  824  825  826  827  828  829  830  831\n",
      "  832  833  834  835  836  837  838  839  840  841  842  843  844  845\n",
      "  846  847  848  849  850  851  852  853  854  855  856  857  858  859\n",
      "  860  861  862  863  864  865  866  867  868  869  870  871  872  873\n",
      "  874  875  876  877  878  879  880  881  882  883  884  885  886  887\n",
      "  888  889  890  891  892  893  894  895  896  897  898  899  900  901\n",
      "  902  903  904  905  906  907  908  909  910  911  912  913  914  915\n",
      "  916  917  918  919  920  921  922  923  924  925  926  927  928  929\n",
      "  930  931  932  933  934  935  936  937  938  939  940  941  942  943\n",
      "  944  945  946  947  948  949  950  951  952  953  954  955  956  957\n",
      "  958  959  960  961  962  963  964  965  966  967  968  969  970  971\n",
      "  972  973  974  975  976  977  978  979  980  981  982  983  984  985\n",
      "  986  987  988  989  990  991  992  993  994  995  996  997  998  999\n",
      " 1000 1001 1002 1003 1004 1005 1006 1007 1008 1009 1010 1011 1012 1013\n",
      " 1014 1015 1016 1017 1018 1019 1020 1021 1022 1023 1024 1025 1026 1027\n",
      " 1028 1029 1030 1031 1032 1033 1034 1035 1036 1037 1038 1039 1040 1041\n",
      " 1042 1043 1044 1045 1046 1047 1048 1049 1050 1051 1052 1053 1054 1055\n",
      " 1056 1057 1058 1059 1060 1061 1062 1063 1064 1065 1066 1067 1068 1069\n",
      " 1070 1071 1072 1073 1074 1075 1076 1077 1078 1079 1080 1081 1082 1083\n",
      " 1084 1085 1086 1087 1088 1089 1090 1091 1092 1093 1094 1095 1096 1097\n",
      " 1098 1099 1100 1101 1102 1103 1104 1105 1106 1107 1108 1109 1110 1111\n",
      " 1112 1113 1114 1115 1116 1117 1118 1119 1120 1121 1122 1123 1124 1125\n",
      " 1126 1127 1128 1129 1130 1131 1132 1133 1134 1135 1136 1137 1138 1139\n",
      " 1140 1141 1142 1143 1144 1145 1146 1147 1148 1149 1150 1151 1152 1153\n",
      " 1154 1155 1156 1157 1158 1159 1160 1161 1162 1163 1164 1165 1166 1167\n",
      " 1168 1169 1170 1171 1172 1173 1174 1175 1176 1177 1178 1179 1180 1181\n",
      " 1182 1183 1184 1185 1186 1187 1188 1189 1190 1191 1192 1193 1194 1195\n",
      " 1196 1197 1198 1199 1200 1201 1202 1203 1204 1205 1206 1207 1208 1209\n",
      " 1210 1211 1212 1213 1214 1215 1216 1217 1218 1219 1220 1221 1222 1223\n",
      " 1224 1225 1226 1227 1228 1229]\n",
      "======================================================================\n",
      "Train index:\n",
      "[   0    1    2 ... 7108 7109 7110]\n",
      "\n",
      "Test index:\n",
      "[1230 1231 1232 1233 1234 1235 1236 1237 1238 1239 1240 1241 1242 1243\n",
      " 1244 1245 1246 1247 1248 1249 1250 1251 1252 1253 1254 1255 1256 1257\n",
      " 1258 1259 1260 1261 1262 1263 1264 1265 1266 1267 1268 1269 1270 1271\n",
      " 1272 1273 1274 1275 1276 1277 1278 1279 1280 1281 1282 1283 1284 1285\n",
      " 1286 1287 1288 1289 1290 1291 1292 1293 1294 1295 1296 1297 1298 1299\n",
      " 1300 1301 1302 1303 1304 1305 1306 1307 1308 1309 1310 1311 1312 1313\n",
      " 1314 1315 1316 1317 1318 1319 1320 1321 1322 1323 1324 1325 1326 1327\n",
      " 1328 1329 1330 1331 1332 1333 1334 1335 1336 1337 1338 1339 1340 1341\n",
      " 1342 1343 1344 1345 1346 1347 1348 1349 1350 1351 1352 1353 1354 1355\n",
      " 1356 1357 1358 1359 1360 1361 1362 1363 1364 1365 1366 1367 1368 1369\n",
      " 1370 1371 1372 1373 1374 1375 1376 1377 1378 1379 1380 1381 1382 1383\n",
      " 1384 1385 1386 1387 1388 1389 1390 1391 1392 1393 1394 1395 1396 1397\n",
      " 1398 1399 1400 1401 1402 1403 1404 1405 1406 1407 1408 1409 1410 1411\n",
      " 1412 1413 1414 1415 1416 1417 1418 1419 1420 1421 1422 1423 1424 1425\n",
      " 1426 1427 1428 1429 1430 1431 1432 1433 1434 1435 1436 1437 1438 1439\n",
      " 1440 1441 1442 1443 1444 1445 1446 1447 1448 1449 1450 1451 1452 1453\n",
      " 1454 1455 1456 1457 1458 1459 1460 1461 1462 1463 1464 1465 1466 1467\n",
      " 1468 1469 1470 1471 1472 1473 1474 1475 1476 1477 1478 1479 1480 1481\n",
      " 1482 1483 1484 1485 1486 1487 1488 1489 1490 1491 1492 1493 1494 1495\n",
      " 1496 1497 1498 1499 1500 1501 1502 1503 1504 1505 1506 1507 1508 1509\n",
      " 1510 1511 1512 1513 1514 1515 1516 1517 1518 1519 1520 1521 1522 1523\n",
      " 1524 1525 1526 1527 1528 1529 1530 1531 1532 1533 1534 1535 1536 1537\n",
      " 1538 1539 1540 1541 1542 1543 1544 1545 1546 1547 1548 1549 1550 1551\n",
      " 1552 1553 1554 1555 1556 1557 1558 1559 1560 1561 1562 1563 1564 1565\n",
      " 1566 1567 1568 1569 1570 1571 1572 1573 1574 1575 1576 1577 1578 1579\n",
      " 1580 1581 1582 1583 1584 1585 1586 1587 1588 1589 1590 1591 1592 1593\n",
      " 1594 1595 1596 1597 1598 1599 1600 1601 1602 1603 1604 1605 1606 1607\n",
      " 1608 1609 1610 1611 1612 1613 1614 1615 1616 1617 1618 1619 1620 1621\n",
      " 1622 1623 1624 1625 1626 1627 1628 1629 1630 1631 1632 1633 1634 1635\n",
      " 1636 1637 1638 1639 1640 1641 1642 1643 1644 1645 1646 1647 1648 1649\n",
      " 1650 1651 1652 1653 1654 1655 1656 1657 1658 1659 1660 1661 1662 1663\n",
      " 1664 1665 1666 1667 1668 1669 1670 1671 1672 1673 1674 1675 1676 1677\n",
      " 1678 1679 1680 1681 1682 1683 1684 1685 1686 1687 1688 1689 1690 1691\n",
      " 1692 1693 1694 1695 1696 1697 1698 1699 1700 1701 1702 1703 1704 1705\n",
      " 1706 1707 1708 1709 1710 1711 1712 1713 1714 1715 1716 1717 1718 1719\n",
      " 1720 1721 1722 1723 1724 1725 1726 1727 1728 1729 1730 1731 1732 1733\n",
      " 1734 1735 1736 1737 1738 1739 1740 1741 1742 1743 1744 1745 1746 1747\n",
      " 1748 1749 1750 1751 1752 1753 1754 1755 1756 1757 1758 1759 1760 1761\n",
      " 1762 1763 1764 1765 1766 1767 1768 1769 1770 1771 1772 1773 1774 1775\n",
      " 1776 1777 1778 1779 1780 1781 1782 1783 1784 1785 1786 1787 1788 1789\n",
      " 1790 1791 1792 1793 1794 1795 1796 1797 1798 1799 1800 1801 1802 1803\n",
      " 1804 1805 1806 1807 1808 1809 1810 1811 1812 1813 1814 1815 1816 1817\n",
      " 1818 1819 1820 1821 1822 1823 1824 1825 1826 1827 1828 1829 1830 1831\n",
      " 1832 1833 1834 1835 1836 1837 1838 1839 1840 1841 1842 1843 1844 1845\n",
      " 1846 1847 1848 1849 1850 1851 1852 1853 1854 1855 1856 1857 1858 1859\n",
      " 1860 1861 1862 1863 1864 1865 1866 1867 1868 1869 1870 1871 1872 1873\n",
      " 1874 1875 1876 1877 1878 1879 1880 1881 1882 1883 1884 1885 1886 1887\n",
      " 1888 1889 1890 1891 1892 1893 1894 1895 1896 1897 1898 1899 1900 1901\n",
      " 1902 1903 1904 1905 1906 1907 1908 1909 1910 1911 1912 1913 1914 1915\n",
      " 1916 1917 1918 1919 1920 1921 1922 1923 1924 1925 1926 1927 1928 1929\n",
      " 1930 1931 1932 1933 1934 1935 1936 1937 1938 1939 1940 1941 1942 1943\n",
      " 1944 1945 1946 1947 1948 1949 1950 1951 1952 1953 1954 1955 1956 1957\n",
      " 1958 1959 1960 1961 1962 1963 1964 1965 1966 1967 1968 1969 1970 1971\n",
      " 1972 1973]\n",
      "======================================================================\n",
      "Train index:\n",
      "[   0    1    2 ... 7108 7109 7110]\n",
      "\n",
      "Test index:\n",
      "[1974 1975 1976 1977 1978 1979 1980 1981 1982 1983 1984 1985 1986 1987\n",
      " 1988 1989 1990 1991 1992 1993 1994 1995 1996 1997 1998 1999 2000 2001\n",
      " 2002 2003 2004 2005 2006 2007 2008 2009 2010 2011 2012 2013 2014 2015\n",
      " 2016 2017 2018 2019 2020 2021 2022 2023 2024 2025 2026 2027 2028 2029\n",
      " 2030 2031 2032 2033 2034 2035 2036 2037 2038 2039 2040 2041 2042 2043\n",
      " 2044 2045 2046 2047 2048 2049 2050 2051 2052 2053 2054 2055 2056 2057\n",
      " 2058 2059 2060 2061 2062 2063 2064 2065 2066 2067 2068 2069 2070 2071\n",
      " 2072 2073 2074 2075 2076 2077 2078 2079 2080 2081 2082 2083 2084 2085\n",
      " 2086 2087 2088 2089 2090 2091 2092 2093 2094 2095 2096 2097 2098 2099\n",
      " 2100 2101 2102 2103 2104 2105 2106 2107 2108 2109 2110 2111 2112 2113\n",
      " 2114 2115 2116 2117 2118 2119 2120 2121 2122 2123 2124 2125 2126 2127\n",
      " 2128 2129 2130 2131 2132 2133 2134 2135 2136 2137 2138 2139 2140 2141\n",
      " 2142 2143 2144 2145 2146 2147 2148 2149 2150 2151 2152 2153 2154 2155\n",
      " 2156 2157 2158 2159 2160 2161 2162 2163 2164 2165 2166 2167 2168 2169\n",
      " 2170 2171 2172 2173 2174 2175 2176 2177 2178 2179 2180 2181 2182 2183\n",
      " 2184 2185 2186 2187 2188 2189 2190 2191 2192 2193 2194 2195 2196 2197\n",
      " 2198 2199 2200 2201 2202 2203 2204 2205 2206 2207 2208 2209 2210 2211\n",
      " 2212 2213 2214 2215 2216 2217 2218 2219 2220 2221 2222 2223 2224 2225\n",
      " 2226 2227 2228 2229 2230 2231 2232 2233 2234 2235 2236 2237 2238 2239\n",
      " 2240 2241 2242 2243 2244 2245 2246 2247 2248 2249 2250 2251 2252 2253\n",
      " 2254 2255 2256 2257 2258 2259 2260 2261 2262 2263 2264 2265 2266 2267\n",
      " 2268 2269 2270 2271 2272 2273 2274 2275 2276 2277 2278 2279 2280 2281\n",
      " 2282 2283 2284 2285 2286 2287 2288 2289 2290 2291 2292 2293 2294 2295\n",
      " 2296 2297 2298 2299 2300 2301 2302 2303 2304 2305 2306 2307 2308 2309\n",
      " 2310 2311 2312 2313 2314 2315 2316 2317 2318 2319 2320 2321 2322 2323\n",
      " 2324 2325 2326 2327 2328 2329 2330 2331 2332 2333 2334 2335 2336 2337\n",
      " 2338 2339 2340 2341 2342 2343 2344 2345 2346 2347 2348 2349 2350 2351\n",
      " 2352 2353 2354 2355 2356 2357 2358 2359 2360 2361 2362 2363 2364 2365\n",
      " 2366 2367 2368 2369 2370 2371 2372 2373 2374 2375 2376 2377 2378 2379\n",
      " 2380 2381 2382 2383 2384 2385 2386 2387 2388 2389 2390 2391 2392 2393\n",
      " 2394 2395 2396 2397 2398 2399 2400 2401 2402 2403 2404 2405 2406 2407\n",
      " 2408 2409 2410 2411 2412 2413 2414 2415 2416 2417 2418 2419 2420 2421\n",
      " 2422 2423 2424 2425 2426 2427 2428 2429 2430 2431 2432 2433 2434 2435\n",
      " 2436 2437 2438 2439 2440 2441 2442 2443 2444 2445 2446 2447 2448 2449\n",
      " 2450 2451 2452 2453 2454 2455 2456 2457 2458 2459 2460 2461 2462 2463\n",
      " 2464 2465 2466 2467 2468 2469 2470 2471 2472 2473 2474 2475 2476 2477\n",
      " 2478 2479 2480 2481 2482 2483 2484 2485 2486 2487 2488 2489 2490 2491\n",
      " 2492 2493 2494 2495 2496 2497 2498 2499 2500 2501 2502 2503 2504 2505\n",
      " 2506 2507 2508 2509 2510 2511 2512 2513 2514 2515 2516 2517 2518 2519\n",
      " 2520 2521 2522 2523 2524 2525 2526 2527 2528 2529 2530 2531 2532 2533\n",
      " 2534 2535 2536 2537 2538 2539 2540 2541 2542 2543 2544 2545 2546 2547\n",
      " 2548 2549 2550 2551 2552 2553 2554 2555 2556 2557 2558 2559 2560 2561\n",
      " 2562 2563 2564 2565 2566 2567 2568 2569 2570 2571 2572 2573 2574 2575\n",
      " 2576 2577 2578 2579 2580 2581 2582 2583 2584 2585 2586 2587 2588 2589\n",
      " 2590 2591 2592 2593 2594 2595 2596 2597 2598 2599 2600 2601 2602 2603\n",
      " 2604 2605 2606 2607 2608 2609 2610 2611 2612 2613 2614 2615 2616 2617\n",
      " 2618 2619 2620 2621 2622 2623 2624 2625 2626 2627 2628 2629 2630 2631\n",
      " 2632 2633 2634 2635 2636 2637 2638 2639 2640 2641 2642 2643 2644 2645\n",
      " 2646 2647 2648 2649 2650 2651 2652 2653 2654 2655 2656 2657 2658 2659\n",
      " 2660 2661 2662 2663 2664 2665 2666 2667 2668 2669 2670 2671 2672 2673\n",
      " 2674 2675 2676 2677 2678 2679 2680 2681 2682 2683 2684 2685 2686 2687\n",
      " 2688 2689 2690 2691 2692 2693]\n",
      "======================================================================\n",
      "Train index:\n",
      "[   0    1    2 ... 7108 7109 7110]\n",
      "\n",
      "Test index:\n",
      "[2694 2695 2696 2697 2698 2699 2700 2701 2702 2703 2704 2705 2706 2707\n",
      " 2708 2709 2710 2711 2712 2713 2714 2715 2716 2717 2718 2719 2720 2721\n",
      " 2722 2723 2724 2725 2726 2727 2728 2729 2730 2731 2732 2733 2734 2735\n",
      " 2736 2737 2738 2739 2740 2741 2742 2743 2744 2745 2746 2747 2748 2749\n",
      " 2750 2751 2752 2753 2754 2755 2756 2757 2758 2759 2760 2761 2762 2763\n",
      " 2764 2765 2766 2767 2768 2769 2770 2771 2772 2773 2774 2775 2776 2777\n",
      " 2778 2779 2780 2781 2782 2783 2784 2785 2786 2787 2788 2789 2790 2791\n",
      " 2792 2793 2794 2795 2796 2797 2798 2799 2800 2801 2802 2803 2804 2805\n",
      " 2806 2807 2808 2809 2810 2811 2812 2813 2814 2815 2816 2817 2818 2819\n",
      " 2820 2821 2822 2823 2824 2825 2826 2827 2828 2829 2830 2831 2832 2833\n",
      " 2834 2835 2836 2837 2838 2839 2840 2841 2842 2843 2844 2845 2846 2847\n",
      " 2848 2849 2850 2851 2852 2853 2854 2855 2856 2857 2858 2859 2860 2861\n",
      " 2862 2863 2864 2865 2866 2867 2868 2869 2870 2871 2872 2873 2874 2875\n",
      " 2876 2877 2878 2879 2880 2881 2882 2883 2884 2885 2886 2887 2888 2889\n",
      " 2890 2891 2892 2893 2894 2895 2896 2897 2898 2899 2900 2901 2902 2903\n",
      " 2904 2905 2906 2907 2908 2909 2910 2911 2912 2913 2914 2915 2916 2917\n",
      " 2918 2919 2920 2921 2922 2923 2924 2925 2926 2927 2928 2929 2930 2931\n",
      " 2932 2933 2934 2935 2936 2937 2938 2939 2940 2941 2942 2943 2944 2945\n",
      " 2946 2947 2948 2949 2950 2951 2952 2953 2954 2955 2956 2957 2958 2959\n",
      " 2960 2961 2962 2963 2964 2965 2966 2967 2968 2969 2970 2971 2972 2973\n",
      " 2974 2975 2976 2977 2978 2979 2980 2981 2982 2983 2984 2985 2986 2987\n",
      " 2988 2989 2990 2991 2992 2993 2994 2995 2996 2997 2998 2999 3000 3001\n",
      " 3002 3003 3004 3005 3006 3007 3008 3009 3010 3011 3012 3013 3014 3015\n",
      " 3016 3017 3018 3019 3020 3021 3022 3023 3024 3025 3026 3027 3028 3029\n",
      " 3030 3031 3032 3033 3034 3035 3036 3037 3038 3039 3040 3041 3042 3043\n",
      " 3044 3045 3046 3047 3048 3049 3050 3051 3052 3053 3054 3055 3056 3057\n",
      " 3058 3059 3060 3061 3062 3063 3064 3065 3066 3067 3068 3069 3070 3071\n",
      " 3072 3073 3074 3075 3076 3077 3078 3079 3080 3081 3082 3083 3084 3085\n",
      " 3086 3087 3088 3089 3090 3091 3092 3093 3094 3095 3096 3097 3098 3099\n",
      " 3100 3101 3102 3103 3104 3105 3106 3107 3108 3109 3110 3111 3112 3113\n",
      " 3114 3115 3116 3117 3118 3119 3120 3121 3122 3123 3124 3125 3126 3127\n",
      " 3128 3129 3130 3131 3132 3133 3134 3135 3136 3137 3138 3139 3140 3141\n",
      " 3142 3143 3144 3145 3146 3147 3148 3149 3150 3151 3152 3153 3154 3155\n",
      " 3156 3157 3158 3159 3160 3161 3162 3163 3164 3165 3166 3167 3168 3169\n",
      " 3170 3171 3172 3173 3174 3175 3176 3177 3178 3179 3180 3181 3182 3183\n",
      " 3184 3185 3186 3187 3188 3189 3190 3191 3192 3193 3194 3195 3196 3197\n",
      " 3198 3199 3200 3201 3202 3203 3204 3205 3206 3207 3208 3209 3210 3211\n",
      " 3212 3213 3214 3215 3216 3217 3218 3219 3220 3221 3222 3223 3224 3225\n",
      " 3226 3227 3228 3229 3230 3231 3232 3233 3234 3235 3236 3237 3238 3239\n",
      " 3240 3241 3242 3243 3244 3245 3246 3247 3248 3249 3250 3251 3252 3253\n",
      " 3254 3255 3256 3257 3258 3259 3260 3261 3262 3263 3264 3265 3266 3267\n",
      " 3268 3269 3270 3271 3272 3273 3274 3275 3276 3277 3278 3279 3280 3281\n",
      " 3282 3283 3284 3285 3286 3287 3288 3289 3290 3291 3292 3293 3294 3295\n",
      " 3296 3297 3298 3299 3300 3301 3302 3303 3304 3305 3306 3307 3308 3309\n",
      " 3310 3311 3312 3313 3314 3315 3316 3317 3318 3319 3320 3321 3322 3323\n",
      " 3324 3325 3326 3327 3328 3329 3330 3331 3332 3333 3334 3335 3336 3337\n",
      " 3338 3339 3340 3341 3342 3343 3344 3345 3346 3347 3348 3349 3350 3351\n",
      " 3352 3353 3354 3355 3356 3357 3358 3359 3360 3361 3362 3363 3364 3365\n",
      " 3366 3367 3368 3369 3370 3371 3372 3373 3374 3375 3376 3377 3378 3379\n",
      " 3380 3381 3382 3383 3384 3385 3386 3387 3388 3389 3390 3391 3392 3393\n",
      " 3394 3395 3396 3397 3398 3399 3400 3401 3402 3403 3404 3405 3406 3407\n",
      " 3408 3409 3410 3411 3412 3413 3414 3415 3416 3417 3418 3419 3420 3421\n",
      " 3422 3423 3424 3425 3426 3427 3428 3429 3430 3431 3432 3433 3434 3435\n",
      " 3436 3437]\n",
      "======================================================================\n",
      "Train index:\n",
      "[   0    1    2 ... 7108 7109 7110]\n",
      "\n",
      "Test index:\n",
      "[3438 3439 3440 3441 3442 3443 3444 3445 3446 3447 3448 3449 3450 3451\n",
      " 3452 3453 3454 3455 3456 3457 3458 3459 3460 3461 3462 3463 3464 3465\n",
      " 3466 3467 3468 3469 3470 3471 3472 3473 3474 3475 3476 3477 3478 3479\n",
      " 3480 3481 3482 3483 3484 3485 3486 3487 3488 3489 3490 3491 3492 3493\n",
      " 3494 3495 3496 3497 3498 3499 3500 3501 3502 3503 3504 3505 3506 3507\n",
      " 3508 3509 3510 3511 3512 3513 3514 3515 3516 3517 3518 3519 3520 3521\n",
      " 3522 3523 3524 3525 3526 3527 3528 3529 3530 3531 3532 3533 3534 3535\n",
      " 3536 3537 3538 3539 3540 3541 3542 3543 3544 3545 3546 3547 3548 3549\n",
      " 3550 3551 3552 3553 3554 3555 3556 3557 3558 3559 3560 3561 3562 3563\n",
      " 3564 3565 3566 3567 3568 3569 3570 3571 3572 3573 3574 3575 3576 3577\n",
      " 3578 3579 3580 3581 3582 3583 3584 3585 3586 3587 3588 3589 3590 3591\n",
      " 3592 3593 3594 3595 3596 3597 3598 3599 3600 3601 3602 3603 3604 3605\n",
      " 3606 3607 3608 3609 3610 3611 3612 3613 3614 3615 3616 3617 3618 3619\n",
      " 3620 3621 3622 3623 3624 3625 3626 3627 3628 3629 3630 3631 3632 3633\n",
      " 3634 3635 3636 3637 3638 3639 3640 3641 3642 3643 3644 3645 3646 3647\n",
      " 3648 3649 3650 3651 3652 3653 3654 3655 3656 3657 3658 3659 3660 3661\n",
      " 3662 3663 3664 3665 3666 3667 3668 3669 3670 3671 3672 3673 3674 3675\n",
      " 3676 3677 3678 3679 3680 3681 3682 3683 3684 3685 3686 3687 3688 3689\n",
      " 3690 3691 3692 3693 3694 3695 3696 3697 3698 3699 3700 3701 3702 3703\n",
      " 3704 3705 3706 3707 3708 3709 3710 3711 3712 3713 3714 3715 3716 3717\n",
      " 3718 3719 3720 3721 3722 3723 3724 3725 3726 3727 3728 3729 3730 3731\n",
      " 3732 3733 3734 3735 3736 3737 3738 3739 3740 3741 3742 3743 3744 3745\n",
      " 3746 3747 3748 3749 3750 3751 3752 3753 3754 3755 3756 3757 3758 3759\n",
      " 3760 3761 3762 3763 3764 3765 3766 3767 3768 3769 3770 3771 3772 3773\n",
      " 3774 3775 3776 3777 3778 3779 3780 3781 3782 3783 3784 3785 3786 3787\n",
      " 3788 3789 3790 3791 3792 3793 3794 3795 3796 3797 3798 3799 3800 3801\n",
      " 3802 3803 3804 3805 3806 3807 3808 3809 3810 3811 3812 3813 3814 3815\n",
      " 3816 3817 3818 3819 3820 3821 3822 3823 3824 3825 3826 3827 3828 3829\n",
      " 3830 3831 3832 3833 3834 3835 3836 3837 3838 3839 3840 3841 3842 3843\n",
      " 3844 3845 3846 3847 3848 3849 3850 3851 3852 3853 3854 3855 3856 3857\n",
      " 3858 3859 3860 3861 3862 3863 3864 3865 3866 3867 3868 3869 3870 3871\n",
      " 3872 3873 3874 3875 3876 3877 3878 3879 3880 3881 3882 3883 3884 3885\n",
      " 3886 3887 3888 3889 3890 3891 3892 3893 3894 3895 3896 3897 3898 3899\n",
      " 3900 3901 3902 3903 3904 3905 3906 3907 3908 3909 3910 3911 3912 3913\n",
      " 3914 3915 3916 3917 3918 3919 3920 3921 3922 3923 3924 3925 3926 3927\n",
      " 3928 3929 3930 3931 3932 3933 3934 3935 3936 3937 3938 3939 3940 3941\n",
      " 3942 3943 3944 3945 3946 3947 3948 3949 3950 3951 3952 3953 3954 3955\n",
      " 3956 3957 3958 3959 3960 3961 3962 3963 3964 3965 3966 3967 3968 3969\n",
      " 3970 3971 3972 3973 3974 3975 3976 3977 3978 3979 3980 3981 3982 3983\n",
      " 3984 3985 3986 3987 3988 3989 3990 3991 3992 3993 3994 3995 3996 3997\n",
      " 3998 3999 4000 4001 4002 4003 4004 4005 4006 4007 4008 4009 4010 4011\n",
      " 4012 4013 4014 4015 4016 4017 4018 4019 4020 4021 4022 4023 4024 4025\n",
      " 4026 4027 4028 4029 4030 4031 4032 4033 4034 4035 4036 4037 4038 4039\n",
      " 4040 4041 4042 4043 4044 4045 4046 4047 4048 4049 4050 4051 4052 4053\n",
      " 4054 4055 4056 4057 4058 4059 4060 4061 4062 4063 4064 4065 4066 4067\n",
      " 4068 4069 4070 4071 4072 4073 4074 4075 4076 4077 4078 4079 4080 4081\n",
      " 4082 4083 4084 4085 4086 4087 4088 4089 4090 4091 4092 4093 4094 4095\n",
      " 4096 4097 4098 4099 4100 4101 4102 4103 4104 4105 4106 4107 4108 4109\n",
      " 4110 4111 4112 4113 4114 4115 4116 4117 4118 4119 4120 4121 4122 4123\n",
      " 4124 4125 4126 4127 4128 4129 4130 4131 4132 4133 4134 4135 4136 4137\n",
      " 4138 4139 4140 4141 4142 4143 4144 4145 4146 4147 4148 4149 4150 4151\n",
      " 4152 4153 4154 4155 4156 4157 4158 4159 4160 4161 4162 4163 4164 4165\n",
      " 4166 4167 4168 4169 4170 4171 4172 4173 4174 4175 4176 4177 4178 4179\n",
      " 4180 4181]\n",
      "======================================================================\n",
      "Train index:\n",
      "[   0    1    2 ... 7108 7109 7110]\n",
      "\n",
      "Test index:\n",
      "[4182 4183 4184 4185 4186 4187 4188 4189 4190 4191 4192 4193 4194 4195\n",
      " 4196 4197 4198 4199 4200 4201 4202 4203 4204 4205 4206 4207 4208 4209\n",
      " 4210 4211 4212 4213 4214 4215 4216 4217 4218 4219 4220 4221 4222 4223\n",
      " 4224 4225 4226 4227 4228 4229 4230 4231 4232 4233 4234 4235 4236 4237\n",
      " 4238 4239 4240 4241 4242 4243 4244 4245 4246 4247 4248 4249 4250 4251\n",
      " 4252 4253 4254 4255 4256 4257 4258 4259 4260 4261 4262 4263 4264 4265\n",
      " 4266 4267 4268 4269 4270 4271 4272 4273 4274 4275 4276 4277 4278 4279\n",
      " 4280 4281 4282 4283 4284 4285 4286 4287 4288 4289 4290 4291 4292 4293\n",
      " 4294 4295 4296 4297 4298 4299 4300 4301 4302 4303 4304 4305 4306 4307\n",
      " 4308 4309 4310 4311 4312 4313 4314 4315 4316 4317 4318 4319 4320 4321\n",
      " 4322 4323 4324 4325 4326 4327 4328 4329 4330 4331 4332 4333 4334 4335\n",
      " 4336 4337 4338 4339 4340 4341 4342 4343 4344 4345 4346 4347 4348 4349\n",
      " 4350 4351 4352 4353 4354 4355 4356 4357 4358 4359 4360 4361 4362 4363\n",
      " 4364 4365 4366 4367 4368 4369 4370 4371 4372 4373 4374 4375 4376 4377\n",
      " 4378 4379 4380 4381 4382 4383 4384 4385 4386 4387 4388 4389 4390 4391\n",
      " 4392 4393 4394 4395 4396 4397 4398 4399 4400 4401 4402 4403 4404 4405\n",
      " 4406 4407 4408 4409 4410 4411 4412 4413 4414 4415 4416 4417 4418 4419\n",
      " 4420 4421 4422 4423 4424 4425 4426 4427 4428 4429 4430 4431 4432 4433\n",
      " 4434 4435 4436 4437 4438 4439 4440 4441 4442 4443 4444 4445 4446 4447\n",
      " 4448 4449 4450 4451 4452 4453 4454 4455 4456 4457 4458 4459 4460 4461\n",
      " 4462 4463 4464 4465 4466 4467 4468 4469 4470 4471 4472 4473 4474 4475\n",
      " 4476 4477 4478 4479 4480 4481 4482 4483 4484 4485 4486 4487 4488 4489\n",
      " 4490 4491 4492 4493 4494 4495 4496 4497 4498 4499 4500 4501 4502 4503\n",
      " 4504 4505 4506 4507 4508 4509 4510 4511 4512 4513 4514 4515 4516 4517\n",
      " 4518 4519 4520 4521 4522 4523 4524 4525 4526 4527 4528 4529 4530 4531\n",
      " 4532 4533 4534 4535 4536 4537 4538 4539 4540 4541 4542 4543 4544 4545\n",
      " 4546 4547 4548 4549 4550 4551 4552 4553 4554 4555 4556 4557 4558 4559\n",
      " 4560 4561 4562 4563 4564 4565 4566 4567 4568 4569 4570 4571 4572 4573\n",
      " 4574 4575 4576 4577 4578 4579 4580 4581 4582 4583 4584 4585 4586 4587\n",
      " 4588 4589 4590 4591 4592 4593 4594 4595 4596 4597 4598 4599 4600 4601\n",
      " 4602 4603 4604 4605 4606 4607 4608 4609 4610 4611 4612 4613 4614 4615\n",
      " 4616 4617 4618 4619 4620 4621 4622 4623 4624 4625 4626 4627 4628 4629\n",
      " 4630 4631 4632 4633 4634 4635 4636 4637 4638 4639 4640 4641 4642 4643\n",
      " 4644 4645 4646 4647 4648 4649 4650 4651 4652 4653 4654 4655 4656 4657\n",
      " 4658 4659 4660 4661 4662 4663 4664 4665 4666 4667 4668 4669 4670 4671\n",
      " 4672 4673 4674 4675 4676 4677 4678 4679 4680 4681 4682 4683 4684 4685\n",
      " 4686 4687 4688 4689 4690 4691 4692 4693 4694 4695 4696 4697 4698 4699\n",
      " 4700 4701 4702 4703 4704 4705 4706 4707 4708 4709 4710 4711 4712 4713\n",
      " 4714 4715 4716 4717 4718 4719 4720 4721 4722 4723 4724 4725 4726 4727\n",
      " 4728 4729 4730 4731 4732 4733 4734 4735 4736 4737 4738 4739 4740 4741\n",
      " 4742 4743 4744 4745 4746 4747 4748 4749 4750 4751 4752 4753 4754 4755\n",
      " 4756 4757 4758 4759 4760 4761 4762 4763 4764 4765 4766 4767 4768 4769\n",
      " 4770 4771 4772 4773 4774 4775 4776 4777 4778 4779 4780 4781 4782 4783\n",
      " 4784 4785 4786 4787 4788 4789 4790 4791 4792 4793 4794 4795 4796 4797\n",
      " 4798 4799 4800 4801 4802 4803 4804 4805 4806 4807 4808 4809 4810 4811\n",
      " 4812 4813 4814 4815 4816 4817 4818 4819 4820 4821 4822 4823 4824 4825\n",
      " 4826 4827 4828 4829 4830 4831 4832 4833 4834 4835 4836 4837 4838 4839\n",
      " 4840 4841 4842 4843 4844 4845 4846 4847 4848 4849 4850 4851 4852 4853\n",
      " 4854 4855 4856 4857 4858 4859 4860 4861 4862 4863 4864 4865 4866 4867\n",
      " 4868 4869 4870 4871 4872 4873 4874 4875 4876 4877 4878 4879 4880 4881\n",
      " 4882 4883 4884 4885 4886 4887 4888 4889 4890 4891 4892 4893 4894 4895\n",
      " 4896 4897 4898 4899 4900 4901]\n",
      "======================================================================\n",
      "Train index:\n",
      "[   0    1    2 ... 7108 7109 7110]\n",
      "\n",
      "Test index:\n",
      "[4902 4903 4904 4905 4906 4907 4908 4909 4910 4911 4912 4913 4914 4915\n",
      " 4916 4917 4918 4919 4920 4921 4922 4923 4924 4925 4926 4927 4928 4929\n",
      " 4930 4931 4932 4933 4934 4935 4936 4937 4938 4939 4940 4941 4942 4943\n",
      " 4944 4945 4946 4947 4948 4949 4950 4951 4952 4953 4954 4955 4956 4957\n",
      " 4958 4959 4960 4961 4962 4963 4964 4965 4966 4967 4968 4969 4970 4971\n",
      " 4972 4973 4974 4975 4976 4977 4978 4979 4980 4981 4982 4983 4984 4985\n",
      " 4986 4987 4988 4989 4990 4991 4992 4993 4994 4995 4996 4997 4998 4999\n",
      " 5000 5001 5002 5003 5004 5005 5006 5007 5008 5009 5010 5011 5012 5013\n",
      " 5014 5015 5016 5017 5018 5019 5020 5021 5022 5023 5024 5025 5026 5027\n",
      " 5028 5029 5030 5031 5032 5033 5034 5035 5036 5037 5038 5039 5040 5041\n",
      " 5042 5043 5044 5045 5046 5047 5048 5049 5050 5051 5052 5053 5054 5055\n",
      " 5056 5057 5058 5059 5060 5061 5062 5063 5064 5065 5066 5067 5068 5069\n",
      " 5070 5071 5072 5073 5074 5075 5076 5077 5078 5079 5080 5081 5082 5083\n",
      " 5084 5085 5086 5087 5088 5089 5090 5091 5092 5093 5094 5095 5096 5097\n",
      " 5098 5099 5100 5101 5102 5103 5104 5105 5106 5107 5108 5109 5110 5111\n",
      " 5112 5113 5114 5115 5116 5117 5118 5119 5120 5121 5122 5123 5124 5125\n",
      " 5126 5127 5128 5129 5130 5131 5132 5133 5134 5135 5136 5137 5138 5139\n",
      " 5140 5141 5142 5143 5144 5145 5146 5147 5148 5149 5150 5151 5152 5153\n",
      " 5154 5155 5156 5157 5158 5159 5160 5161 5162 5163 5164 5165 5166 5167\n",
      " 5168 5169 5170 5171 5172 5173 5174 5175 5176 5177 5178 5179 5180 5181\n",
      " 5182 5183 5184 5185 5186 5187 5188 5189 5190 5191 5192 5193 5194 5195\n",
      " 5196 5197 5198 5199 5200 5201 5202 5203 5204 5205 5206 5207 5208 5209\n",
      " 5210 5211 5212 5213 5214 5215 5216 5217 5218 5219 5220 5221 5222 5223\n",
      " 5224 5225 5226 5227 5228 5229 5230 5231 5232 5233 5234 5235 5236 5237\n",
      " 5238 5239 5240 5241 5242 5243 5244 5245 5246 5247 5248 5249 5250 5251\n",
      " 5252 5253 5254 5255 5256 5257 5258 5259 5260 5261 5262 5263 5264 5265\n",
      " 5266 5267 5268 5269 5270 5271 5272 5273 5274 5275 5276 5277 5278 5279\n",
      " 5280 5281 5282 5283 5284 5285 5286 5287 5288 5289 5290 5291 5292 5293\n",
      " 5294 5295 5296 5297 5298 5299 5300 5301 5302 5303 5304 5305 5306 5307\n",
      " 5308 5309 5310 5311 5312 5313 5314 5315 5316 5317 5318 5319 5320 5321\n",
      " 5322 5323 5324 5325 5326 5327 5328 5329 5330 5331 5332 5333 5334 5335\n",
      " 5336 5337 5338 5339 5340 5341 5342 5343 5344 5345 5346 5347 5348 5349\n",
      " 5350 5351 5352 5353 5354 5355 5356 5357 5358 5359 5360 5361 5362 5363\n",
      " 5364 5365 5366 5367 5368 5369 5370 5371 5372 5373 5374 5375 5376 5377\n",
      " 5378 5379 5380 5381 5382 5383 5384 5385 5386 5387 5388 5389 5390 5391\n",
      " 5392 5393 5394 5395 5396 5397 5398 5399 5400 5401 5402 5403 5404 5405\n",
      " 5406 5407 5408 5409 5410 5411 5412 5413 5414 5415 5416 5417 5418 5419\n",
      " 5420 5421 5422 5423 5424 5425 5426 5427 5428 5429 5430 5431 5432 5433\n",
      " 5434 5435 5436 5437 5438 5439 5440 5441 5442 5443 5444 5445 5446 5447\n",
      " 5448 5449 5450 5451 5452 5453 5454 5455 5456 5457 5458 5459 5460 5461\n",
      " 5462 5463 5464 5465 5466 5467 5468 5469 5470 5471 5472 5473 5474 5475\n",
      " 5476 5477 5478 5479 5480 5481 5482 5483 5484 5485 5486 5487 5488 5489\n",
      " 5490 5491 5492 5493 5494 5495 5496 5497 5498 5499 5500 5501 5502 5503\n",
      " 5504 5505 5506 5507 5508 5509 5510 5511 5512 5513 5514 5515 5516 5517\n",
      " 5518 5519 5520 5521 5522 5523 5524 5525 5526 5527 5528 5529 5530 5531\n",
      " 5532 5533 5534 5535 5536 5537 5538 5539 5540 5541 5542 5543 5544 5545\n",
      " 5546 5547 5548 5549 5550 5551 5552 5553 5554 5555 5556 5557 5558 5559\n",
      " 5560 5561 5562 5563 5564 5565 5566 5567 5568 5569 5570 5571 5572 5573\n",
      " 5574 5575 5576 5577 5578 5579 5580 5581 5582 5583 5584 5585 5586 5587\n",
      " 5588 5589 5590 5591 5592 5593 5594 5595 5596 5597 5598 5599 5600 5601\n",
      " 5602 5603 5604 5605 5606 5607 5608 5609 5610 5611 5612 5613 5614 5615\n",
      " 5616 5617 5618 5619 5620 5621 5622 5623 5624 5625 5626 5627 5628 5629\n",
      " 5630 5631 5632 5633 5634 5635 5636 5637 5638 5639 5640 5641 5642 5643\n",
      " 5644 5645]\n",
      "======================================================================\n",
      "Train index:\n",
      "[   0    1    2 ... 7108 7109 7110]\n",
      "\n",
      "Test index:\n",
      "[5646 5647 5648 5649 5650 5651 5652 5653 5654 5655 5656 5657 5658 5659\n",
      " 5660 5661 5662 5663 5664 5665 5666 5667 5668 5669 5670 5671 5672 5673\n",
      " 5674 5675 5676 5677 5678 5679 5680 5681 5682 5683 5684 5685 5686 5687\n",
      " 5688 5689 5690 5691 5692 5693 5694 5695 5696 5697 5698 5699 5700 5701\n",
      " 5702 5703 5704 5705 5706 5707 5708 5709 5710 5711 5712 5713 5714 5715\n",
      " 5716 5717 5718 5719 5720 5721 5722 5723 5724 5725 5726 5727 5728 5729\n",
      " 5730 5731 5732 5733 5734 5735 5736 5737 5738 5739 5740 5741 5742 5743\n",
      " 5744 5745 5746 5747 5748 5749 5750 5751 5752 5753 5754 5755 5756 5757\n",
      " 5758 5759 5760 5761 5762 5763 5764 5765 5766 5767 5768 5769 5770 5771\n",
      " 5772 5773 5774 5775 5776 5777 5778 5779 5780 5781 5782 5783 5784 5785\n",
      " 5786 5787 5788 5789 5790 5791 5792 5793 5794 5795 5796 5797 5798 5799\n",
      " 5800 5801 5802 5803 5804 5805 5806 5807 5808 5809 5810 5811 5812 5813\n",
      " 5814 5815 5816 5817 5818 5819 5820 5821 5822 5823 5824 5825 5826 5827\n",
      " 5828 5829 5830 5831 5832 5833 5834 5835 5836 5837 5838 5839 5840 5841\n",
      " 5842 5843 5844 5845 5846 5847 5848 5849 5850 5851 5852 5853 5854 5855\n",
      " 5856 5857 5858 5859 5860 5861 5862 5863 5864 5865 5866 5867 5868 5869\n",
      " 5870 5871 5872 5873 5874 5875 5876 5877 5878 5879 5880 5881 5882 5883\n",
      " 5884 5885 5886 5887 5888 5889 5890 5891 5892 5893 5894 5895 5896 5897\n",
      " 5898 5899 5900 5901 5902 5903 5904 5905 5906 5907 5908 5909 5910 5911\n",
      " 5912 5913 5914 5915 5916 5917 5918 5919 5920 5921 5922 5923 5924 5925\n",
      " 5926 5927 5928 5929 5930 5931 5932 5933 5934 5935 5936 5937 5938 5939\n",
      " 5940 5941 5942 5943 5944 5945 5946 5947 5948 5949 5950 5951 5952 5953\n",
      " 5954 5955 5956 5957 5958 5959 5960 5961 5962 5963 5964 5965 5966 5967\n",
      " 5968 5969 5970 5971 5972 5973 5974 5975 5976 5977 5978 5979 5980 5981\n",
      " 5982 5983 5984 5985 5986 5987 5988 5989 5990 5991 5992 5993 5994 5995\n",
      " 5996 5997 5998 5999 6000 6001 6002 6003 6004 6005 6006 6007 6008 6009\n",
      " 6010 6011 6012 6013 6014 6015 6016 6017 6018 6019 6020 6021 6022 6023\n",
      " 6024 6025 6026 6027 6028 6029 6030 6031 6032 6033 6034 6035 6036 6037\n",
      " 6038 6039 6040 6041 6042 6043 6044 6045 6046 6047 6048 6049 6050 6051\n",
      " 6052 6053 6054 6055 6056 6057 6058 6059 6060 6061 6062 6063 6064 6065\n",
      " 6066 6067 6068 6069 6070 6071 6072 6073 6074 6075 6076 6077 6078 6079\n",
      " 6080 6081 6082 6083 6084 6085 6086 6087 6088 6089 6090 6091 6092 6093\n",
      " 6094 6095 6096 6097 6098 6099 6100 6101 6102 6103 6104 6105 6106 6107\n",
      " 6108 6109 6110 6111 6112 6113 6114 6115 6116 6117 6118 6119 6120 6121\n",
      " 6122 6123 6124 6125 6126 6127 6128 6129 6130 6131 6132 6133 6134 6135\n",
      " 6136 6137 6138 6139 6140 6141 6142 6143 6144 6145 6146 6147 6148 6149\n",
      " 6150 6151 6152 6153 6154 6155 6156 6157 6158 6159 6160 6161 6162 6163\n",
      " 6164 6165 6166 6167 6168 6169 6170 6171 6172 6173 6174 6175 6176 6177\n",
      " 6178 6179 6180 6181 6182 6183 6184 6185 6186 6187 6188 6189 6190 6191\n",
      " 6192 6193 6194 6195 6196 6197 6198 6199 6200 6201 6202 6203 6204 6205\n",
      " 6206 6207 6208 6209 6210 6211 6212 6213 6214 6215 6216 6217 6218 6219\n",
      " 6220 6221 6222 6223 6224 6225 6226 6227 6228 6229 6230 6231 6232 6233\n",
      " 6234 6235 6236 6237 6238 6239 6240 6241 6242 6243 6244 6245 6246 6247\n",
      " 6248 6249 6250 6251 6252 6253 6254 6255 6256 6257 6258 6259 6260 6261\n",
      " 6262 6263 6264 6265 6266 6267 6268 6269 6270 6271 6272 6273 6274 6275\n",
      " 6276 6277 6278 6279 6280 6281 6282 6283 6284 6285 6286 6287 6288 6289\n",
      " 6290 6291 6292 6293 6294 6295 6296 6297 6298 6299 6300 6301 6302 6303\n",
      " 6304 6305 6306 6307 6308 6309 6310 6311 6312 6313 6314 6315 6316 6317\n",
      " 6318 6319 6320 6321 6322 6323 6324 6325 6326 6327 6328 6329 6330 6331\n",
      " 6332 6333 6334 6335 6336 6337 6338 6339 6340 6341 6342 6343 6344 6345\n",
      " 6346 6347 6348 6349 6350 6351 6352 6353 6354 6355 6356 6357 6358 6359\n",
      " 6360 6361 6362 6363 6364 6365]\n",
      "======================================================================\n",
      "Train index:\n",
      "[   0    1    2 ... 6363 6364 6365]\n",
      "\n",
      "Test index:\n",
      "[6366 6367 6368 6369 6370 6371 6372 6373 6374 6375 6376 6377 6378 6379\n",
      " 6380 6381 6382 6383 6384 6385 6386 6387 6388 6389 6390 6391 6392 6393\n",
      " 6394 6395 6396 6397 6398 6399 6400 6401 6402 6403 6404 6405 6406 6407\n",
      " 6408 6409 6410 6411 6412 6413 6414 6415 6416 6417 6418 6419 6420 6421\n",
      " 6422 6423 6424 6425 6426 6427 6428 6429 6430 6431 6432 6433 6434 6435\n",
      " 6436 6437 6438 6439 6440 6441 6442 6443 6444 6445 6446 6447 6448 6449\n",
      " 6450 6451 6452 6453 6454 6455 6456 6457 6458 6459 6460 6461 6462 6463\n",
      " 6464 6465 6466 6467 6468 6469 6470 6471 6472 6473 6474 6475 6476 6477\n",
      " 6478 6479 6480 6481 6482 6483 6484 6485 6486 6487 6488 6489 6490 6491\n",
      " 6492 6493 6494 6495 6496 6497 6498 6499 6500 6501 6502 6503 6504 6505\n",
      " 6506 6507 6508 6509 6510 6511 6512 6513 6514 6515 6516 6517 6518 6519\n",
      " 6520 6521 6522 6523 6524 6525 6526 6527 6528 6529 6530 6531 6532 6533\n",
      " 6534 6535 6536 6537 6538 6539 6540 6541 6542 6543 6544 6545 6546 6547\n",
      " 6548 6549 6550 6551 6552 6553 6554 6555 6556 6557 6558 6559 6560 6561\n",
      " 6562 6563 6564 6565 6566 6567 6568 6569 6570 6571 6572 6573 6574 6575\n",
      " 6576 6577 6578 6579 6580 6581 6582 6583 6584 6585 6586 6587 6588 6589\n",
      " 6590 6591 6592 6593 6594 6595 6596 6597 6598 6599 6600 6601 6602 6603\n",
      " 6604 6605 6606 6607 6608 6609 6610 6611 6612 6613 6614 6615 6616 6617\n",
      " 6618 6619 6620 6621 6622 6623 6624 6625 6626 6627 6628 6629 6630 6631\n",
      " 6632 6633 6634 6635 6636 6637 6638 6639 6640 6641 6642 6643 6644 6645\n",
      " 6646 6647 6648 6649 6650 6651 6652 6653 6654 6655 6656 6657 6658 6659\n",
      " 6660 6661 6662 6663 6664 6665 6666 6667 6668 6669 6670 6671 6672 6673\n",
      " 6674 6675 6676 6677 6678 6679 6680 6681 6682 6683 6684 6685 6686 6687\n",
      " 6688 6689 6690 6691 6692 6693 6694 6695 6696 6697 6698 6699 6700 6701\n",
      " 6702 6703 6704 6705 6706 6707 6708 6709 6710 6711 6712 6713 6714 6715\n",
      " 6716 6717 6718 6719 6720 6721 6722 6723 6724 6725 6726 6727 6728 6729\n",
      " 6730 6731 6732 6733 6734 6735 6736 6737 6738 6739 6740 6741 6742 6743\n",
      " 6744 6745 6746 6747 6748 6749 6750 6751 6752 6753 6754 6755 6756 6757\n",
      " 6758 6759 6760 6761 6762 6763 6764 6765 6766 6767 6768 6769 6770 6771\n",
      " 6772 6773 6774 6775 6776 6777 6778 6779 6780 6781 6782 6783 6784 6785\n",
      " 6786 6787 6788 6789 6790 6791 6792 6793 6794 6795 6796 6797 6798 6799\n",
      " 6800 6801 6802 6803 6804 6805 6806 6807 6808 6809 6810 6811 6812 6813\n",
      " 6814 6815 6816 6817 6818 6819 6820 6821 6822 6823 6824 6825 6826 6827\n",
      " 6828 6829 6830 6831 6832 6833 6834 6835 6836 6837 6838 6839 6840 6841\n",
      " 6842 6843 6844 6845 6846 6847 6848 6849 6850 6851 6852 6853 6854 6855\n",
      " 6856 6857 6858 6859 6860 6861 6862 6863 6864 6865 6866 6867 6868 6869\n",
      " 6870 6871 6872 6873 6874 6875 6876 6877 6878 6879 6880 6881 6882 6883\n",
      " 6884 6885 6886 6887 6888 6889 6890 6891 6892 6893 6894 6895 6896 6897\n",
      " 6898 6899 6900 6901 6902 6903 6904 6905 6906 6907 6908 6909 6910 6911\n",
      " 6912 6913 6914 6915 6916 6917 6918 6919 6920 6921 6922 6923 6924 6925\n",
      " 6926 6927 6928 6929 6930 6931 6932 6933 6934 6935 6936 6937 6938 6939\n",
      " 6940 6941 6942 6943 6944 6945 6946 6947 6948 6949 6950 6951 6952 6953\n",
      " 6954 6955 6956 6957 6958 6959 6960 6961 6962 6963 6964 6965 6966 6967\n",
      " 6968 6969 6970 6971 6972 6973 6974 6975 6976 6977 6978 6979 6980 6981\n",
      " 6982 6983 6984 6985 6986 6987 6988 6989 6990 6991 6992 6993 6994 6995\n",
      " 6996 6997 6998 6999 7000 7001 7002 7003 7004 7005 7006 7007 7008 7009\n",
      " 7010 7011 7012 7013 7014 7015 7016 7017 7018 7019 7020 7021 7022 7023\n",
      " 7024 7025 7026 7027 7028 7029 7030 7031 7032 7033 7034 7035 7036 7037\n",
      " 7038 7039 7040 7041 7042 7043 7044 7045 7046 7047 7048 7049 7050 7051\n",
      " 7052 7053 7054 7055 7056 7057 7058 7059 7060 7061 7062 7063 7064 7065\n",
      " 7066 7067 7068 7069 7070 7071 7072 7073 7074 7075 7076 7077 7078 7079\n",
      " 7080 7081 7082 7083 7084 7085 7086 7087 7088 7089 7090 7091 7092 7093\n",
      " 7094 7095 7096 7097 7098 7099 7100 7101 7102 7103 7104 7105 7106 7107\n",
      " 7108 7109 7110]\n",
      "======================================================================\n"
     ]
    }
   ],
   "source": [
    "for train_index, test_index in logo.split(X, y1, groups):\n",
    "              \n",
    "    print(f'Train index:\\n{train_index}')    \n",
    "    print(f'\\nTest index:\\n{test_index}')\n",
    "    print(70 * '=') "
   ]
  },
  {
   "cell_type": "markdown",
   "id": "irish-third",
   "metadata": {
    "papermill": {
     "duration": 0.096106,
     "end_time": "2021-07-06T05:33:33.568901",
     "exception": false,
     "start_time": "2021-07-06T05:33:33.472795",
     "status": "completed"
    },
    "tags": []
   },
   "source": [
    "<div class=\"alert alert-success\">  \n",
    "</div>"
   ]
  },
  {
   "cell_type": "code",
   "execution_count": 30,
   "id": "ruled-express",
   "metadata": {
    "execution": {
     "iopub.execute_input": "2021-07-06T05:33:33.759383Z",
     "iopub.status.busy": "2021-07-06T05:33:33.758399Z",
     "iopub.status.idle": "2021-07-06T05:33:53.309290Z",
     "shell.execute_reply": "2021-07-06T05:33:53.309852Z",
     "shell.execute_reply.started": "2021-07-05T12:20:30.489984Z"
    },
    "papermill": {
     "duration": 19.646438,
     "end_time": "2021-07-06T05:33:53.310071",
     "exception": false,
     "start_time": "2021-07-06T05:33:33.663633",
     "status": "completed"
    },
    "tags": []
   },
   "outputs": [
    {
     "name": "stderr",
     "output_type": "stream",
     "text": [
      "/opt/conda/lib/python3.7/site-packages/xgboost/data.py:114: UserWarning: Use subset (sliced data) of np.ndarray is not recommended because it will generate extra copies and increase memory consumption\n",
      "  \"because it will generate extra copies and increase \" +\n"
     ]
    },
    {
     "data": {
      "text/plain": [
       "array([1.58115087, 2.04038435, 1.91925211, ..., 2.83933008, 2.45081519,\n",
       "       2.54852867])"
      ]
     },
     "metadata": {},
     "output_type": "display_data"
    },
    {
     "data": {
      "text/plain": [
       "(2247,)"
      ]
     },
     "metadata": {},
     "output_type": "display_data"
    }
   ],
   "source": [
    "pred1_leave = np.zeros(len(XX))\n",
    "for train_index, test_index in logo.split(X, y1, groups):\n",
    "\n",
    "    X_train, X_test = X.iloc[train_index], X.iloc[test_index]   \n",
    "    y_train, y_test = y1.iloc[train_index], y1.iloc[test_index]\n",
    "    \n",
    "    model1.fit(X_train, y_train.ravel())  \n",
    "    pred1_leave += (model1.predict(XX)) / 10\n",
    "\n",
    "display(pred1_leave, pred1_leave.shape) "
   ]
  },
  {
   "cell_type": "code",
   "execution_count": 31,
   "id": "waiting-mexico",
   "metadata": {
    "execution": {
     "iopub.execute_input": "2021-07-06T05:33:53.440436Z",
     "iopub.status.busy": "2021-07-06T05:33:53.439484Z",
     "iopub.status.idle": "2021-07-06T05:34:19.392152Z",
     "shell.execute_reply": "2021-07-06T05:34:19.392721Z",
     "shell.execute_reply.started": "2021-07-05T12:20:48.05009Z"
    },
    "papermill": {
     "duration": 26.020525,
     "end_time": "2021-07-06T05:34:19.392921",
     "exception": false,
     "start_time": "2021-07-06T05:33:53.372396",
     "status": "completed"
    },
    "tags": []
   },
   "outputs": [
    {
     "name": "stderr",
     "output_type": "stream",
     "text": [
      "/opt/conda/lib/python3.7/site-packages/xgboost/data.py:114: UserWarning: Use subset (sliced data) of np.ndarray is not recommended because it will generate extra copies and increase memory consumption\n",
      "  \"because it will generate extra copies and increase \" +\n"
     ]
    },
    {
     "data": {
      "text/plain": [
       "array([ 4.76053149,  7.28076464,  7.13347828, ..., 13.0033946 ,\n",
       "       10.79961658, 12.1303153 ])"
      ]
     },
     "metadata": {},
     "output_type": "display_data"
    },
    {
     "data": {
      "text/plain": [
       "(2247,)"
      ]
     },
     "metadata": {},
     "output_type": "display_data"
    }
   ],
   "source": [
    "pred2_leave = np.zeros(len(XX))\n",
    "for train_index, test_index in logo.split(X, y2, groups):\n",
    "\n",
    "    X_train, X_test = X.iloc[train_index], X.iloc[test_index]   \n",
    "    y_train, y_test = y2.iloc[train_index], y2.iloc[test_index]\n",
    "    \n",
    "    model2.fit(X_train, y_train.ravel())  \n",
    "    pred2_leave += (model2.predict(XX)) / 10\n",
    "\n",
    "display(pred2_leave, pred2_leave.shape) "
   ]
  },
  {
   "cell_type": "code",
   "execution_count": 32,
   "id": "wound-contractor",
   "metadata": {
    "execution": {
     "iopub.execute_input": "2021-07-06T05:34:19.543192Z",
     "iopub.status.busy": "2021-07-06T05:34:19.542203Z",
     "iopub.status.idle": "2021-07-06T05:35:05.406569Z",
     "shell.execute_reply": "2021-07-06T05:35:05.406035Z"
    },
    "papermill": {
     "duration": 45.933998,
     "end_time": "2021-07-06T05:35:05.406713",
     "exception": false,
     "start_time": "2021-07-06T05:34:19.472715",
     "status": "completed"
    },
    "tags": []
   },
   "outputs": [
    {
     "name": "stderr",
     "output_type": "stream",
     "text": [
      "/opt/conda/lib/python3.7/site-packages/xgboost/data.py:114: UserWarning: Use subset (sliced data) of np.ndarray is not recommended because it will generate extra copies and increase memory consumption\n",
      "  \"because it will generate extra copies and increase \" +\n"
     ]
    },
    {
     "data": {
      "text/plain": [
       "array([202.66503525, 294.51787186, 287.78896141, ..., 383.81512833,\n",
       "       310.34287643, 328.05526733])"
      ]
     },
     "metadata": {},
     "output_type": "display_data"
    },
    {
     "data": {
      "text/plain": [
       "(2247,)"
      ]
     },
     "metadata": {},
     "output_type": "display_data"
    }
   ],
   "source": [
    "pred3_leave = np.zeros(len(XX))\n",
    "for train_index, test_index in logo.split(X, y3, groups):\n",
    "\n",
    "    X_train, X_test = X.iloc[train_index], X.iloc[test_index]   \n",
    "    y_train, y_test = y3.iloc[train_index], y3.iloc[test_index]\n",
    "    \n",
    "    model3.fit(X_train, y_train.ravel())  \n",
    "    pred3_leave += (model3.predict(XX)) / 10\n",
    "\n",
    "display(pred3_leave, pred3_leave.shape) "
   ]
  },
  {
   "cell_type": "markdown",
   "id": "balanced-grace",
   "metadata": {
    "papermill": {
     "duration": 0.06352,
     "end_time": "2021-07-06T05:35:05.535343",
     "exception": false,
     "start_time": "2021-07-06T05:35:05.471823",
     "status": "completed"
    },
    "tags": []
   },
   "source": [
    "<div class=\"alert alert-success\">  \n",
    "</div>"
   ]
  },
  {
   "cell_type": "code",
   "execution_count": 33,
   "id": "moderate-bristol",
   "metadata": {
    "execution": {
     "iopub.execute_input": "2021-07-06T05:35:05.670279Z",
     "iopub.status.busy": "2021-07-06T05:35:05.669299Z",
     "iopub.status.idle": "2021-07-06T05:35:05.684363Z",
     "shell.execute_reply": "2021-07-06T05:35:05.683762Z"
    },
    "papermill": {
     "duration": 0.084955,
     "end_time": "2021-07-06T05:35:05.684515",
     "exception": false,
     "start_time": "2021-07-06T05:35:05.599560",
     "status": "completed"
    },
    "tags": []
   },
   "outputs": [
    {
     "data": {
      "text/html": [
       "<div>\n",
       "<style scoped>\n",
       "    .dataframe tbody tr th:only-of-type {\n",
       "        vertical-align: middle;\n",
       "    }\n",
       "\n",
       "    .dataframe tbody tr th {\n",
       "        vertical-align: top;\n",
       "    }\n",
       "\n",
       "    .dataframe thead th {\n",
       "        text-align: right;\n",
       "    }\n",
       "</style>\n",
       "<table border=\"1\" class=\"dataframe\">\n",
       "  <thead>\n",
       "    <tr style=\"text-align: right;\">\n",
       "      <th></th>\n",
       "      <th>date_time</th>\n",
       "      <th>target_carbon_monoxide</th>\n",
       "      <th>target_benzene</th>\n",
       "      <th>target_nitrogen_oxides</th>\n",
       "    </tr>\n",
       "  </thead>\n",
       "  <tbody>\n",
       "    <tr>\n",
       "      <th>0</th>\n",
       "      <td>2011-01-01 00:00:00</td>\n",
       "      <td>1.581151</td>\n",
       "      <td>4.760531</td>\n",
       "      <td>202.665035</td>\n",
       "    </tr>\n",
       "    <tr>\n",
       "      <th>1</th>\n",
       "      <td>2011-01-01 01:00:00</td>\n",
       "      <td>2.040384</td>\n",
       "      <td>7.280765</td>\n",
       "      <td>294.517872</td>\n",
       "    </tr>\n",
       "    <tr>\n",
       "      <th>2</th>\n",
       "      <td>2011-01-01 02:00:00</td>\n",
       "      <td>1.919252</td>\n",
       "      <td>7.133478</td>\n",
       "      <td>287.788961</td>\n",
       "    </tr>\n",
       "    <tr>\n",
       "      <th>3</th>\n",
       "      <td>2011-01-01 03:00:00</td>\n",
       "      <td>1.976611</td>\n",
       "      <td>8.023446</td>\n",
       "      <td>301.715570</td>\n",
       "    </tr>\n",
       "    <tr>\n",
       "      <th>4</th>\n",
       "      <td>2011-01-01 04:00:00</td>\n",
       "      <td>1.477297</td>\n",
       "      <td>6.195452</td>\n",
       "      <td>227.117752</td>\n",
       "    </tr>\n",
       "    <tr>\n",
       "      <th>...</th>\n",
       "      <td>...</td>\n",
       "      <td>...</td>\n",
       "      <td>...</td>\n",
       "      <td>...</td>\n",
       "    </tr>\n",
       "    <tr>\n",
       "      <th>2242</th>\n",
       "      <td>2011-04-04 10:00:00</td>\n",
       "      <td>3.130090</td>\n",
       "      <td>12.965414</td>\n",
       "      <td>448.248779</td>\n",
       "    </tr>\n",
       "    <tr>\n",
       "      <th>2243</th>\n",
       "      <td>2011-04-04 11:00:00</td>\n",
       "      <td>2.557017</td>\n",
       "      <td>11.271031</td>\n",
       "      <td>344.655008</td>\n",
       "    </tr>\n",
       "    <tr>\n",
       "      <th>2244</th>\n",
       "      <td>2011-04-04 12:00:00</td>\n",
       "      <td>2.839330</td>\n",
       "      <td>13.003395</td>\n",
       "      <td>383.815128</td>\n",
       "    </tr>\n",
       "    <tr>\n",
       "      <th>2245</th>\n",
       "      <td>2011-04-04 13:00:00</td>\n",
       "      <td>2.450815</td>\n",
       "      <td>10.799617</td>\n",
       "      <td>310.342876</td>\n",
       "    </tr>\n",
       "    <tr>\n",
       "      <th>2246</th>\n",
       "      <td>2011-04-04 14:00:00</td>\n",
       "      <td>2.548529</td>\n",
       "      <td>12.130315</td>\n",
       "      <td>328.055267</td>\n",
       "    </tr>\n",
       "  </tbody>\n",
       "</table>\n",
       "<p>2247 rows × 4 columns</p>\n",
       "</div>"
      ],
      "text/plain": [
       "                date_time  target_carbon_monoxide  target_benzene  \\\n",
       "0     2011-01-01 00:00:00                1.581151        4.760531   \n",
       "1     2011-01-01 01:00:00                2.040384        7.280765   \n",
       "2     2011-01-01 02:00:00                1.919252        7.133478   \n",
       "3     2011-01-01 03:00:00                1.976611        8.023446   \n",
       "4     2011-01-01 04:00:00                1.477297        6.195452   \n",
       "...                   ...                     ...             ...   \n",
       "2242  2011-04-04 10:00:00                3.130090       12.965414   \n",
       "2243  2011-04-04 11:00:00                2.557017       11.271031   \n",
       "2244  2011-04-04 12:00:00                2.839330       13.003395   \n",
       "2245  2011-04-04 13:00:00                2.450815       10.799617   \n",
       "2246  2011-04-04 14:00:00                2.548529       12.130315   \n",
       "\n",
       "      target_nitrogen_oxides  \n",
       "0                 202.665035  \n",
       "1                 294.517872  \n",
       "2                 287.788961  \n",
       "3                 301.715570  \n",
       "4                 227.117752  \n",
       "...                      ...  \n",
       "2242              448.248779  \n",
       "2243              344.655008  \n",
       "2244              383.815128  \n",
       "2245              310.342876  \n",
       "2246              328.055267  \n",
       "\n",
       "[2247 rows x 4 columns]"
      ]
     },
     "metadata": {},
     "output_type": "display_data"
    }
   ],
   "source": [
    "sub_leave = SAM.copy()\n",
    "\n",
    "sub_leave['target_carbon_monoxide'] = pred1_leave\n",
    "sub_leave['target_benzene'] = pred2_leave\n",
    "sub_leave['target_nitrogen_oxides'] = pred3_leave\n",
    "display(sub_leave)"
   ]
  },
  {
   "cell_type": "code",
   "execution_count": 34,
   "id": "specified-palace",
   "metadata": {
    "execution": {
     "iopub.execute_input": "2021-07-06T05:35:05.818575Z",
     "iopub.status.busy": "2021-07-06T05:35:05.817883Z",
     "iopub.status.idle": "2021-07-06T05:35:06.567401Z",
     "shell.execute_reply": "2021-07-06T05:35:06.567951Z"
    },
    "papermill": {
     "duration": 0.819854,
     "end_time": "2021-07-06T05:35:06.568125",
     "exception": false,
     "start_time": "2021-07-06T05:35:05.748271",
     "status": "completed"
    },
    "tags": []
   },
   "outputs": [
    {
     "name": "stdout",
     "output_type": "stream",
     "text": [
      "__notebook__.ipynb    submission_xgb.csv  val_y1.csv  val_y3.csv\r\n",
      "submission_leave.csv  val_X.csv\t\t  val_y2.csv\r\n"
     ]
    }
   ],
   "source": [
    "sub = sub_leave\n",
    "sub.to_csv(\"submission_leave.csv\",index=False)\n",
    "# Public Score: 0.22736\n",
    "!ls"
   ]
  },
  {
   "cell_type": "markdown",
   "id": "laden-directive",
   "metadata": {
    "papermill": {
     "duration": 0.063945,
     "end_time": "2021-07-06T05:35:06.696114",
     "exception": false,
     "start_time": "2021-07-06T05:35:06.632169",
     "status": "completed"
    },
    "tags": []
   },
   "source": [
    "<div class=\"alert alert-success\">\n",
    "    <h1 align=\"center\">Ensembling</h1>\n",
    "</div>"
   ]
  },
  {
   "cell_type": "code",
   "execution_count": 35,
   "id": "honey-demographic",
   "metadata": {
    "execution": {
     "iopub.execute_input": "2021-07-06T05:35:06.839023Z",
     "iopub.status.busy": "2021-07-06T05:35:06.833880Z",
     "iopub.status.idle": "2021-07-06T05:35:06.848406Z",
     "shell.execute_reply": "2021-07-06T05:35:06.847750Z"
    },
    "papermill": {
     "duration": 0.088257,
     "end_time": "2021-07-06T05:35:06.848577",
     "exception": false,
     "start_time": "2021-07-06T05:35:06.760320",
     "status": "completed"
    },
    "tags": []
   },
   "outputs": [],
   "source": [
    "def ensembling(main, support, coeff1, coeff2, coeff3): \n",
    "    \n",
    "    suba  = main.copy() \n",
    "    subav = suba.values\n",
    "       \n",
    "    subb  = support.copy()\n",
    "    subbv = subb.values    \n",
    "           \n",
    "    ense  = main.copy()    \n",
    "    ensev = ense.values  \n",
    " \n",
    "    for i in range (len(main)):\n",
    "        \n",
    "        pera1 = subav[i, 1]\n",
    "        pera2 = subav[i, 2]\n",
    "        pera3 = subav[i, 3]\n",
    "        \n",
    "        perb1 = subbv[i, 1]\n",
    "        perb2 = subbv[i, 2]\n",
    "        perb3 = subbv[i, 3]\n",
    "\n",
    "        per1 = (pera1 * coeff1) + (perb1 * (1.0 - coeff1))\n",
    "        per2 = (pera2 * coeff2) + (perb2 * (1.0 - coeff2))\n",
    "        per3 = (pera3 * coeff3) + (perb3 * (1.0 - coeff3))\n",
    "        \n",
    "        ensev[i, 1] = per1\n",
    "        ensev[i, 2] = per2\n",
    "        ensev[i, 3] = per3\n",
    "        \n",
    "    ense.iloc[:, 1:] = ensev[:, 1:] \n",
    "    \n",
    "    ###############################    \n",
    "    X  = suba.iloc[:, 1]\n",
    "    Y1 = subb.iloc[:, 1]\n",
    "    Y2 = ense.iloc[:, 1]\n",
    "    \n",
    "    plt.style.use('seaborn-whitegrid') \n",
    "    plt.figure(figsize=(9, 9), facecolor='lightgray')\n",
    "    plt.title(f'\\nP R E D I C T  1\\n\\ntarget_carbon_monoxide\\n')   \n",
    "    \n",
    "    \n",
    "    plt.scatter(X, Y1, s=2.0, label='Support')    \n",
    "    plt.scatter(X, Y2, s=2.0, label='Generated')\n",
    "    plt.scatter(X, X , s=0.1, label='Main(X=Y)')\n",
    "    \n",
    "    plt.legend(fontsize=12, loc=2)\n",
    "    plt.show()     \n",
    "    ###############################      \n",
    "    X  = suba.iloc[:, 2]\n",
    "    Y1 = subb.iloc[:, 2]\n",
    "    Y2 = ense.iloc[:, 2]\n",
    "    \n",
    "    plt.style.use('seaborn-whitegrid') \n",
    "    plt.figure(figsize=(9, 9), facecolor='lightgray')\n",
    "    plt.title(f'\\nP R E D I C T  2\\n\\ntarget_benzene\\n')   \n",
    "    \n",
    "    \n",
    "    plt.scatter(X, Y1, s=2.0, label='Support')    \n",
    "    plt.scatter(X, Y2, s=2.0, label='Generated')\n",
    "    plt.scatter(X, X , s=0.1, label='Main(X=Y)')\n",
    "    \n",
    "    plt.legend(fontsize=12, loc=2)\n",
    "    plt.show()     \n",
    "    ############################### \n",
    "    X  = suba.iloc[:, 3]\n",
    "    Y1 = subb.iloc[:, 3]\n",
    "    Y2 = ense.iloc[:, 3]\n",
    "    \n",
    "    plt.style.use('seaborn-whitegrid') \n",
    "    plt.figure(figsize=(9, 9), facecolor='lightgray')\n",
    "    plt.title(f'\\nP R E D I C T  3\\n\\ntarget_nitrogen_oxides\\n')   \n",
    "    \n",
    "    \n",
    "    plt.scatter(X, Y1, s=2.0, label='Support')    \n",
    "    plt.scatter(X, Y2, s=2.0, label='Generated')\n",
    "    plt.scatter(X, X , s=0.1, label='Main(X=Y)')\n",
    "    \n",
    "    plt.legend(fontsize=12, loc=2)\n",
    "    plt.show()     \n",
    "    ############################### \n",
    "    \n",
    "    return ense      \n"
   ]
  },
  {
   "cell_type": "markdown",
   "id": "celtic-pencil",
   "metadata": {
    "papermill": {
     "duration": 0.064645,
     "end_time": "2021-07-06T05:35:06.978151",
     "exception": false,
     "start_time": "2021-07-06T05:35:06.913506",
     "status": "completed"
    },
    "tags": []
   },
   "source": [
    "<div class=\"alert alert-success\">  \n",
    "</div>"
   ]
  },
  {
   "cell_type": "markdown",
   "id": "impressive-gentleman",
   "metadata": {
    "papermill": {
     "duration": 0.064741,
     "end_time": "2021-07-06T05:35:07.107116",
     "exception": false,
     "start_time": "2021-07-06T05:35:07.042375",
     "status": "completed"
    },
    "tags": []
   },
   "source": [
    "Thanks to: @paddykb https://www.kaggle.com/paddykb/tps-07-gam-baseline "
   ]
  },
  {
   "cell_type": "code",
   "execution_count": 36,
   "id": "thick-elevation",
   "metadata": {
    "execution": {
     "iopub.execute_input": "2021-07-06T05:35:07.241602Z",
     "iopub.status.busy": "2021-07-06T05:35:07.240946Z",
     "iopub.status.idle": "2021-07-06T05:35:08.110022Z",
     "shell.execute_reply": "2021-07-06T05:35:08.109132Z"
    },
    "papermill": {
     "duration": 0.938376,
     "end_time": "2021-07-06T05:35:08.110170",
     "exception": false,
     "start_time": "2021-07-06T05:35:07.171794",
     "status": "completed"
    },
    "tags": []
   },
   "outputs": [
    {
     "data": {
      "image/png": "[encoded data removed]",
      "text/plain": [
       "<Figure size 648x648 with 1 Axes>"
      ]
     },
     "metadata": {},
     "output_type": "display_data"
    },
    {
     "data": {
      "image/png": "[encoded data removed]",
      "text/plain": [
       "<Figure size 648x648 with 1 Axes>"
      ]
     },
     "metadata": {},
     "output_type": "display_data"
    },
    {
     "data": {
      "image/png": "[encoded data removed]",
      "text/plain": [
       "<Figure size 648x648 with 1 Axes>"
      ]
     },
     "metadata": {},
     "output_type": "display_data"
    }
   ],
   "source": [
    "sub21744 = pd.read_csv('../input/tps7-21744/submission_gam.csv')\n",
    "\n",
    "sub_ense = ensembling(sub21744, sub_leave, 0.65, 0.55, 0.75)"
   ]
  },
  {
   "cell_type": "code",
   "execution_count": 37,
   "id": "insured-quilt",
   "metadata": {
    "execution": {
     "iopub.execute_input": "2021-07-06T05:35:08.256625Z",
     "iopub.status.busy": "2021-07-06T05:35:08.255935Z",
     "iopub.status.idle": "2021-07-06T05:35:09.003064Z",
     "shell.execute_reply": "2021-07-06T05:35:09.002475Z"
    },
    "papermill": {
     "duration": 0.822483,
     "end_time": "2021-07-06T05:35:09.003205",
     "exception": false,
     "start_time": "2021-07-06T05:35:08.180722",
     "status": "completed"
    },
    "tags": []
   },
   "outputs": [
    {
     "name": "stdout",
     "output_type": "stream",
     "text": [
      "__notebook__.ipynb   submission_leave.csv  val_X.csv   val_y2.csv\r\n",
      "submission_ense.csv  submission_xgb.csv    val_y1.csv  val_y3.csv\r\n"
     ]
    }
   ],
   "source": [
    "sub = sub_ense\n",
    "sub.to_csv(\"submission_ense.csv\",index=False)\n",
    "# Public Score: \n",
    "!ls"
   ]
  },
  {
   "cell_type": "markdown",
   "id": "isolated-firmware",
   "metadata": {
    "papermill": {
     "duration": 0.070443,
     "end_time": "2021-07-06T05:35:09.145307",
     "exception": false,
     "start_time": "2021-07-06T05:35:09.074864",
     "status": "completed"
    },
    "tags": []
   },
   "source": [
    "<div class=\"alert alert-success\">  \n",
    "</div>"
   ]
  },
  {
   "cell_type": "markdown",
   "id": "local-bunch",
   "metadata": {
    "papermill": {
     "duration": 0.070288,
     "end_time": "2021-07-06T05:35:09.285963",
     "exception": false,
     "start_time": "2021-07-06T05:35:09.215675",
     "status": "completed"
    },
    "tags": []
   },
   "source": [
    "<div class=\"alert alert-success\">  \n",
    "</div>"
   ]
  }
 ],
 "metadata": {
  "kernelspec": {
   "display_name": "Python 3",
   "language": "python",
   "name": "python3"
  },
  "language_info": {
   "codemirror_mode": {
    "name": "ipython",
    "version": 3
   },
   "file_extension": ".py",
   "mimetype": "text/x-python",
   "name": "python",
   "nbconvert_exporter": "python",
   "pygments_lexer": "ipython3",
   "version": "3.7.10"
  },
  "papermill": {
   "default_parameters": {},
   "duration": 133.617475,
   "end_time": "2021-07-06T05:35:10.166940",
   "environment_variables": {},
   "exception": null,
   "input_path": "__notebook__.ipynb",
   "output_path": "__notebook__.ipynb",
   "parameters": {},
   "start_time": "2021-07-06T05:32:56.549465",
   "version": "2.3.3"
  }
 },
 "nbformat": 4,
 "nbformat_minor": 5
}
